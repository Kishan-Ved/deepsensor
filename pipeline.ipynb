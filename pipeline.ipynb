{
 "cells": [
  {
   "cell_type": "markdown",
   "source": [
    "# The DeepSensor package\n",
    "\n",
    "*WIP Intro text*\n",
    "DeepSensor is a Python package for modelling environmental data with neural processes (NPs).\n",
    "\n",
    "DeepSensor wraps around `neuralprocesses`, an NP library, for the core modelling functionality.\n",
    "DeepSensor provides additional functionality for data processing, data loading, inference, and active learning.\n",
    "\n",
    "All you need is your `pandas` and `xarray` data.\n",
    "\n",
    "The level of abstraction in `deepsensor` aims to massively lowers the barrier to entry for non-experts and automate away the frustrating details for experts, while also allowing flexibility when needed.\n",
    "\n",
    "This notebook demonstrates an end-to-end modelling pipeline using `deepsensor` functionality."
   ],
   "metadata": {
    "collapsed": false
   }
  },
  {
   "cell_type": "markdown",
   "metadata": {},
   "source": [
    "## Imports/set-up"
   ]
  },
  {
   "cell_type": "code",
   "execution_count": 1,
   "metadata": {
    "ExecuteTime": {
     "end_time": "2023-05-30T17:51:40.246236823Z",
     "start_time": "2023-05-30T17:51:40.245484719Z"
    }
   },
   "outputs": [],
   "source": [
    "# Load the \"autoreload\" extension so that code can change\n",
    "%load_ext autoreload\n",
    "# Always reload modules so that as you change code in src, it gets loaded\n",
    "%autoreload 2"
   ]
  },
  {
   "cell_type": "markdown",
   "source": [
    "You must import either the `torch` or `tensorflow` extensions of deepsensor before other deepsensor modules. This ensures `deepsensor` has access to the deep learning library backend.\n"
   ],
   "metadata": {
    "collapsed": false
   }
  },
  {
   "cell_type": "code",
   "execution_count": 2,
   "metadata": {
    "ExecuteTime": {
     "end_time": "2023-05-30T17:51:51.647059566Z",
     "start_time": "2023-05-30T17:51:40.245938338Z"
    }
   },
   "outputs": [],
   "source": [
    "import deepsensor.torch as deepsensor\n",
    "# import deepsensor.tensorflow as ds"
   ]
  },
  {
   "cell_type": "code",
   "execution_count": 3,
   "outputs": [],
   "source": [
    "from deepsensor.data.processor import DataProcessor\n",
    "from deepsensor.data.loader import TaskLoader\n",
    "from deepsensor.model.models import ConvNP\n",
    "\n",
    "from deepsensor.data.loader import construct_x1x2_ds, construct_circ_time_ds\n",
    "from deepsensor.model.nps import compute_encoding_tensor\n",
    "from deepsensor.plot.utils import plot_context_encoding, plot_offgrid_context"
   ],
   "metadata": {
    "collapsed": false,
    "ExecuteTime": {
     "end_time": "2023-05-30T17:51:53.691857743Z",
     "start_time": "2023-05-30T17:51:51.652015418Z"
    }
   }
  },
  {
   "cell_type": "code",
   "execution_count": 4,
   "outputs": [],
   "source": [
    "import numpy as np\n",
    "import pandas as pd\n",
    "import xarray as xr\n",
    "import dask\n",
    "import json\n",
    "\n",
    "import lab as B\n",
    "\n",
    "import matplotlib.pyplot as plt\n",
    "import seaborn as sns\n",
    "import cartopy.crs as ccrs\n",
    "\n",
    "from pprint import pprint\n",
    "from tqdm.notebook import tqdm"
   ],
   "metadata": {
    "collapsed": false,
    "ExecuteTime": {
     "end_time": "2023-05-30T17:51:53.745070853Z",
     "start_time": "2023-05-30T17:51:53.697230535Z"
    }
   }
  },
  {
   "cell_type": "code",
   "execution_count": 5,
   "outputs": [],
   "source": [
    "if deepsensor.backend.str == \"torch\":\n",
    "    # Run on GPU if available\n",
    "    import torch\n",
    "    if torch.cuda.is_available():\n",
    "        # Set default GPU device\n",
    "        torch.set_default_device(\"cuda\")\n",
    "        B.set_global_device(\"cuda:0\")\n",
    "elif deepsensor.backend.str == \"tensorflow\":\n",
    "    # Run on GPU if available\n",
    "    import tensorflow as tf\n",
    "    if tf.test.is_gpu_available():\n",
    "        # Set default GPU device\n",
    "        tf.config.set_visible_devices(tf.config.list_physical_devices('GPU')[0], 'GPU')\n",
    "        B.set_global_device(\"GPU:0\")\n",
    "    # Check GPU visible to tf\n",
    "    # print(\"Num GPUs Available: \", len(tf.config.list_physical_devices('GPU')))"
   ],
   "metadata": {
    "collapsed": false,
    "ExecuteTime": {
     "end_time": "2023-05-30T17:51:54.147699140Z",
     "start_time": "2023-05-30T17:51:53.747302175Z"
    }
   }
  },
  {
   "cell_type": "markdown",
   "source": [
    "## Load your data!"
   ],
   "metadata": {
    "collapsed": false
   }
  },
  {
   "cell_type": "code",
   "execution_count": 6,
   "metadata": {
    "ExecuteTime": {
     "end_time": "2023-05-30T17:51:56.326431322Z",
     "start_time": "2023-05-30T17:51:54.158753737Z"
    }
   },
   "outputs": [
    {
     "data": {
      "text/plain": "<xarray.Dataset>\nDimensions:    (time: 25933, y: 280, x: 280)\nCoordinates:\n  * time       (time) datetime64[ns] 1950-01-01 1950-01-02 ... 2020-12-31\n  * y          (y) float64 3.488e+06 3.462e+06 ... -3.462e+06 -3.488e+06\n  * x          (x) float64 -3.488e+06 -3.462e+06 ... 3.462e+06 3.488e+06\n    dayofyear  (time) int64 dask.array<chunksize=(365,), meta=np.ndarray>\nData variables:\n    t2m        (time, y, x) float32 dask.array<chunksize=(365, 280, 280), meta=np.ndarray>",
      "text/html": "<div><svg style=\"position: absolute; width: 0; height: 0; overflow: hidden\">\n<defs>\n<symbol id=\"icon-database\" viewBox=\"0 0 32 32\">\n<path d=\"M16 0c-8.837 0-16 2.239-16 5v4c0 2.761 7.163 5 16 5s16-2.239 16-5v-4c0-2.761-7.163-5-16-5z\"></path>\n<path d=\"M16 17c-8.837 0-16-2.239-16-5v6c0 2.761 7.163 5 16 5s16-2.239 16-5v-6c0 2.761-7.163 5-16 5z\"></path>\n<path d=\"M16 26c-8.837 0-16-2.239-16-5v6c0 2.761 7.163 5 16 5s16-2.239 16-5v-6c0 2.761-7.163 5-16 5z\"></path>\n</symbol>\n<symbol id=\"icon-file-text2\" viewBox=\"0 0 32 32\">\n<path d=\"M28.681 7.159c-0.694-0.947-1.662-2.053-2.724-3.116s-2.169-2.030-3.116-2.724c-1.612-1.182-2.393-1.319-2.841-1.319h-15.5c-1.378 0-2.5 1.121-2.5 2.5v27c0 1.378 1.122 2.5 2.5 2.5h23c1.378 0 2.5-1.122 2.5-2.5v-19.5c0-0.448-0.137-1.23-1.319-2.841zM24.543 5.457c0.959 0.959 1.712 1.825 2.268 2.543h-4.811v-4.811c0.718 0.556 1.584 1.309 2.543 2.268zM28 29.5c0 0.271-0.229 0.5-0.5 0.5h-23c-0.271 0-0.5-0.229-0.5-0.5v-27c0-0.271 0.229-0.5 0.5-0.5 0 0 15.499-0 15.5 0v7c0 0.552 0.448 1 1 1h7v19.5z\"></path>\n<path d=\"M23 26h-14c-0.552 0-1-0.448-1-1s0.448-1 1-1h14c0.552 0 1 0.448 1 1s-0.448 1-1 1z\"></path>\n<path d=\"M23 22h-14c-0.552 0-1-0.448-1-1s0.448-1 1-1h14c0.552 0 1 0.448 1 1s-0.448 1-1 1z\"></path>\n<path d=\"M23 18h-14c-0.552 0-1-0.448-1-1s0.448-1 1-1h14c0.552 0 1 0.448 1 1s-0.448 1-1 1z\"></path>\n</symbol>\n</defs>\n</svg>\n<style>/* CSS stylesheet for displaying xarray objects in jupyterlab.\n *\n */\n\n:root {\n  --xr-font-color0: var(--jp-content-font-color0, rgba(0, 0, 0, 1));\n  --xr-font-color2: var(--jp-content-font-color2, rgba(0, 0, 0, 0.54));\n  --xr-font-color3: var(--jp-content-font-color3, rgba(0, 0, 0, 0.38));\n  --xr-border-color: var(--jp-border-color2, #e0e0e0);\n  --xr-disabled-color: var(--jp-layout-color3, #bdbdbd);\n  --xr-background-color: var(--jp-layout-color0, white);\n  --xr-background-color-row-even: var(--jp-layout-color1, white);\n  --xr-background-color-row-odd: var(--jp-layout-color2, #eeeeee);\n}\n\nhtml[theme=dark],\nbody[data-theme=dark],\nbody.vscode-dark {\n  --xr-font-color0: rgba(255, 255, 255, 1);\n  --xr-font-color2: rgba(255, 255, 255, 0.54);\n  --xr-font-color3: rgba(255, 255, 255, 0.38);\n  --xr-border-color: #1F1F1F;\n  --xr-disabled-color: #515151;\n  --xr-background-color: #111111;\n  --xr-background-color-row-even: #111111;\n  --xr-background-color-row-odd: #313131;\n}\n\n.xr-wrap {\n  display: block !important;\n  min-width: 300px;\n  max-width: 700px;\n}\n\n.xr-text-repr-fallback {\n  /* fallback to plain text repr when CSS is not injected (untrusted notebook) */\n  display: none;\n}\n\n.xr-header {\n  padding-top: 6px;\n  padding-bottom: 6px;\n  margin-bottom: 4px;\n  border-bottom: solid 1px var(--xr-border-color);\n}\n\n.xr-header > div,\n.xr-header > ul {\n  display: inline;\n  margin-top: 0;\n  margin-bottom: 0;\n}\n\n.xr-obj-type,\n.xr-array-name {\n  margin-left: 2px;\n  margin-right: 10px;\n}\n\n.xr-obj-type {\n  color: var(--xr-font-color2);\n}\n\n.xr-sections {\n  padding-left: 0 !important;\n  display: grid;\n  grid-template-columns: 150px auto auto 1fr 20px 20px;\n}\n\n.xr-section-item {\n  display: contents;\n}\n\n.xr-section-item input {\n  display: none;\n}\n\n.xr-section-item input + label {\n  color: var(--xr-disabled-color);\n}\n\n.xr-section-item input:enabled + label {\n  cursor: pointer;\n  color: var(--xr-font-color2);\n}\n\n.xr-section-item input:enabled + label:hover {\n  color: var(--xr-font-color0);\n}\n\n.xr-section-summary {\n  grid-column: 1;\n  color: var(--xr-font-color2);\n  font-weight: 500;\n}\n\n.xr-section-summary > span {\n  display: inline-block;\n  padding-left: 0.5em;\n}\n\n.xr-section-summary-in:disabled + label {\n  color: var(--xr-font-color2);\n}\n\n.xr-section-summary-in + label:before {\n  display: inline-block;\n  content: '►';\n  font-size: 11px;\n  width: 15px;\n  text-align: center;\n}\n\n.xr-section-summary-in:disabled + label:before {\n  color: var(--xr-disabled-color);\n}\n\n.xr-section-summary-in:checked + label:before {\n  content: '▼';\n}\n\n.xr-section-summary-in:checked + label > span {\n  display: none;\n}\n\n.xr-section-summary,\n.xr-section-inline-details {\n  padding-top: 4px;\n  padding-bottom: 4px;\n}\n\n.xr-section-inline-details {\n  grid-column: 2 / -1;\n}\n\n.xr-section-details {\n  display: none;\n  grid-column: 1 / -1;\n  margin-bottom: 5px;\n}\n\n.xr-section-summary-in:checked ~ .xr-section-details {\n  display: contents;\n}\n\n.xr-array-wrap {\n  grid-column: 1 / -1;\n  display: grid;\n  grid-template-columns: 20px auto;\n}\n\n.xr-array-wrap > label {\n  grid-column: 1;\n  vertical-align: top;\n}\n\n.xr-preview {\n  color: var(--xr-font-color3);\n}\n\n.xr-array-preview,\n.xr-array-data {\n  padding: 0 5px !important;\n  grid-column: 2;\n}\n\n.xr-array-data,\n.xr-array-in:checked ~ .xr-array-preview {\n  display: none;\n}\n\n.xr-array-in:checked ~ .xr-array-data,\n.xr-array-preview {\n  display: inline-block;\n}\n\n.xr-dim-list {\n  display: inline-block !important;\n  list-style: none;\n  padding: 0 !important;\n  margin: 0;\n}\n\n.xr-dim-list li {\n  display: inline-block;\n  padding: 0;\n  margin: 0;\n}\n\n.xr-dim-list:before {\n  content: '(';\n}\n\n.xr-dim-list:after {\n  content: ')';\n}\n\n.xr-dim-list li:not(:last-child):after {\n  content: ',';\n  padding-right: 5px;\n}\n\n.xr-has-index {\n  font-weight: bold;\n}\n\n.xr-var-list,\n.xr-var-item {\n  display: contents;\n}\n\n.xr-var-item > div,\n.xr-var-item label,\n.xr-var-item > .xr-var-name span {\n  background-color: var(--xr-background-color-row-even);\n  margin-bottom: 0;\n}\n\n.xr-var-item > .xr-var-name:hover span {\n  padding-right: 5px;\n}\n\n.xr-var-list > li:nth-child(odd) > div,\n.xr-var-list > li:nth-child(odd) > label,\n.xr-var-list > li:nth-child(odd) > .xr-var-name span {\n  background-color: var(--xr-background-color-row-odd);\n}\n\n.xr-var-name {\n  grid-column: 1;\n}\n\n.xr-var-dims {\n  grid-column: 2;\n}\n\n.xr-var-dtype {\n  grid-column: 3;\n  text-align: right;\n  color: var(--xr-font-color2);\n}\n\n.xr-var-preview {\n  grid-column: 4;\n}\n\n.xr-index-preview {\n  grid-column: 2 / 5;\n  color: var(--xr-font-color2);\n}\n\n.xr-var-name,\n.xr-var-dims,\n.xr-var-dtype,\n.xr-preview,\n.xr-attrs dt {\n  white-space: nowrap;\n  overflow: hidden;\n  text-overflow: ellipsis;\n  padding-right: 10px;\n}\n\n.xr-var-name:hover,\n.xr-var-dims:hover,\n.xr-var-dtype:hover,\n.xr-attrs dt:hover {\n  overflow: visible;\n  width: auto;\n  z-index: 1;\n}\n\n.xr-var-attrs,\n.xr-var-data,\n.xr-index-data {\n  display: none;\n  background-color: var(--xr-background-color) !important;\n  padding-bottom: 5px !important;\n}\n\n.xr-var-attrs-in:checked ~ .xr-var-attrs,\n.xr-var-data-in:checked ~ .xr-var-data,\n.xr-index-data-in:checked ~ .xr-index-data {\n  display: block;\n}\n\n.xr-var-data > table {\n  float: right;\n}\n\n.xr-var-name span,\n.xr-var-data,\n.xr-index-name div,\n.xr-index-data,\n.xr-attrs {\n  padding-left: 25px !important;\n}\n\n.xr-attrs,\n.xr-var-attrs,\n.xr-var-data,\n.xr-index-data {\n  grid-column: 1 / -1;\n}\n\ndl.xr-attrs {\n  padding: 0;\n  margin: 0;\n  display: grid;\n  grid-template-columns: 125px auto;\n}\n\n.xr-attrs dt,\n.xr-attrs dd {\n  padding: 0;\n  margin: 0;\n  float: left;\n  padding-right: 10px;\n  width: auto;\n}\n\n.xr-attrs dt {\n  font-weight: normal;\n  grid-column: 1;\n}\n\n.xr-attrs dt:hover span {\n  display: inline-block;\n  background: var(--xr-background-color);\n  padding-right: 10px;\n}\n\n.xr-attrs dd {\n  grid-column: 2;\n  white-space: pre-wrap;\n  word-break: break-all;\n}\n\n.xr-icon-database,\n.xr-icon-file-text2,\n.xr-no-icon {\n  display: inline-block;\n  vertical-align: middle;\n  width: 1em;\n  height: 1.5em !important;\n  stroke-width: 0;\n  stroke: currentColor;\n  fill: currentColor;\n}\n</style><pre class='xr-text-repr-fallback'>&lt;xarray.Dataset&gt;\nDimensions:    (time: 25933, y: 280, x: 280)\nCoordinates:\n  * time       (time) datetime64[ns] 1950-01-01 1950-01-02 ... 2020-12-31\n  * y          (y) float64 3.488e+06 3.462e+06 ... -3.462e+06 -3.488e+06\n  * x          (x) float64 -3.488e+06 -3.462e+06 ... 3.462e+06 3.488e+06\n    dayofyear  (time) int64 dask.array&lt;chunksize=(365,), meta=np.ndarray&gt;\nData variables:\n    t2m        (time, y, x) float32 dask.array&lt;chunksize=(365, 280, 280), meta=np.ndarray&gt;</pre><div class='xr-wrap' style='display:none'><div class='xr-header'><div class='xr-obj-type'>xarray.Dataset</div></div><ul class='xr-sections'><li class='xr-section-item'><input id='section-63e03909-6731-43ef-86f8-5b95c8a05311' class='xr-section-summary-in' type='checkbox' disabled ><label for='section-63e03909-6731-43ef-86f8-5b95c8a05311' class='xr-section-summary'  title='Expand/collapse section'>Dimensions:</label><div class='xr-section-inline-details'><ul class='xr-dim-list'><li><span class='xr-has-index'>time</span>: 25933</li><li><span class='xr-has-index'>y</span>: 280</li><li><span class='xr-has-index'>x</span>: 280</li></ul></div><div class='xr-section-details'></div></li><li class='xr-section-item'><input id='section-0ce9abe0-0d83-4c1a-ac26-44547f8ac445' class='xr-section-summary-in' type='checkbox'  checked><label for='section-0ce9abe0-0d83-4c1a-ac26-44547f8ac445' class='xr-section-summary' >Coordinates: <span>(4)</span></label><div class='xr-section-inline-details'></div><div class='xr-section-details'><ul class='xr-var-list'><li class='xr-var-item'><div class='xr-var-name'><span class='xr-has-index'>time</span></div><div class='xr-var-dims'>(time)</div><div class='xr-var-dtype'>datetime64[ns]</div><div class='xr-var-preview xr-preview'>1950-01-01 ... 2020-12-31</div><input id='attrs-2d1a3b3b-cb82-4f6d-bc8f-bf15b8935549' class='xr-var-attrs-in' type='checkbox' ><label for='attrs-2d1a3b3b-cb82-4f6d-bc8f-bf15b8935549' title='Show/Hide attributes'><svg class='icon xr-icon-file-text2'><use xlink:href='#icon-file-text2'></use></svg></label><input id='data-7f331143-6fcc-4d95-b1f1-d4ce8fa0ae22' class='xr-var-data-in' type='checkbox'><label for='data-7f331143-6fcc-4d95-b1f1-d4ce8fa0ae22' title='Show/Hide data repr'><svg class='icon xr-icon-database'><use xlink:href='#icon-database'></use></svg></label><div class='xr-var-attrs'><dl class='xr-attrs'><dt><span>axis :</span></dt><dd>T</dd><dt><span>standard_name :</span></dt><dd>time</dd></dl></div><div class='xr-var-data'><pre>array([&#x27;1950-01-01T00:00:00.000000000&#x27;, &#x27;1950-01-02T00:00:00.000000000&#x27;,\n       &#x27;1950-01-03T00:00:00.000000000&#x27;, ..., &#x27;2020-12-29T00:00:00.000000000&#x27;,\n       &#x27;2020-12-30T00:00:00.000000000&#x27;, &#x27;2020-12-31T00:00:00.000000000&#x27;],\n      dtype=&#x27;datetime64[ns]&#x27;)</pre></div></li><li class='xr-var-item'><div class='xr-var-name'><span class='xr-has-index'>y</span></div><div class='xr-var-dims'>(y)</div><div class='xr-var-dtype'>float64</div><div class='xr-var-preview xr-preview'>3.488e+06 3.462e+06 ... -3.488e+06</div><input id='attrs-1c272017-57a3-4bd4-ad3d-168444e84769' class='xr-var-attrs-in' type='checkbox' ><label for='attrs-1c272017-57a3-4bd4-ad3d-168444e84769' title='Show/Hide attributes'><svg class='icon xr-icon-file-text2'><use xlink:href='#icon-file-text2'></use></svg></label><input id='data-c106db2c-5a0d-48bb-80fd-9b3c0ab36da4' class='xr-var-data-in' type='checkbox'><label for='data-c106db2c-5a0d-48bb-80fd-9b3c0ab36da4' title='Show/Hide data repr'><svg class='icon xr-icon-database'><use xlink:href='#icon-database'></use></svg></label><div class='xr-var-attrs'><dl class='xr-attrs'><dt><span>axis :</span></dt><dd>Y</dd><dt><span>units :</span></dt><dd>m</dd><dt><span>standard_name :</span></dt><dd>projection_y_coordinate</dd><dt><span>long_name :</span></dt><dd>y coordinate of projection (northings)</dd></dl></div><div class='xr-var-data'><pre>array([ 3487500.,  3462500.,  3437500., ..., -3437500., -3462500., -3487500.])</pre></div></li><li class='xr-var-item'><div class='xr-var-name'><span class='xr-has-index'>x</span></div><div class='xr-var-dims'>(x)</div><div class='xr-var-dtype'>float64</div><div class='xr-var-preview xr-preview'>-3.488e+06 -3.462e+06 ... 3.488e+06</div><input id='attrs-723319de-6f3d-4813-aefc-761e2d6c1480' class='xr-var-attrs-in' type='checkbox' ><label for='attrs-723319de-6f3d-4813-aefc-761e2d6c1480' title='Show/Hide attributes'><svg class='icon xr-icon-file-text2'><use xlink:href='#icon-file-text2'></use></svg></label><input id='data-dbff8b24-553b-4558-af62-bfff41acbe58' class='xr-var-data-in' type='checkbox'><label for='data-dbff8b24-553b-4558-af62-bfff41acbe58' title='Show/Hide data repr'><svg class='icon xr-icon-database'><use xlink:href='#icon-database'></use></svg></label><div class='xr-var-attrs'><dl class='xr-attrs'><dt><span>axis :</span></dt><dd>X</dd><dt><span>units :</span></dt><dd>m</dd><dt><span>standard_name :</span></dt><dd>projection_x_coordinate</dd><dt><span>long_name :</span></dt><dd>x coordinate of projection (eastings)</dd></dl></div><div class='xr-var-data'><pre>array([-3487500., -3462500., -3437500., ...,  3437500.,  3462500.,  3487500.])</pre></div></li><li class='xr-var-item'><div class='xr-var-name'><span>dayofyear</span></div><div class='xr-var-dims'>(time)</div><div class='xr-var-dtype'>int64</div><div class='xr-var-preview xr-preview'>dask.array&lt;chunksize=(365,), meta=np.ndarray&gt;</div><input id='attrs-f20393a7-7972-4b1f-b9d2-8925a5235c5d' class='xr-var-attrs-in' type='checkbox' disabled><label for='attrs-f20393a7-7972-4b1f-b9d2-8925a5235c5d' title='Show/Hide attributes'><svg class='icon xr-icon-file-text2'><use xlink:href='#icon-file-text2'></use></svg></label><input id='data-2f7b0bb7-3698-489b-ae5a-c481235fdfd7' class='xr-var-data-in' type='checkbox'><label for='data-2f7b0bb7-3698-489b-ae5a-c481235fdfd7' title='Show/Hide data repr'><svg class='icon xr-icon-database'><use xlink:href='#icon-database'></use></svg></label><div class='xr-var-attrs'><dl class='xr-attrs'></dl></div><div class='xr-var-data'><table>\n    <tr>\n        <td>\n            <table style=\"border-collapse: collapse;\">\n                <thead>\n                    <tr>\n                        <td> </td>\n                        <th> Array </th>\n                        <th> Chunk </th>\n                    </tr>\n                </thead>\n                <tbody>\n                    \n                    <tr>\n                        <th> Bytes </th>\n                        <td> 202.60 kiB </td>\n                        <td> 2.86 kiB </td>\n                    </tr>\n                    \n                    <tr>\n                        <th> Shape </th>\n                        <td> (25933,) </td>\n                        <td> (366,) </td>\n                    </tr>\n                    <tr>\n                        <th> Dask graph </th>\n                        <td colspan=\"2\"> 71 chunks in 143 graph layers </td>\n                    </tr>\n                    <tr>\n                        <th> Data type </th>\n                        <td colspan=\"2\"> int64 numpy.ndarray </td>\n                    </tr>\n                </tbody>\n            </table>\n        </td>\n        <td>\n        <svg width=\"170\" height=\"75\" style=\"stroke:rgb(0,0,0);stroke-width:1\" >\n\n  <!-- Horizontal lines -->\n  <line x1=\"0\" y1=\"0\" x2=\"120\" y2=\"0\" style=\"stroke-width:2\" />\n  <line x1=\"0\" y1=\"25\" x2=\"120\" y2=\"25\" style=\"stroke-width:2\" />\n\n  <!-- Vertical lines -->\n  <line x1=\"0\" y1=\"0\" x2=\"0\" y2=\"25\" style=\"stroke-width:2\" />\n  <line x1=\"5\" y1=\"0\" x2=\"5\" y2=\"25\" />\n  <line x1=\"11\" y1=\"0\" x2=\"11\" y2=\"25\" />\n  <line x1=\"18\" y1=\"0\" x2=\"18\" y2=\"25\" />\n  <line x1=\"23\" y1=\"0\" x2=\"23\" y2=\"25\" />\n  <line x1=\"30\" y1=\"0\" x2=\"30\" y2=\"25\" />\n  <line x1=\"37\" y1=\"0\" x2=\"37\" y2=\"25\" />\n  <line x1=\"43\" y1=\"0\" x2=\"43\" y2=\"25\" />\n  <line x1=\"49\" y1=\"0\" x2=\"49\" y2=\"25\" />\n  <line x1=\"55\" y1=\"0\" x2=\"55\" y2=\"25\" />\n  <line x1=\"62\" y1=\"0\" x2=\"62\" y2=\"25\" />\n  <line x1=\"69\" y1=\"0\" x2=\"69\" y2=\"25\" />\n  <line x1=\"74\" y1=\"0\" x2=\"74\" y2=\"25\" />\n  <line x1=\"81\" y1=\"0\" x2=\"81\" y2=\"25\" />\n  <line x1=\"87\" y1=\"0\" x2=\"87\" y2=\"25\" />\n  <line x1=\"94\" y1=\"0\" x2=\"94\" y2=\"25\" />\n  <line x1=\"99\" y1=\"0\" x2=\"99\" y2=\"25\" />\n  <line x1=\"106\" y1=\"0\" x2=\"106\" y2=\"25\" />\n  <line x1=\"113\" y1=\"0\" x2=\"113\" y2=\"25\" />\n  <line x1=\"120\" y1=\"0\" x2=\"120\" y2=\"25\" style=\"stroke-width:2\" />\n\n  <!-- Colored Rectangle -->\n  <polygon points=\"0.0,0.0 120.0,0.0 120.0,25.412616514582485 0.0,25.412616514582485\" style=\"fill:#8B4903A0;stroke-width:0\"/>\n\n  <!-- Text -->\n  <text x=\"60.000000\" y=\"45.412617\" font-size=\"1.0rem\" font-weight=\"100\" text-anchor=\"middle\" >25933</text>\n  <text x=\"140.000000\" y=\"12.706308\" font-size=\"1.0rem\" font-weight=\"100\" text-anchor=\"middle\" transform=\"rotate(0,140.000000,12.706308)\">1</text>\n</svg>\n        </td>\n    </tr>\n</table></div></li></ul></div></li><li class='xr-section-item'><input id='section-2c61047b-70f8-4b8f-bc6f-4538ae86ad81' class='xr-section-summary-in' type='checkbox'  checked><label for='section-2c61047b-70f8-4b8f-bc6f-4538ae86ad81' class='xr-section-summary' >Data variables: <span>(1)</span></label><div class='xr-section-inline-details'></div><div class='xr-section-details'><ul class='xr-var-list'><li class='xr-var-item'><div class='xr-var-name'><span>t2m</span></div><div class='xr-var-dims'>(time, y, x)</div><div class='xr-var-dtype'>float32</div><div class='xr-var-preview xr-preview'>dask.array&lt;chunksize=(365, 280, 280), meta=np.ndarray&gt;</div><input id='attrs-349bbf39-b33c-4b5f-ad84-dd92793c51d6' class='xr-var-attrs-in' type='checkbox' disabled><label for='attrs-349bbf39-b33c-4b5f-ad84-dd92793c51d6' title='Show/Hide attributes'><svg class='icon xr-icon-file-text2'><use xlink:href='#icon-file-text2'></use></svg></label><input id='data-f7a5763f-6b29-464f-a25a-8dc66c93286e' class='xr-var-data-in' type='checkbox'><label for='data-f7a5763f-6b29-464f-a25a-8dc66c93286e' title='Show/Hide data repr'><svg class='icon xr-icon-database'><use xlink:href='#icon-database'></use></svg></label><div class='xr-var-attrs'><dl class='xr-attrs'></dl></div><div class='xr-var-data'><table>\n    <tr>\n        <td>\n            <table style=\"border-collapse: collapse;\">\n                <thead>\n                    <tr>\n                        <td> </td>\n                        <th> Array </th>\n                        <th> Chunk </th>\n                    </tr>\n                </thead>\n                <tbody>\n                    \n                    <tr>\n                        <th> Bytes </th>\n                        <td> 7.57 GiB </td>\n                        <td> 109.46 MiB </td>\n                    </tr>\n                    \n                    <tr>\n                        <th> Shape </th>\n                        <td> (25933, 280, 280) </td>\n                        <td> (366, 280, 280) </td>\n                    </tr>\n                    <tr>\n                        <th> Dask graph </th>\n                        <td colspan=\"2\"> 71 chunks in 143 graph layers </td>\n                    </tr>\n                    <tr>\n                        <th> Data type </th>\n                        <td colspan=\"2\"> float32 numpy.ndarray </td>\n                    </tr>\n                </tbody>\n            </table>\n        </td>\n        <td>\n        <svg width=\"156\" height=\"146\" style=\"stroke:rgb(0,0,0);stroke-width:1\" >\n\n  <!-- Horizontal lines -->\n  <line x1=\"10\" y1=\"0\" x2=\"80\" y2=\"70\" style=\"stroke-width:2\" />\n  <line x1=\"10\" y1=\"25\" x2=\"80\" y2=\"96\" style=\"stroke-width:2\" />\n\n  <!-- Vertical lines -->\n  <line x1=\"10\" y1=\"0\" x2=\"10\" y2=\"25\" style=\"stroke-width:2\" />\n  <line x1=\"12\" y1=\"2\" x2=\"12\" y2=\"28\" />\n  <line x1=\"16\" y1=\"6\" x2=\"16\" y2=\"32\" />\n  <line x1=\"20\" y1=\"10\" x2=\"20\" y2=\"36\" />\n  <line x1=\"23\" y1=\"13\" x2=\"23\" y2=\"39\" />\n  <line x1=\"27\" y1=\"17\" x2=\"27\" y2=\"43\" />\n  <line x1=\"31\" y1=\"21\" x2=\"31\" y2=\"47\" />\n  <line x1=\"35\" y1=\"25\" x2=\"35\" y2=\"51\" />\n  <line x1=\"38\" y1=\"28\" x2=\"38\" y2=\"54\" />\n  <line x1=\"42\" y1=\"32\" x2=\"42\" y2=\"58\" />\n  <line x1=\"46\" y1=\"36\" x2=\"46\" y2=\"62\" />\n  <line x1=\"50\" y1=\"40\" x2=\"50\" y2=\"66\" />\n  <line x1=\"53\" y1=\"43\" x2=\"53\" y2=\"69\" />\n  <line x1=\"57\" y1=\"47\" x2=\"57\" y2=\"73\" />\n  <line x1=\"61\" y1=\"51\" x2=\"61\" y2=\"77\" />\n  <line x1=\"65\" y1=\"55\" x2=\"65\" y2=\"81\" />\n  <line x1=\"68\" y1=\"58\" x2=\"68\" y2=\"84\" />\n  <line x1=\"72\" y1=\"62\" x2=\"72\" y2=\"88\" />\n  <line x1=\"76\" y1=\"66\" x2=\"76\" y2=\"92\" />\n  <line x1=\"80\" y1=\"70\" x2=\"80\" y2=\"96\" style=\"stroke-width:2\" />\n\n  <!-- Colored Rectangle -->\n  <polygon points=\"10.0,0.0 80.58823529411765,70.58823529411765 80.58823529411765,96.3717844409059 10.0,25.78354914678825\" style=\"fill:#8B4903A0;stroke-width:0\"/>\n\n  <!-- Horizontal lines -->\n  <line x1=\"10\" y1=\"0\" x2=\"35\" y2=\"0\" style=\"stroke-width:2\" />\n  <line x1=\"12\" y1=\"2\" x2=\"38\" y2=\"2\" />\n  <line x1=\"16\" y1=\"6\" x2=\"42\" y2=\"6\" />\n  <line x1=\"20\" y1=\"10\" x2=\"46\" y2=\"10\" />\n  <line x1=\"23\" y1=\"13\" x2=\"49\" y2=\"13\" />\n  <line x1=\"27\" y1=\"17\" x2=\"53\" y2=\"17\" />\n  <line x1=\"31\" y1=\"21\" x2=\"57\" y2=\"21\" />\n  <line x1=\"35\" y1=\"25\" x2=\"61\" y2=\"25\" />\n  <line x1=\"38\" y1=\"28\" x2=\"64\" y2=\"28\" />\n  <line x1=\"42\" y1=\"32\" x2=\"68\" y2=\"32\" />\n  <line x1=\"46\" y1=\"36\" x2=\"72\" y2=\"36\" />\n  <line x1=\"50\" y1=\"40\" x2=\"76\" y2=\"40\" />\n  <line x1=\"53\" y1=\"43\" x2=\"79\" y2=\"43\" />\n  <line x1=\"57\" y1=\"47\" x2=\"83\" y2=\"47\" />\n  <line x1=\"61\" y1=\"51\" x2=\"87\" y2=\"51\" />\n  <line x1=\"65\" y1=\"55\" x2=\"91\" y2=\"55\" />\n  <line x1=\"68\" y1=\"58\" x2=\"94\" y2=\"58\" />\n  <line x1=\"72\" y1=\"62\" x2=\"98\" y2=\"62\" />\n  <line x1=\"76\" y1=\"66\" x2=\"102\" y2=\"66\" />\n  <line x1=\"80\" y1=\"70\" x2=\"106\" y2=\"70\" style=\"stroke-width:2\" />\n\n  <!-- Vertical lines -->\n  <line x1=\"10\" y1=\"0\" x2=\"80\" y2=\"70\" style=\"stroke-width:2\" />\n  <line x1=\"35\" y1=\"0\" x2=\"106\" y2=\"70\" style=\"stroke-width:2\" />\n\n  <!-- Colored Rectangle -->\n  <polygon points=\"10.0,0.0 35.783549146788246,0.0 106.3717844409059,70.58823529411765 80.58823529411765,70.58823529411765\" style=\"fill:#8B4903A0;stroke-width:0\"/>\n\n  <!-- Horizontal lines -->\n  <line x1=\"80\" y1=\"70\" x2=\"106\" y2=\"70\" style=\"stroke-width:2\" />\n  <line x1=\"80\" y1=\"96\" x2=\"106\" y2=\"96\" style=\"stroke-width:2\" />\n\n  <!-- Vertical lines -->\n  <line x1=\"80\" y1=\"70\" x2=\"80\" y2=\"96\" style=\"stroke-width:2\" />\n  <line x1=\"106\" y1=\"70\" x2=\"106\" y2=\"96\" style=\"stroke-width:2\" />\n\n  <!-- Colored Rectangle -->\n  <polygon points=\"80.58823529411765,70.58823529411765 106.3717844409059,70.58823529411765 106.3717844409059,96.3717844409059 80.58823529411765,96.3717844409059\" style=\"fill:#ECB172A0;stroke-width:0\"/>\n\n  <!-- Text -->\n  <text x=\"93.480010\" y=\"116.371784\" font-size=\"1.0rem\" font-weight=\"100\" text-anchor=\"middle\" >280</text>\n  <text x=\"126.371784\" y=\"83.480010\" font-size=\"1.0rem\" font-weight=\"100\" text-anchor=\"middle\" transform=\"rotate(-90,126.371784,83.480010)\">280</text>\n  <text x=\"35.294118\" y=\"81.077667\" font-size=\"1.0rem\" font-weight=\"100\" text-anchor=\"middle\" transform=\"rotate(45,35.294118,81.077667)\">25933</text>\n</svg>\n        </td>\n    </tr>\n</table></div></li></ul></div></li><li class='xr-section-item'><input id='section-0a39ba5c-27ee-4a5a-a18e-f54518f71578' class='xr-section-summary-in' type='checkbox'  ><label for='section-0a39ba5c-27ee-4a5a-a18e-f54518f71578' class='xr-section-summary' >Indexes: <span>(3)</span></label><div class='xr-section-inline-details'></div><div class='xr-section-details'><ul class='xr-var-list'><li class='xr-var-item'><div class='xr-index-name'><div>time</div></div><div class='xr-index-preview'>PandasIndex</div><div></div><input id='index-a2529c0a-96cf-4a44-8ccf-a17fd1de0e96' class='xr-index-data-in' type='checkbox'/><label for='index-a2529c0a-96cf-4a44-8ccf-a17fd1de0e96' title='Show/Hide index repr'><svg class='icon xr-icon-database'><use xlink:href='#icon-database'></use></svg></label><div class='xr-index-data'><pre>PandasIndex(DatetimeIndex([&#x27;1950-01-01&#x27;, &#x27;1950-01-02&#x27;, &#x27;1950-01-03&#x27;, &#x27;1950-01-04&#x27;,\n               &#x27;1950-01-05&#x27;, &#x27;1950-01-06&#x27;, &#x27;1950-01-07&#x27;, &#x27;1950-01-08&#x27;,\n               &#x27;1950-01-09&#x27;, &#x27;1950-01-10&#x27;,\n               ...\n               &#x27;2020-12-22&#x27;, &#x27;2020-12-23&#x27;, &#x27;2020-12-24&#x27;, &#x27;2020-12-25&#x27;,\n               &#x27;2020-12-26&#x27;, &#x27;2020-12-27&#x27;, &#x27;2020-12-28&#x27;, &#x27;2020-12-29&#x27;,\n               &#x27;2020-12-30&#x27;, &#x27;2020-12-31&#x27;],\n              dtype=&#x27;datetime64[ns]&#x27;, name=&#x27;time&#x27;, length=25933, freq=None))</pre></div></li><li class='xr-var-item'><div class='xr-index-name'><div>y</div></div><div class='xr-index-preview'>PandasIndex</div><div></div><input id='index-0d1ea897-b429-45fc-8a93-fef7b2ccc105' class='xr-index-data-in' type='checkbox'/><label for='index-0d1ea897-b429-45fc-8a93-fef7b2ccc105' title='Show/Hide index repr'><svg class='icon xr-icon-database'><use xlink:href='#icon-database'></use></svg></label><div class='xr-index-data'><pre>PandasIndex(Index([ 3487500.0,  3462500.0,  3437500.0,  3412500.0,  3387500.0,  3362500.0,\n        3337500.0,  3312500.0,  3287500.0,  3262500.0,\n       ...\n       -3262500.0, -3287500.0, -3312500.0, -3337500.0, -3362500.0, -3387500.0,\n       -3412500.0, -3437500.0, -3462500.0, -3487500.0],\n      dtype=&#x27;float64&#x27;, name=&#x27;y&#x27;, length=280))</pre></div></li><li class='xr-var-item'><div class='xr-index-name'><div>x</div></div><div class='xr-index-preview'>PandasIndex</div><div></div><input id='index-86ba1e42-795c-4c34-bc30-2f7edb53c60d' class='xr-index-data-in' type='checkbox'/><label for='index-86ba1e42-795c-4c34-bc30-2f7edb53c60d' title='Show/Hide index repr'><svg class='icon xr-icon-database'><use xlink:href='#icon-database'></use></svg></label><div class='xr-index-data'><pre>PandasIndex(Index([-3487500.0, -3462500.0, -3437500.0, -3412500.0, -3387500.0, -3362500.0,\n       -3337500.0, -3312500.0, -3287500.0, -3262500.0,\n       ...\n        3262500.0,  3287500.0,  3312500.0,  3337500.0,  3362500.0,  3387500.0,\n        3412500.0,  3437500.0,  3462500.0,  3487500.0],\n      dtype=&#x27;float64&#x27;, name=&#x27;x&#x27;, length=280))</pre></div></li></ul></div></li><li class='xr-section-item'><input id='section-bdab97cb-eaf2-48e8-adc2-7b89f3ce81e7' class='xr-section-summary-in' type='checkbox' disabled ><label for='section-bdab97cb-eaf2-48e8-adc2-7b89f3ce81e7' class='xr-section-summary'  title='Expand/collapse section'>Attributes: <span>(0)</span></label><div class='xr-section-inline-details'></div><div class='xr-section-details'><dl class='xr-attrs'></dl></div></li></ul></div></div>"
     },
     "execution_count": 6,
     "metadata": {},
     "output_type": "execute_result"
    }
   ],
   "source": [
    "# era5_ds = xr.open_mfdataset('../deepsensor_old/data/antarctica/gridded/processed/*/*.nc')\n",
    "era5_raw_ds = xr.open_mfdataset('../deepsensor_old/data/antarctica/gridded/interim/tas_anom/*.nc')\n",
    "era5_raw_ds"
   ]
  },
  {
   "cell_type": "code",
   "execution_count": 7,
   "metadata": {
    "ExecuteTime": {
     "end_time": "2023-05-30T17:51:57.494196576Z",
     "start_time": "2023-05-30T17:51:56.325870868Z"
    }
   },
   "outputs": [
    {
     "data": {
      "text/plain": "<xarray.Dataset>\nDimensions:  (y: 280, x: 280)\nCoordinates:\n  * y        (y) float64 3.488e+06 3.462e+06 3.438e+06 ... -3.462e+06 -3.488e+06\n  * x        (x) float64 -3.488e+06 -3.462e+06 ... 3.462e+06 3.488e+06\n    lat      (y, x) float32 dask.array<chunksize=(280, 280), meta=np.ndarray>\n    lon      (y, x) float32 dask.array<chunksize=(280, 280), meta=np.ndarray>\nData variables:\n    surface  (y, x) float32 dask.array<chunksize=(280, 280), meta=np.ndarray>\n    mask     (y, x) float64 dask.array<chunksize=(280, 280), meta=np.ndarray>\nAttributes: (12/19)\n    Author:                      Mathieu Morlighem\n    Data_citation:               Morlighem M. et al., (2019), Deep glacial tr...\n    Notes:                       Data processed at the Department of Earth Sy...\n    Projection:                  Polar Stereographic South (71S,0E)\n    Title:                       BedMachine Antarctica\n    ice_density (kg m-3):        917.0\n    ...                          ...\n    spacing:                     500\n    valid_range:                 [0. 4.]\n    version:                     15-Jul-2020 (v2.0)\n    xmin:                        -3333000\n    ymax:                        3333000\n    Conventions:                 CF-1.7",
      "text/html": "<div><svg style=\"position: absolute; width: 0; height: 0; overflow: hidden\">\n<defs>\n<symbol id=\"icon-database\" viewBox=\"0 0 32 32\">\n<path d=\"M16 0c-8.837 0-16 2.239-16 5v4c0 2.761 7.163 5 16 5s16-2.239 16-5v-4c0-2.761-7.163-5-16-5z\"></path>\n<path d=\"M16 17c-8.837 0-16-2.239-16-5v6c0 2.761 7.163 5 16 5s16-2.239 16-5v-6c0 2.761-7.163 5-16 5z\"></path>\n<path d=\"M16 26c-8.837 0-16-2.239-16-5v6c0 2.761 7.163 5 16 5s16-2.239 16-5v-6c0 2.761-7.163 5-16 5z\"></path>\n</symbol>\n<symbol id=\"icon-file-text2\" viewBox=\"0 0 32 32\">\n<path d=\"M28.681 7.159c-0.694-0.947-1.662-2.053-2.724-3.116s-2.169-2.030-3.116-2.724c-1.612-1.182-2.393-1.319-2.841-1.319h-15.5c-1.378 0-2.5 1.121-2.5 2.5v27c0 1.378 1.122 2.5 2.5 2.5h23c1.378 0 2.5-1.122 2.5-2.5v-19.5c0-0.448-0.137-1.23-1.319-2.841zM24.543 5.457c0.959 0.959 1.712 1.825 2.268 2.543h-4.811v-4.811c0.718 0.556 1.584 1.309 2.543 2.268zM28 29.5c0 0.271-0.229 0.5-0.5 0.5h-23c-0.271 0-0.5-0.229-0.5-0.5v-27c0-0.271 0.229-0.5 0.5-0.5 0 0 15.499-0 15.5 0v7c0 0.552 0.448 1 1 1h7v19.5z\"></path>\n<path d=\"M23 26h-14c-0.552 0-1-0.448-1-1s0.448-1 1-1h14c0.552 0 1 0.448 1 1s-0.448 1-1 1z\"></path>\n<path d=\"M23 22h-14c-0.552 0-1-0.448-1-1s0.448-1 1-1h14c0.552 0 1 0.448 1 1s-0.448 1-1 1z\"></path>\n<path d=\"M23 18h-14c-0.552 0-1-0.448-1-1s0.448-1 1-1h14c0.552 0 1 0.448 1 1s-0.448 1-1 1z\"></path>\n</symbol>\n</defs>\n</svg>\n<style>/* CSS stylesheet for displaying xarray objects in jupyterlab.\n *\n */\n\n:root {\n  --xr-font-color0: var(--jp-content-font-color0, rgba(0, 0, 0, 1));\n  --xr-font-color2: var(--jp-content-font-color2, rgba(0, 0, 0, 0.54));\n  --xr-font-color3: var(--jp-content-font-color3, rgba(0, 0, 0, 0.38));\n  --xr-border-color: var(--jp-border-color2, #e0e0e0);\n  --xr-disabled-color: var(--jp-layout-color3, #bdbdbd);\n  --xr-background-color: var(--jp-layout-color0, white);\n  --xr-background-color-row-even: var(--jp-layout-color1, white);\n  --xr-background-color-row-odd: var(--jp-layout-color2, #eeeeee);\n}\n\nhtml[theme=dark],\nbody[data-theme=dark],\nbody.vscode-dark {\n  --xr-font-color0: rgba(255, 255, 255, 1);\n  --xr-font-color2: rgba(255, 255, 255, 0.54);\n  --xr-font-color3: rgba(255, 255, 255, 0.38);\n  --xr-border-color: #1F1F1F;\n  --xr-disabled-color: #515151;\n  --xr-background-color: #111111;\n  --xr-background-color-row-even: #111111;\n  --xr-background-color-row-odd: #313131;\n}\n\n.xr-wrap {\n  display: block !important;\n  min-width: 300px;\n  max-width: 700px;\n}\n\n.xr-text-repr-fallback {\n  /* fallback to plain text repr when CSS is not injected (untrusted notebook) */\n  display: none;\n}\n\n.xr-header {\n  padding-top: 6px;\n  padding-bottom: 6px;\n  margin-bottom: 4px;\n  border-bottom: solid 1px var(--xr-border-color);\n}\n\n.xr-header > div,\n.xr-header > ul {\n  display: inline;\n  margin-top: 0;\n  margin-bottom: 0;\n}\n\n.xr-obj-type,\n.xr-array-name {\n  margin-left: 2px;\n  margin-right: 10px;\n}\n\n.xr-obj-type {\n  color: var(--xr-font-color2);\n}\n\n.xr-sections {\n  padding-left: 0 !important;\n  display: grid;\n  grid-template-columns: 150px auto auto 1fr 20px 20px;\n}\n\n.xr-section-item {\n  display: contents;\n}\n\n.xr-section-item input {\n  display: none;\n}\n\n.xr-section-item input + label {\n  color: var(--xr-disabled-color);\n}\n\n.xr-section-item input:enabled + label {\n  cursor: pointer;\n  color: var(--xr-font-color2);\n}\n\n.xr-section-item input:enabled + label:hover {\n  color: var(--xr-font-color0);\n}\n\n.xr-section-summary {\n  grid-column: 1;\n  color: var(--xr-font-color2);\n  font-weight: 500;\n}\n\n.xr-section-summary > span {\n  display: inline-block;\n  padding-left: 0.5em;\n}\n\n.xr-section-summary-in:disabled + label {\n  color: var(--xr-font-color2);\n}\n\n.xr-section-summary-in + label:before {\n  display: inline-block;\n  content: '►';\n  font-size: 11px;\n  width: 15px;\n  text-align: center;\n}\n\n.xr-section-summary-in:disabled + label:before {\n  color: var(--xr-disabled-color);\n}\n\n.xr-section-summary-in:checked + label:before {\n  content: '▼';\n}\n\n.xr-section-summary-in:checked + label > span {\n  display: none;\n}\n\n.xr-section-summary,\n.xr-section-inline-details {\n  padding-top: 4px;\n  padding-bottom: 4px;\n}\n\n.xr-section-inline-details {\n  grid-column: 2 / -1;\n}\n\n.xr-section-details {\n  display: none;\n  grid-column: 1 / -1;\n  margin-bottom: 5px;\n}\n\n.xr-section-summary-in:checked ~ .xr-section-details {\n  display: contents;\n}\n\n.xr-array-wrap {\n  grid-column: 1 / -1;\n  display: grid;\n  grid-template-columns: 20px auto;\n}\n\n.xr-array-wrap > label {\n  grid-column: 1;\n  vertical-align: top;\n}\n\n.xr-preview {\n  color: var(--xr-font-color3);\n}\n\n.xr-array-preview,\n.xr-array-data {\n  padding: 0 5px !important;\n  grid-column: 2;\n}\n\n.xr-array-data,\n.xr-array-in:checked ~ .xr-array-preview {\n  display: none;\n}\n\n.xr-array-in:checked ~ .xr-array-data,\n.xr-array-preview {\n  display: inline-block;\n}\n\n.xr-dim-list {\n  display: inline-block !important;\n  list-style: none;\n  padding: 0 !important;\n  margin: 0;\n}\n\n.xr-dim-list li {\n  display: inline-block;\n  padding: 0;\n  margin: 0;\n}\n\n.xr-dim-list:before {\n  content: '(';\n}\n\n.xr-dim-list:after {\n  content: ')';\n}\n\n.xr-dim-list li:not(:last-child):after {\n  content: ',';\n  padding-right: 5px;\n}\n\n.xr-has-index {\n  font-weight: bold;\n}\n\n.xr-var-list,\n.xr-var-item {\n  display: contents;\n}\n\n.xr-var-item > div,\n.xr-var-item label,\n.xr-var-item > .xr-var-name span {\n  background-color: var(--xr-background-color-row-even);\n  margin-bottom: 0;\n}\n\n.xr-var-item > .xr-var-name:hover span {\n  padding-right: 5px;\n}\n\n.xr-var-list > li:nth-child(odd) > div,\n.xr-var-list > li:nth-child(odd) > label,\n.xr-var-list > li:nth-child(odd) > .xr-var-name span {\n  background-color: var(--xr-background-color-row-odd);\n}\n\n.xr-var-name {\n  grid-column: 1;\n}\n\n.xr-var-dims {\n  grid-column: 2;\n}\n\n.xr-var-dtype {\n  grid-column: 3;\n  text-align: right;\n  color: var(--xr-font-color2);\n}\n\n.xr-var-preview {\n  grid-column: 4;\n}\n\n.xr-index-preview {\n  grid-column: 2 / 5;\n  color: var(--xr-font-color2);\n}\n\n.xr-var-name,\n.xr-var-dims,\n.xr-var-dtype,\n.xr-preview,\n.xr-attrs dt {\n  white-space: nowrap;\n  overflow: hidden;\n  text-overflow: ellipsis;\n  padding-right: 10px;\n}\n\n.xr-var-name:hover,\n.xr-var-dims:hover,\n.xr-var-dtype:hover,\n.xr-attrs dt:hover {\n  overflow: visible;\n  width: auto;\n  z-index: 1;\n}\n\n.xr-var-attrs,\n.xr-var-data,\n.xr-index-data {\n  display: none;\n  background-color: var(--xr-background-color) !important;\n  padding-bottom: 5px !important;\n}\n\n.xr-var-attrs-in:checked ~ .xr-var-attrs,\n.xr-var-data-in:checked ~ .xr-var-data,\n.xr-index-data-in:checked ~ .xr-index-data {\n  display: block;\n}\n\n.xr-var-data > table {\n  float: right;\n}\n\n.xr-var-name span,\n.xr-var-data,\n.xr-index-name div,\n.xr-index-data,\n.xr-attrs {\n  padding-left: 25px !important;\n}\n\n.xr-attrs,\n.xr-var-attrs,\n.xr-var-data,\n.xr-index-data {\n  grid-column: 1 / -1;\n}\n\ndl.xr-attrs {\n  padding: 0;\n  margin: 0;\n  display: grid;\n  grid-template-columns: 125px auto;\n}\n\n.xr-attrs dt,\n.xr-attrs dd {\n  padding: 0;\n  margin: 0;\n  float: left;\n  padding-right: 10px;\n  width: auto;\n}\n\n.xr-attrs dt {\n  font-weight: normal;\n  grid-column: 1;\n}\n\n.xr-attrs dt:hover span {\n  display: inline-block;\n  background: var(--xr-background-color);\n  padding-right: 10px;\n}\n\n.xr-attrs dd {\n  grid-column: 2;\n  white-space: pre-wrap;\n  word-break: break-all;\n}\n\n.xr-icon-database,\n.xr-icon-file-text2,\n.xr-no-icon {\n  display: inline-block;\n  vertical-align: middle;\n  width: 1em;\n  height: 1.5em !important;\n  stroke-width: 0;\n  stroke: currentColor;\n  fill: currentColor;\n}\n</style><pre class='xr-text-repr-fallback'>&lt;xarray.Dataset&gt;\nDimensions:  (y: 280, x: 280)\nCoordinates:\n  * y        (y) float64 3.488e+06 3.462e+06 3.438e+06 ... -3.462e+06 -3.488e+06\n  * x        (x) float64 -3.488e+06 -3.462e+06 ... 3.462e+06 3.488e+06\n    lat      (y, x) float32 dask.array&lt;chunksize=(280, 280), meta=np.ndarray&gt;\n    lon      (y, x) float32 dask.array&lt;chunksize=(280, 280), meta=np.ndarray&gt;\nData variables:\n    surface  (y, x) float32 dask.array&lt;chunksize=(280, 280), meta=np.ndarray&gt;\n    mask     (y, x) float64 dask.array&lt;chunksize=(280, 280), meta=np.ndarray&gt;\nAttributes: (12/19)\n    Author:                      Mathieu Morlighem\n    Data_citation:               Morlighem M. et al., (2019), Deep glacial tr...\n    Notes:                       Data processed at the Department of Earth Sy...\n    Projection:                  Polar Stereographic South (71S,0E)\n    Title:                       BedMachine Antarctica\n    ice_density (kg m-3):        917.0\n    ...                          ...\n    spacing:                     500\n    valid_range:                 [0. 4.]\n    version:                     15-Jul-2020 (v2.0)\n    xmin:                        -3333000\n    ymax:                        3333000\n    Conventions:                 CF-1.7</pre><div class='xr-wrap' style='display:none'><div class='xr-header'><div class='xr-obj-type'>xarray.Dataset</div></div><ul class='xr-sections'><li class='xr-section-item'><input id='section-c9d0d8f2-6dae-46c6-af7d-a1b4d2eadf43' class='xr-section-summary-in' type='checkbox' disabled ><label for='section-c9d0d8f2-6dae-46c6-af7d-a1b4d2eadf43' class='xr-section-summary'  title='Expand/collapse section'>Dimensions:</label><div class='xr-section-inline-details'><ul class='xr-dim-list'><li><span class='xr-has-index'>y</span>: 280</li><li><span class='xr-has-index'>x</span>: 280</li></ul></div><div class='xr-section-details'></div></li><li class='xr-section-item'><input id='section-20be19bb-d446-4986-aed0-3805f9fca4d6' class='xr-section-summary-in' type='checkbox'  checked><label for='section-20be19bb-d446-4986-aed0-3805f9fca4d6' class='xr-section-summary' >Coordinates: <span>(4)</span></label><div class='xr-section-inline-details'></div><div class='xr-section-details'><ul class='xr-var-list'><li class='xr-var-item'><div class='xr-var-name'><span class='xr-has-index'>y</span></div><div class='xr-var-dims'>(y)</div><div class='xr-var-dtype'>float64</div><div class='xr-var-preview xr-preview'>3.488e+06 3.462e+06 ... -3.488e+06</div><input id='attrs-0fdcf0a9-deec-404a-85c4-6e95db014643' class='xr-var-attrs-in' type='checkbox' ><label for='attrs-0fdcf0a9-deec-404a-85c4-6e95db014643' title='Show/Hide attributes'><svg class='icon xr-icon-file-text2'><use xlink:href='#icon-file-text2'></use></svg></label><input id='data-46bbc97f-d926-47eb-981f-790a791fb4b0' class='xr-var-data-in' type='checkbox'><label for='data-46bbc97f-d926-47eb-981f-790a791fb4b0' title='Show/Hide data repr'><svg class='icon xr-icon-database'><use xlink:href='#icon-database'></use></svg></label><div class='xr-var-attrs'><dl class='xr-attrs'><dt><span>axis :</span></dt><dd>Y</dd><dt><span>units :</span></dt><dd>m</dd><dt><span>standard_name :</span></dt><dd>projection_y_coordinate</dd><dt><span>long_name :</span></dt><dd>y coordinate of projection (northings)</dd></dl></div><div class='xr-var-data'><pre>array([ 3487500.,  3462500.,  3437500., ..., -3437500., -3462500., -3487500.])</pre></div></li><li class='xr-var-item'><div class='xr-var-name'><span class='xr-has-index'>x</span></div><div class='xr-var-dims'>(x)</div><div class='xr-var-dtype'>float64</div><div class='xr-var-preview xr-preview'>-3.488e+06 -3.462e+06 ... 3.488e+06</div><input id='attrs-c26bc6ca-a0c2-48a0-b0e7-af4e2dc8c4fe' class='xr-var-attrs-in' type='checkbox' ><label for='attrs-c26bc6ca-a0c2-48a0-b0e7-af4e2dc8c4fe' title='Show/Hide attributes'><svg class='icon xr-icon-file-text2'><use xlink:href='#icon-file-text2'></use></svg></label><input id='data-606518f0-deea-46bb-9287-cbec87098055' class='xr-var-data-in' type='checkbox'><label for='data-606518f0-deea-46bb-9287-cbec87098055' title='Show/Hide data repr'><svg class='icon xr-icon-database'><use xlink:href='#icon-database'></use></svg></label><div class='xr-var-attrs'><dl class='xr-attrs'><dt><span>axis :</span></dt><dd>X</dd><dt><span>units :</span></dt><dd>m</dd><dt><span>standard_name :</span></dt><dd>projection_x_coordinate</dd><dt><span>long_name :</span></dt><dd>x coordinate of projection (eastings)</dd></dl></div><div class='xr-var-data'><pre>array([-3487500., -3462500., -3437500., ...,  3437500.,  3462500.,  3487500.])</pre></div></li><li class='xr-var-item'><div class='xr-var-name'><span>lat</span></div><div class='xr-var-dims'>(y, x)</div><div class='xr-var-dtype'>float32</div><div class='xr-var-preview xr-preview'>dask.array&lt;chunksize=(280, 280), meta=np.ndarray&gt;</div><input id='attrs-25d472f4-2c4a-4cb2-a3f8-f005a743fbe9' class='xr-var-attrs-in' type='checkbox' ><label for='attrs-25d472f4-2c4a-4cb2-a3f8-f005a743fbe9' title='Show/Hide attributes'><svg class='icon xr-icon-file-text2'><use xlink:href='#icon-file-text2'></use></svg></label><input id='data-8926d5c4-811a-46ce-bf0b-30e840713e53' class='xr-var-data-in' type='checkbox'><label for='data-8926d5c4-811a-46ce-bf0b-30e840713e53' title='Show/Hide data repr'><svg class='icon xr-icon-database'><use xlink:href='#icon-database'></use></svg></label><div class='xr-var-attrs'><dl class='xr-attrs'><dt><span>units :</span></dt><dd>degrees_north</dd><dt><span>standard_name :</span></dt><dd>latitude</dd><dt><span>long_name :</span></dt><dd>latitude coordinate</dd></dl></div><div class='xr-var-data'><table>\n    <tr>\n        <td>\n            <table style=\"border-collapse: collapse;\">\n                <thead>\n                    <tr>\n                        <td> </td>\n                        <th> Array </th>\n                        <th> Chunk </th>\n                    </tr>\n                </thead>\n                <tbody>\n                    \n                    <tr>\n                        <th> Bytes </th>\n                        <td> 306.25 kiB </td>\n                        <td> 306.25 kiB </td>\n                    </tr>\n                    \n                    <tr>\n                        <th> Shape </th>\n                        <td> (280, 280) </td>\n                        <td> (280, 280) </td>\n                    </tr>\n                    <tr>\n                        <th> Dask graph </th>\n                        <td colspan=\"2\"> 1 chunks in 5 graph layers </td>\n                    </tr>\n                    <tr>\n                        <th> Data type </th>\n                        <td colspan=\"2\"> float32 numpy.ndarray </td>\n                    </tr>\n                </tbody>\n            </table>\n        </td>\n        <td>\n        <svg width=\"170\" height=\"170\" style=\"stroke:rgb(0,0,0);stroke-width:1\" >\n\n  <!-- Horizontal lines -->\n  <line x1=\"0\" y1=\"0\" x2=\"120\" y2=\"0\" style=\"stroke-width:2\" />\n  <line x1=\"0\" y1=\"120\" x2=\"120\" y2=\"120\" style=\"stroke-width:2\" />\n\n  <!-- Vertical lines -->\n  <line x1=\"0\" y1=\"0\" x2=\"0\" y2=\"120\" style=\"stroke-width:2\" />\n  <line x1=\"120\" y1=\"0\" x2=\"120\" y2=\"120\" style=\"stroke-width:2\" />\n\n  <!-- Colored Rectangle -->\n  <polygon points=\"0.0,0.0 120.0,0.0 120.0,120.0 0.0,120.0\" style=\"fill:#ECB172A0;stroke-width:0\"/>\n\n  <!-- Text -->\n  <text x=\"60.000000\" y=\"140.000000\" font-size=\"1.0rem\" font-weight=\"100\" text-anchor=\"middle\" >280</text>\n  <text x=\"140.000000\" y=\"60.000000\" font-size=\"1.0rem\" font-weight=\"100\" text-anchor=\"middle\" transform=\"rotate(-90,140.000000,60.000000)\">280</text>\n</svg>\n        </td>\n    </tr>\n</table></div></li><li class='xr-var-item'><div class='xr-var-name'><span>lon</span></div><div class='xr-var-dims'>(y, x)</div><div class='xr-var-dtype'>float32</div><div class='xr-var-preview xr-preview'>dask.array&lt;chunksize=(280, 280), meta=np.ndarray&gt;</div><input id='attrs-5fe88309-35c4-4c08-9cc2-3fdd8e5350db' class='xr-var-attrs-in' type='checkbox' ><label for='attrs-5fe88309-35c4-4c08-9cc2-3fdd8e5350db' title='Show/Hide attributes'><svg class='icon xr-icon-file-text2'><use xlink:href='#icon-file-text2'></use></svg></label><input id='data-60a3c905-f282-49e7-93a9-124f0d923c6b' class='xr-var-data-in' type='checkbox'><label for='data-60a3c905-f282-49e7-93a9-124f0d923c6b' title='Show/Hide data repr'><svg class='icon xr-icon-database'><use xlink:href='#icon-database'></use></svg></label><div class='xr-var-attrs'><dl class='xr-attrs'><dt><span>units :</span></dt><dd>degrees_east</dd><dt><span>standard_name :</span></dt><dd>longitude</dd><dt><span>long_name :</span></dt><dd>longitude coordinate</dd></dl></div><div class='xr-var-data'><table>\n    <tr>\n        <td>\n            <table style=\"border-collapse: collapse;\">\n                <thead>\n                    <tr>\n                        <td> </td>\n                        <th> Array </th>\n                        <th> Chunk </th>\n                    </tr>\n                </thead>\n                <tbody>\n                    \n                    <tr>\n                        <th> Bytes </th>\n                        <td> 306.25 kiB </td>\n                        <td> 306.25 kiB </td>\n                    </tr>\n                    \n                    <tr>\n                        <th> Shape </th>\n                        <td> (280, 280) </td>\n                        <td> (280, 280) </td>\n                    </tr>\n                    <tr>\n                        <th> Dask graph </th>\n                        <td colspan=\"2\"> 1 chunks in 5 graph layers </td>\n                    </tr>\n                    <tr>\n                        <th> Data type </th>\n                        <td colspan=\"2\"> float32 numpy.ndarray </td>\n                    </tr>\n                </tbody>\n            </table>\n        </td>\n        <td>\n        <svg width=\"170\" height=\"170\" style=\"stroke:rgb(0,0,0);stroke-width:1\" >\n\n  <!-- Horizontal lines -->\n  <line x1=\"0\" y1=\"0\" x2=\"120\" y2=\"0\" style=\"stroke-width:2\" />\n  <line x1=\"0\" y1=\"120\" x2=\"120\" y2=\"120\" style=\"stroke-width:2\" />\n\n  <!-- Vertical lines -->\n  <line x1=\"0\" y1=\"0\" x2=\"0\" y2=\"120\" style=\"stroke-width:2\" />\n  <line x1=\"120\" y1=\"0\" x2=\"120\" y2=\"120\" style=\"stroke-width:2\" />\n\n  <!-- Colored Rectangle -->\n  <polygon points=\"0.0,0.0 120.0,0.0 120.0,120.0 0.0,120.0\" style=\"fill:#ECB172A0;stroke-width:0\"/>\n\n  <!-- Text -->\n  <text x=\"60.000000\" y=\"140.000000\" font-size=\"1.0rem\" font-weight=\"100\" text-anchor=\"middle\" >280</text>\n  <text x=\"140.000000\" y=\"60.000000\" font-size=\"1.0rem\" font-weight=\"100\" text-anchor=\"middle\" transform=\"rotate(-90,140.000000,60.000000)\">280</text>\n</svg>\n        </td>\n    </tr>\n</table></div></li></ul></div></li><li class='xr-section-item'><input id='section-5a221fec-29c1-4808-b1ec-1ab9532eb7a4' class='xr-section-summary-in' type='checkbox'  checked><label for='section-5a221fec-29c1-4808-b1ec-1ab9532eb7a4' class='xr-section-summary' >Data variables: <span>(2)</span></label><div class='xr-section-inline-details'></div><div class='xr-section-details'><ul class='xr-var-list'><li class='xr-var-item'><div class='xr-var-name'><span>surface</span></div><div class='xr-var-dims'>(y, x)</div><div class='xr-var-dtype'>float32</div><div class='xr-var-preview xr-preview'>dask.array&lt;chunksize=(280, 280), meta=np.ndarray&gt;</div><input id='attrs-b263ac57-fc0e-4a16-9c08-31378b20e762' class='xr-var-attrs-in' type='checkbox' ><label for='attrs-b263ac57-fc0e-4a16-9c08-31378b20e762' title='Show/Hide attributes'><svg class='icon xr-icon-file-text2'><use xlink:href='#icon-file-text2'></use></svg></label><input id='data-06e43e19-c33c-41ef-9a7d-749617015e72' class='xr-var-data-in' type='checkbox'><label for='data-06e43e19-c33c-41ef-9a7d-749617015e72' title='Show/Hide data repr'><svg class='icon xr-icon-database'><use xlink:href='#icon-database'></use></svg></label><div class='xr-var-attrs'><dl class='xr-attrs'><dt><span>standard_name :</span></dt><dd>surface_altitude</dd><dt><span>long_name :</span></dt><dd>ice surface elevation</dd><dt><span>units :</span></dt><dd>meters</dd><dt><span>grid_mapping :</span></dt><dd>lambert_azimuthal_equal_area</dd></dl></div><div class='xr-var-data'><table>\n    <tr>\n        <td>\n            <table style=\"border-collapse: collapse;\">\n                <thead>\n                    <tr>\n                        <td> </td>\n                        <th> Array </th>\n                        <th> Chunk </th>\n                    </tr>\n                </thead>\n                <tbody>\n                    \n                    <tr>\n                        <th> Bytes </th>\n                        <td> 306.25 kiB </td>\n                        <td> 306.25 kiB </td>\n                    </tr>\n                    \n                    <tr>\n                        <th> Shape </th>\n                        <td> (280, 280) </td>\n                        <td> (280, 280) </td>\n                    </tr>\n                    <tr>\n                        <th> Dask graph </th>\n                        <td colspan=\"2\"> 1 chunks in 2 graph layers </td>\n                    </tr>\n                    <tr>\n                        <th> Data type </th>\n                        <td colspan=\"2\"> float32 numpy.ndarray </td>\n                    </tr>\n                </tbody>\n            </table>\n        </td>\n        <td>\n        <svg width=\"170\" height=\"170\" style=\"stroke:rgb(0,0,0);stroke-width:1\" >\n\n  <!-- Horizontal lines -->\n  <line x1=\"0\" y1=\"0\" x2=\"120\" y2=\"0\" style=\"stroke-width:2\" />\n  <line x1=\"0\" y1=\"120\" x2=\"120\" y2=\"120\" style=\"stroke-width:2\" />\n\n  <!-- Vertical lines -->\n  <line x1=\"0\" y1=\"0\" x2=\"0\" y2=\"120\" style=\"stroke-width:2\" />\n  <line x1=\"120\" y1=\"0\" x2=\"120\" y2=\"120\" style=\"stroke-width:2\" />\n\n  <!-- Colored Rectangle -->\n  <polygon points=\"0.0,0.0 120.0,0.0 120.0,120.0 0.0,120.0\" style=\"fill:#ECB172A0;stroke-width:0\"/>\n\n  <!-- Text -->\n  <text x=\"60.000000\" y=\"140.000000\" font-size=\"1.0rem\" font-weight=\"100\" text-anchor=\"middle\" >280</text>\n  <text x=\"140.000000\" y=\"60.000000\" font-size=\"1.0rem\" font-weight=\"100\" text-anchor=\"middle\" transform=\"rotate(-90,140.000000,60.000000)\">280</text>\n</svg>\n        </td>\n    </tr>\n</table></div></li><li class='xr-var-item'><div class='xr-var-name'><span>mask</span></div><div class='xr-var-dims'>(y, x)</div><div class='xr-var-dtype'>float64</div><div class='xr-var-preview xr-preview'>dask.array&lt;chunksize=(280, 280), meta=np.ndarray&gt;</div><input id='attrs-ed3d5f30-30df-444e-82d6-b98a0e6131b7' class='xr-var-attrs-in' type='checkbox' ><label for='attrs-ed3d5f30-30df-444e-82d6-b98a0e6131b7' title='Show/Hide attributes'><svg class='icon xr-icon-file-text2'><use xlink:href='#icon-file-text2'></use></svg></label><input id='data-54bf18c4-d4ac-4980-bf8b-ea2f87bef044' class='xr-var-data-in' type='checkbox'><label for='data-54bf18c4-d4ac-4980-bf8b-ea2f87bef044' title='Show/Hide data repr'><svg class='icon xr-icon-database'><use xlink:href='#icon-database'></use></svg></label><div class='xr-var-attrs'><dl class='xr-attrs'><dt><span>long_name :</span></dt><dd>mask</dd><dt><span>flag_meanings :</span></dt><dd>ocean ice_free_land grounded_ice floating_ice lake_vostok</dd><dt><span>flag_values :</span></dt><dd>[0 1 2 3 4]</dd><dt><span>grid_mapping :</span></dt><dd>lambert_azimuthal_equal_area</dd></dl></div><div class='xr-var-data'><table>\n    <tr>\n        <td>\n            <table style=\"border-collapse: collapse;\">\n                <thead>\n                    <tr>\n                        <td> </td>\n                        <th> Array </th>\n                        <th> Chunk </th>\n                    </tr>\n                </thead>\n                <tbody>\n                    \n                    <tr>\n                        <th> Bytes </th>\n                        <td> 612.50 kiB </td>\n                        <td> 612.50 kiB </td>\n                    </tr>\n                    \n                    <tr>\n                        <th> Shape </th>\n                        <td> (280, 280) </td>\n                        <td> (280, 280) </td>\n                    </tr>\n                    <tr>\n                        <th> Dask graph </th>\n                        <td colspan=\"2\"> 1 chunks in 2 graph layers </td>\n                    </tr>\n                    <tr>\n                        <th> Data type </th>\n                        <td colspan=\"2\"> float64 numpy.ndarray </td>\n                    </tr>\n                </tbody>\n            </table>\n        </td>\n        <td>\n        <svg width=\"170\" height=\"170\" style=\"stroke:rgb(0,0,0);stroke-width:1\" >\n\n  <!-- Horizontal lines -->\n  <line x1=\"0\" y1=\"0\" x2=\"120\" y2=\"0\" style=\"stroke-width:2\" />\n  <line x1=\"0\" y1=\"120\" x2=\"120\" y2=\"120\" style=\"stroke-width:2\" />\n\n  <!-- Vertical lines -->\n  <line x1=\"0\" y1=\"0\" x2=\"0\" y2=\"120\" style=\"stroke-width:2\" />\n  <line x1=\"120\" y1=\"0\" x2=\"120\" y2=\"120\" style=\"stroke-width:2\" />\n\n  <!-- Colored Rectangle -->\n  <polygon points=\"0.0,0.0 120.0,0.0 120.0,120.0 0.0,120.0\" style=\"fill:#ECB172A0;stroke-width:0\"/>\n\n  <!-- Text -->\n  <text x=\"60.000000\" y=\"140.000000\" font-size=\"1.0rem\" font-weight=\"100\" text-anchor=\"middle\" >280</text>\n  <text x=\"140.000000\" y=\"60.000000\" font-size=\"1.0rem\" font-weight=\"100\" text-anchor=\"middle\" transform=\"rotate(-90,140.000000,60.000000)\">280</text>\n</svg>\n        </td>\n    </tr>\n</table></div></li></ul></div></li><li class='xr-section-item'><input id='section-ab950a6a-2de5-49eb-88b9-88c9e277ed93' class='xr-section-summary-in' type='checkbox'  ><label for='section-ab950a6a-2de5-49eb-88b9-88c9e277ed93' class='xr-section-summary' >Indexes: <span>(2)</span></label><div class='xr-section-inline-details'></div><div class='xr-section-details'><ul class='xr-var-list'><li class='xr-var-item'><div class='xr-index-name'><div>y</div></div><div class='xr-index-preview'>PandasIndex</div><div></div><input id='index-037cc17d-d4a9-4f70-aaee-5b5831b653b1' class='xr-index-data-in' type='checkbox'/><label for='index-037cc17d-d4a9-4f70-aaee-5b5831b653b1' title='Show/Hide index repr'><svg class='icon xr-icon-database'><use xlink:href='#icon-database'></use></svg></label><div class='xr-index-data'><pre>PandasIndex(Index([ 3487500.0,  3462500.0,  3437500.0,  3412500.0,  3387500.0,  3362500.0,\n        3337500.0,  3312500.0,  3287500.0,  3262500.0,\n       ...\n       -3262500.0, -3287500.0, -3312500.0, -3337500.0, -3362500.0, -3387500.0,\n       -3412500.0, -3437500.0, -3462500.0, -3487500.0],\n      dtype=&#x27;float64&#x27;, name=&#x27;y&#x27;, length=280))</pre></div></li><li class='xr-var-item'><div class='xr-index-name'><div>x</div></div><div class='xr-index-preview'>PandasIndex</div><div></div><input id='index-af1bc66e-a505-43b4-928f-418f78ac586d' class='xr-index-data-in' type='checkbox'/><label for='index-af1bc66e-a505-43b4-928f-418f78ac586d' title='Show/Hide index repr'><svg class='icon xr-icon-database'><use xlink:href='#icon-database'></use></svg></label><div class='xr-index-data'><pre>PandasIndex(Index([-3487500.0, -3462500.0, -3437500.0, -3412500.0, -3387500.0, -3362500.0,\n       -3337500.0, -3312500.0, -3287500.0, -3262500.0,\n       ...\n        3262500.0,  3287500.0,  3312500.0,  3337500.0,  3362500.0,  3387500.0,\n        3412500.0,  3437500.0,  3462500.0,  3487500.0],\n      dtype=&#x27;float64&#x27;, name=&#x27;x&#x27;, length=280))</pre></div></li></ul></div></li><li class='xr-section-item'><input id='section-c1567e62-c1d6-4afd-88a9-fbc6ac85205e' class='xr-section-summary-in' type='checkbox'  ><label for='section-c1567e62-c1d6-4afd-88a9-fbc6ac85205e' class='xr-section-summary' >Attributes: <span>(19)</span></label><div class='xr-section-inline-details'></div><div class='xr-section-details'><dl class='xr-attrs'><dt><span>Author :</span></dt><dd>Mathieu Morlighem</dd><dt><span>Data_citation :</span></dt><dd>Morlighem M. et al., (2019), Deep glacial troughs and stabilizing ridges unveiled beneath the margins of the Antarctic ice sheet, Nature Geoscience (accepted)</dd><dt><span>Notes :</span></dt><dd>Data processed at the Department of Earth System Science, University of California, Irvine</dd><dt><span>Projection :</span></dt><dd>Polar Stereographic South (71S,0E)</dd><dt><span>Title :</span></dt><dd>BedMachine Antarctica</dd><dt><span>ice_density (kg m-3) :</span></dt><dd>917.0</dd><dt><span>license :</span></dt><dd>No restrictions on access or use</dd><dt><span>no_data :</span></dt><dd>-9999.0</dd><dt><span>nx :</span></dt><dd>13333.0</dd><dt><span>ny :</span></dt><dd>13333.0</dd><dt><span>proj4 :</span></dt><dd>+init=epsg:3031</dd><dt><span>sea_water_density (kg m-3) :</span></dt><dd>1027.0</dd><dt><span>source :</span></dt><dd>Antarctic Digital Database (rock outcrop) and Jeremie Mouginot (pers. comm., grounding lines)</dd><dt><span>spacing :</span></dt><dd>500</dd><dt><span>valid_range :</span></dt><dd>[0. 4.]</dd><dt><span>version :</span></dt><dd>15-Jul-2020 (v2.0)</dd><dt><span>xmin :</span></dt><dd>-3333000</dd><dt><span>ymax :</span></dt><dd>3333000</dd><dt><span>Conventions :</span></dt><dd>CF-1.7</dd></dl></div></li></ul></div></div>"
     },
     "execution_count": 7,
     "metadata": {},
     "output_type": "execute_result"
    }
   ],
   "source": [
    "aux_raw_ds = xr.open_mfdataset('../deepsensor_old/data/antarctica/auxiliary/interim/*25000m/*.nc')\n",
    "aux_raw_ds = aux_raw_ds[['surface', 'mask']]\n",
    "aux_raw_ds"
   ]
  },
  {
   "cell_type": "code",
   "execution_count": 8,
   "metadata": {
    "ExecuteTime": {
     "end_time": "2023-05-30T17:51:59.472184056Z",
     "start_time": "2023-05-30T17:51:57.504461394Z"
    }
   },
   "outputs": [
    {
     "data": {
      "text/plain": "                                                               tas\ntime       station          y             x                       \n1948-04-01 Macquarie_Island -3.638593e+06  1.401585e+06   5.885714\n1948-04-02 Macquarie_Island -3.638593e+06  1.401585e+06   6.675000\n1948-04-03 Macquarie_Island -3.638593e+06  1.401585e+06   4.775000\n1948-04-04 Macquarie_Island -3.638593e+06  1.401585e+06   5.150000\n1948-04-05 Macquarie_Island -3.638593e+06  1.401585e+06   4.037500\n...                                                            ...\n2022-06-14 Sky_Blu           5.380525e+05 -1.606516e+06 -24.912500\n2022-06-15 Butler Island     9.847784e+05 -1.717203e+06 -19.669524\n           Limbert           8.072843e+05 -1.351549e+06 -23.887500\n           Rothera           9.270759e+05 -2.308923e+06  -9.895833\n           Sky_Blu           5.380525e+05 -1.606516e+06 -26.587500\n\n[941850 rows x 1 columns]",
      "text/html": "<div>\n<style scoped>\n    .dataframe tbody tr th:only-of-type {\n        vertical-align: middle;\n    }\n\n    .dataframe tbody tr th {\n        vertical-align: top;\n    }\n\n    .dataframe thead th {\n        text-align: right;\n    }\n</style>\n<table border=\"1\" class=\"dataframe\">\n  <thead>\n    <tr style=\"text-align: right;\">\n      <th></th>\n      <th></th>\n      <th></th>\n      <th></th>\n      <th>tas</th>\n    </tr>\n    <tr>\n      <th>time</th>\n      <th>station</th>\n      <th>y</th>\n      <th>x</th>\n      <th></th>\n    </tr>\n  </thead>\n  <tbody>\n    <tr>\n      <th>1948-04-01</th>\n      <th>Macquarie_Island</th>\n      <th>-3.638593e+06</th>\n      <th>1.401585e+06</th>\n      <td>5.885714</td>\n    </tr>\n    <tr>\n      <th>1948-04-02</th>\n      <th>Macquarie_Island</th>\n      <th>-3.638593e+06</th>\n      <th>1.401585e+06</th>\n      <td>6.675000</td>\n    </tr>\n    <tr>\n      <th>1948-04-03</th>\n      <th>Macquarie_Island</th>\n      <th>-3.638593e+06</th>\n      <th>1.401585e+06</th>\n      <td>4.775000</td>\n    </tr>\n    <tr>\n      <th>1948-04-04</th>\n      <th>Macquarie_Island</th>\n      <th>-3.638593e+06</th>\n      <th>1.401585e+06</th>\n      <td>5.150000</td>\n    </tr>\n    <tr>\n      <th>1948-04-05</th>\n      <th>Macquarie_Island</th>\n      <th>-3.638593e+06</th>\n      <th>1.401585e+06</th>\n      <td>4.037500</td>\n    </tr>\n    <tr>\n      <th>...</th>\n      <th>...</th>\n      <th>...</th>\n      <th>...</th>\n      <td>...</td>\n    </tr>\n    <tr>\n      <th>2022-06-14</th>\n      <th>Sky_Blu</th>\n      <th>5.380525e+05</th>\n      <th>-1.606516e+06</th>\n      <td>-24.912500</td>\n    </tr>\n    <tr>\n      <th rowspan=\"4\" valign=\"top\">2022-06-15</th>\n      <th>Butler Island</th>\n      <th>9.847784e+05</th>\n      <th>-1.717203e+06</th>\n      <td>-19.669524</td>\n    </tr>\n    <tr>\n      <th>Limbert</th>\n      <th>8.072843e+05</th>\n      <th>-1.351549e+06</th>\n      <td>-23.887500</td>\n    </tr>\n    <tr>\n      <th>Rothera</th>\n      <th>9.270759e+05</th>\n      <th>-2.308923e+06</th>\n      <td>-9.895833</td>\n    </tr>\n    <tr>\n      <th>Sky_Blu</th>\n      <th>5.380525e+05</th>\n      <th>-1.606516e+06</th>\n      <td>-26.587500</td>\n    </tr>\n  </tbody>\n</table>\n<p>941850 rows × 1 columns</p>\n</div>"
     },
     "execution_count": 8,
     "metadata": {},
     "output_type": "execute_result"
    }
   ],
   "source": [
    "station_raw_df = pd.read_csv('../deepsensor_old/data/antarctica/station/interim/XY_station.csv')\n",
    "station_raw_df = station_raw_df.rename(columns={'date': 'time'})\n",
    "station_raw_df['time'] = pd.to_datetime(station_raw_df['time'])\n",
    "station_raw_df = station_raw_df.set_index(['time', 'station', 'y', 'x']).sort_index()[['tas']]\n",
    "station_raw_df"
   ]
  },
  {
   "cell_type": "markdown",
   "source": [
    "## Data processing\n",
    "\n",
    "We will now normalise data (either to have zero mean and unit variance or lie in [-1, 1]), and standardise the spatial coordinates to be in the range [0, 1].\n",
    "\n",
    "TODO\n",
    "- Note on variable IDs inferred from data names here?"
   ],
   "metadata": {
    "collapsed": false
   }
  },
  {
   "cell_type": "markdown",
   "source": [
    "### Normalise data with DataProcessor\n",
    "\n",
    "When instantiating a `DataProcessor` object, specify the names of the spatial coordinates and their raw values to normalise to 0 and 1."
   ],
   "metadata": {
    "collapsed": false
   }
  },
  {
   "cell_type": "code",
   "execution_count": 9,
   "outputs": [],
   "source": [
    "data_processor = DataProcessor(\n",
    "    x1_name='y', x1_map=(0, 3.5e6),\n",
    "    x2_name='x', x2_map=(0, 3.5e6),\n",
    "    verbose=True,\n",
    ")"
   ],
   "metadata": {
    "collapsed": false,
    "ExecuteTime": {
     "end_time": "2023-05-30T17:51:59.527375429Z",
     "start_time": "2023-05-30T17:51:59.476280091Z"
    }
   }
  },
  {
   "cell_type": "code",
   "execution_count": 10,
   "outputs": [
    {
     "name": "stdout",
     "output_type": "stream",
     "text": [
      "Normalisation params for t2m not computed. Computing now... Done. t2m mean=0.050, std=3.834\n",
      "Normalisation params for tas not computed. Computing now... Done. tas mean=-16.262, std=14.696\n",
      "Normalisation params for surface not computed. Computing now... Done. surface min=0.000, max=4047.722\n",
      "Normalisation params for mask not computed. Computing now... Done. mask min=0.000, max=1.000\n"
     ]
    }
   ],
   "source": [
    "era5_ds, station_df = data_processor([era5_raw_ds, station_raw_df])\n",
    "aux_ds = data_processor(aux_raw_ds, method=\"min_max\")"
   ],
   "metadata": {
    "collapsed": false,
    "ExecuteTime": {
     "end_time": "2023-05-30T17:52:26.263256734Z",
     "start_time": "2023-05-30T17:51:59.527512472Z"
    }
   }
  },
  {
   "cell_type": "code",
   "execution_count": 11,
   "outputs": [
    {
     "name": "stdout",
     "output_type": "stream",
     "text": [
      "{'coords': {'x1': {'map': (0, 3500000.0), 'name': 'y'},\n",
      "            'x2': {'map': (0, 3500000.0), 'name': 'x'}},\n",
      " 'mask': {'max': 1.0, 'min': 0.0},\n",
      " 'surface': {'max': 4047.721923828125, 'min': 0.0},\n",
      " 't2m': {'mean': 0.05024006962776184, 'std': 3.8340163230895996},\n",
      " 'tas': {'mean': -16.261720883718514, 'std': 14.695655954303945}}\n"
     ]
    }
   ],
   "source": [
    "pprint(data_processor.norm_params)"
   ],
   "metadata": {
    "collapsed": false,
    "ExecuteTime": {
     "end_time": "2023-05-30T17:52:26.383110937Z",
     "start_time": "2023-05-30T17:52:26.257546102Z"
    }
   }
  },
  {
   "cell_type": "markdown",
   "source": [
    "The normalised data now has standardised `x1` and `x2` coordinates, and the data has been normalised to have zero mean and unit variance."
   ],
   "metadata": {
    "collapsed": false
   }
  },
  {
   "cell_type": "code",
   "execution_count": 12,
   "outputs": [
    {
     "data": {
      "text/plain": "<xarray.Dataset>\nDimensions:    (time: 25933, x1: 280, x2: 280)\nCoordinates:\n  * time       (time) datetime64[ns] 1950-01-01 1950-01-02 ... 2020-12-31\n  * x1         (x1) float64 0.9964 0.9893 0.9821 ... -0.9821 -0.9893 -0.9964\n  * x2         (x2) float64 -0.9964 -0.9893 -0.9821 ... 0.9821 0.9893 0.9964\n    dayofyear  (time) int64 1 2 3 4 5 6 7 8 ... 359 360 361 362 363 364 365 366\nData variables:\n    t2m        (time, x1, x2) float32 -0.1377 -0.1358 -0.131 ... 0.05715 0.0261",
      "text/html": "<div><svg style=\"position: absolute; width: 0; height: 0; overflow: hidden\">\n<defs>\n<symbol id=\"icon-database\" viewBox=\"0 0 32 32\">\n<path d=\"M16 0c-8.837 0-16 2.239-16 5v4c0 2.761 7.163 5 16 5s16-2.239 16-5v-4c0-2.761-7.163-5-16-5z\"></path>\n<path d=\"M16 17c-8.837 0-16-2.239-16-5v6c0 2.761 7.163 5 16 5s16-2.239 16-5v-6c0 2.761-7.163 5-16 5z\"></path>\n<path d=\"M16 26c-8.837 0-16-2.239-16-5v6c0 2.761 7.163 5 16 5s16-2.239 16-5v-6c0 2.761-7.163 5-16 5z\"></path>\n</symbol>\n<symbol id=\"icon-file-text2\" viewBox=\"0 0 32 32\">\n<path d=\"M28.681 7.159c-0.694-0.947-1.662-2.053-2.724-3.116s-2.169-2.030-3.116-2.724c-1.612-1.182-2.393-1.319-2.841-1.319h-15.5c-1.378 0-2.5 1.121-2.5 2.5v27c0 1.378 1.122 2.5 2.5 2.5h23c1.378 0 2.5-1.122 2.5-2.5v-19.5c0-0.448-0.137-1.23-1.319-2.841zM24.543 5.457c0.959 0.959 1.712 1.825 2.268 2.543h-4.811v-4.811c0.718 0.556 1.584 1.309 2.543 2.268zM28 29.5c0 0.271-0.229 0.5-0.5 0.5h-23c-0.271 0-0.5-0.229-0.5-0.5v-27c0-0.271 0.229-0.5 0.5-0.5 0 0 15.499-0 15.5 0v7c0 0.552 0.448 1 1 1h7v19.5z\"></path>\n<path d=\"M23 26h-14c-0.552 0-1-0.448-1-1s0.448-1 1-1h14c0.552 0 1 0.448 1 1s-0.448 1-1 1z\"></path>\n<path d=\"M23 22h-14c-0.552 0-1-0.448-1-1s0.448-1 1-1h14c0.552 0 1 0.448 1 1s-0.448 1-1 1z\"></path>\n<path d=\"M23 18h-14c-0.552 0-1-0.448-1-1s0.448-1 1-1h14c0.552 0 1 0.448 1 1s-0.448 1-1 1z\"></path>\n</symbol>\n</defs>\n</svg>\n<style>/* CSS stylesheet for displaying xarray objects in jupyterlab.\n *\n */\n\n:root {\n  --xr-font-color0: var(--jp-content-font-color0, rgba(0, 0, 0, 1));\n  --xr-font-color2: var(--jp-content-font-color2, rgba(0, 0, 0, 0.54));\n  --xr-font-color3: var(--jp-content-font-color3, rgba(0, 0, 0, 0.38));\n  --xr-border-color: var(--jp-border-color2, #e0e0e0);\n  --xr-disabled-color: var(--jp-layout-color3, #bdbdbd);\n  --xr-background-color: var(--jp-layout-color0, white);\n  --xr-background-color-row-even: var(--jp-layout-color1, white);\n  --xr-background-color-row-odd: var(--jp-layout-color2, #eeeeee);\n}\n\nhtml[theme=dark],\nbody[data-theme=dark],\nbody.vscode-dark {\n  --xr-font-color0: rgba(255, 255, 255, 1);\n  --xr-font-color2: rgba(255, 255, 255, 0.54);\n  --xr-font-color3: rgba(255, 255, 255, 0.38);\n  --xr-border-color: #1F1F1F;\n  --xr-disabled-color: #515151;\n  --xr-background-color: #111111;\n  --xr-background-color-row-even: #111111;\n  --xr-background-color-row-odd: #313131;\n}\n\n.xr-wrap {\n  display: block !important;\n  min-width: 300px;\n  max-width: 700px;\n}\n\n.xr-text-repr-fallback {\n  /* fallback to plain text repr when CSS is not injected (untrusted notebook) */\n  display: none;\n}\n\n.xr-header {\n  padding-top: 6px;\n  padding-bottom: 6px;\n  margin-bottom: 4px;\n  border-bottom: solid 1px var(--xr-border-color);\n}\n\n.xr-header > div,\n.xr-header > ul {\n  display: inline;\n  margin-top: 0;\n  margin-bottom: 0;\n}\n\n.xr-obj-type,\n.xr-array-name {\n  margin-left: 2px;\n  margin-right: 10px;\n}\n\n.xr-obj-type {\n  color: var(--xr-font-color2);\n}\n\n.xr-sections {\n  padding-left: 0 !important;\n  display: grid;\n  grid-template-columns: 150px auto auto 1fr 20px 20px;\n}\n\n.xr-section-item {\n  display: contents;\n}\n\n.xr-section-item input {\n  display: none;\n}\n\n.xr-section-item input + label {\n  color: var(--xr-disabled-color);\n}\n\n.xr-section-item input:enabled + label {\n  cursor: pointer;\n  color: var(--xr-font-color2);\n}\n\n.xr-section-item input:enabled + label:hover {\n  color: var(--xr-font-color0);\n}\n\n.xr-section-summary {\n  grid-column: 1;\n  color: var(--xr-font-color2);\n  font-weight: 500;\n}\n\n.xr-section-summary > span {\n  display: inline-block;\n  padding-left: 0.5em;\n}\n\n.xr-section-summary-in:disabled + label {\n  color: var(--xr-font-color2);\n}\n\n.xr-section-summary-in + label:before {\n  display: inline-block;\n  content: '►';\n  font-size: 11px;\n  width: 15px;\n  text-align: center;\n}\n\n.xr-section-summary-in:disabled + label:before {\n  color: var(--xr-disabled-color);\n}\n\n.xr-section-summary-in:checked + label:before {\n  content: '▼';\n}\n\n.xr-section-summary-in:checked + label > span {\n  display: none;\n}\n\n.xr-section-summary,\n.xr-section-inline-details {\n  padding-top: 4px;\n  padding-bottom: 4px;\n}\n\n.xr-section-inline-details {\n  grid-column: 2 / -1;\n}\n\n.xr-section-details {\n  display: none;\n  grid-column: 1 / -1;\n  margin-bottom: 5px;\n}\n\n.xr-section-summary-in:checked ~ .xr-section-details {\n  display: contents;\n}\n\n.xr-array-wrap {\n  grid-column: 1 / -1;\n  display: grid;\n  grid-template-columns: 20px auto;\n}\n\n.xr-array-wrap > label {\n  grid-column: 1;\n  vertical-align: top;\n}\n\n.xr-preview {\n  color: var(--xr-font-color3);\n}\n\n.xr-array-preview,\n.xr-array-data {\n  padding: 0 5px !important;\n  grid-column: 2;\n}\n\n.xr-array-data,\n.xr-array-in:checked ~ .xr-array-preview {\n  display: none;\n}\n\n.xr-array-in:checked ~ .xr-array-data,\n.xr-array-preview {\n  display: inline-block;\n}\n\n.xr-dim-list {\n  display: inline-block !important;\n  list-style: none;\n  padding: 0 !important;\n  margin: 0;\n}\n\n.xr-dim-list li {\n  display: inline-block;\n  padding: 0;\n  margin: 0;\n}\n\n.xr-dim-list:before {\n  content: '(';\n}\n\n.xr-dim-list:after {\n  content: ')';\n}\n\n.xr-dim-list li:not(:last-child):after {\n  content: ',';\n  padding-right: 5px;\n}\n\n.xr-has-index {\n  font-weight: bold;\n}\n\n.xr-var-list,\n.xr-var-item {\n  display: contents;\n}\n\n.xr-var-item > div,\n.xr-var-item label,\n.xr-var-item > .xr-var-name span {\n  background-color: var(--xr-background-color-row-even);\n  margin-bottom: 0;\n}\n\n.xr-var-item > .xr-var-name:hover span {\n  padding-right: 5px;\n}\n\n.xr-var-list > li:nth-child(odd) > div,\n.xr-var-list > li:nth-child(odd) > label,\n.xr-var-list > li:nth-child(odd) > .xr-var-name span {\n  background-color: var(--xr-background-color-row-odd);\n}\n\n.xr-var-name {\n  grid-column: 1;\n}\n\n.xr-var-dims {\n  grid-column: 2;\n}\n\n.xr-var-dtype {\n  grid-column: 3;\n  text-align: right;\n  color: var(--xr-font-color2);\n}\n\n.xr-var-preview {\n  grid-column: 4;\n}\n\n.xr-index-preview {\n  grid-column: 2 / 5;\n  color: var(--xr-font-color2);\n}\n\n.xr-var-name,\n.xr-var-dims,\n.xr-var-dtype,\n.xr-preview,\n.xr-attrs dt {\n  white-space: nowrap;\n  overflow: hidden;\n  text-overflow: ellipsis;\n  padding-right: 10px;\n}\n\n.xr-var-name:hover,\n.xr-var-dims:hover,\n.xr-var-dtype:hover,\n.xr-attrs dt:hover {\n  overflow: visible;\n  width: auto;\n  z-index: 1;\n}\n\n.xr-var-attrs,\n.xr-var-data,\n.xr-index-data {\n  display: none;\n  background-color: var(--xr-background-color) !important;\n  padding-bottom: 5px !important;\n}\n\n.xr-var-attrs-in:checked ~ .xr-var-attrs,\n.xr-var-data-in:checked ~ .xr-var-data,\n.xr-index-data-in:checked ~ .xr-index-data {\n  display: block;\n}\n\n.xr-var-data > table {\n  float: right;\n}\n\n.xr-var-name span,\n.xr-var-data,\n.xr-index-name div,\n.xr-index-data,\n.xr-attrs {\n  padding-left: 25px !important;\n}\n\n.xr-attrs,\n.xr-var-attrs,\n.xr-var-data,\n.xr-index-data {\n  grid-column: 1 / -1;\n}\n\ndl.xr-attrs {\n  padding: 0;\n  margin: 0;\n  display: grid;\n  grid-template-columns: 125px auto;\n}\n\n.xr-attrs dt,\n.xr-attrs dd {\n  padding: 0;\n  margin: 0;\n  float: left;\n  padding-right: 10px;\n  width: auto;\n}\n\n.xr-attrs dt {\n  font-weight: normal;\n  grid-column: 1;\n}\n\n.xr-attrs dt:hover span {\n  display: inline-block;\n  background: var(--xr-background-color);\n  padding-right: 10px;\n}\n\n.xr-attrs dd {\n  grid-column: 2;\n  white-space: pre-wrap;\n  word-break: break-all;\n}\n\n.xr-icon-database,\n.xr-icon-file-text2,\n.xr-no-icon {\n  display: inline-block;\n  vertical-align: middle;\n  width: 1em;\n  height: 1.5em !important;\n  stroke-width: 0;\n  stroke: currentColor;\n  fill: currentColor;\n}\n</style><pre class='xr-text-repr-fallback'>&lt;xarray.Dataset&gt;\nDimensions:    (time: 25933, x1: 280, x2: 280)\nCoordinates:\n  * time       (time) datetime64[ns] 1950-01-01 1950-01-02 ... 2020-12-31\n  * x1         (x1) float64 0.9964 0.9893 0.9821 ... -0.9821 -0.9893 -0.9964\n  * x2         (x2) float64 -0.9964 -0.9893 -0.9821 ... 0.9821 0.9893 0.9964\n    dayofyear  (time) int64 1 2 3 4 5 6 7 8 ... 359 360 361 362 363 364 365 366\nData variables:\n    t2m        (time, x1, x2) float32 -0.1377 -0.1358 -0.131 ... 0.05715 0.0261</pre><div class='xr-wrap' style='display:none'><div class='xr-header'><div class='xr-obj-type'>xarray.Dataset</div></div><ul class='xr-sections'><li class='xr-section-item'><input id='section-e9c4bf59-26ae-42f7-befc-71700b2186ed' class='xr-section-summary-in' type='checkbox' disabled ><label for='section-e9c4bf59-26ae-42f7-befc-71700b2186ed' class='xr-section-summary'  title='Expand/collapse section'>Dimensions:</label><div class='xr-section-inline-details'><ul class='xr-dim-list'><li><span class='xr-has-index'>time</span>: 25933</li><li><span class='xr-has-index'>x1</span>: 280</li><li><span class='xr-has-index'>x2</span>: 280</li></ul></div><div class='xr-section-details'></div></li><li class='xr-section-item'><input id='section-cca2bb2f-130c-49fe-a6d5-f98cb28ecd5e' class='xr-section-summary-in' type='checkbox'  checked><label for='section-cca2bb2f-130c-49fe-a6d5-f98cb28ecd5e' class='xr-section-summary' >Coordinates: <span>(4)</span></label><div class='xr-section-inline-details'></div><div class='xr-section-details'><ul class='xr-var-list'><li class='xr-var-item'><div class='xr-var-name'><span class='xr-has-index'>time</span></div><div class='xr-var-dims'>(time)</div><div class='xr-var-dtype'>datetime64[ns]</div><div class='xr-var-preview xr-preview'>1950-01-01 ... 2020-12-31</div><input id='attrs-aa425da6-edae-40fe-8aa4-690f607b3441' class='xr-var-attrs-in' type='checkbox' ><label for='attrs-aa425da6-edae-40fe-8aa4-690f607b3441' title='Show/Hide attributes'><svg class='icon xr-icon-file-text2'><use xlink:href='#icon-file-text2'></use></svg></label><input id='data-cfbf0ef7-4bee-4409-9b91-fbc86350fa95' class='xr-var-data-in' type='checkbox'><label for='data-cfbf0ef7-4bee-4409-9b91-fbc86350fa95' title='Show/Hide data repr'><svg class='icon xr-icon-database'><use xlink:href='#icon-database'></use></svg></label><div class='xr-var-attrs'><dl class='xr-attrs'><dt><span>axis :</span></dt><dd>T</dd><dt><span>standard_name :</span></dt><dd>time</dd></dl></div><div class='xr-var-data'><pre>array([&#x27;1950-01-01T00:00:00.000000000&#x27;, &#x27;1950-01-02T00:00:00.000000000&#x27;,\n       &#x27;1950-01-03T00:00:00.000000000&#x27;, ..., &#x27;2020-12-29T00:00:00.000000000&#x27;,\n       &#x27;2020-12-30T00:00:00.000000000&#x27;, &#x27;2020-12-31T00:00:00.000000000&#x27;],\n      dtype=&#x27;datetime64[ns]&#x27;)</pre></div></li><li class='xr-var-item'><div class='xr-var-name'><span class='xr-has-index'>x1</span></div><div class='xr-var-dims'>(x1)</div><div class='xr-var-dtype'>float64</div><div class='xr-var-preview xr-preview'>0.9964 0.9893 ... -0.9893 -0.9964</div><input id='attrs-9be07032-f45f-4f5a-a526-4539ae397155' class='xr-var-attrs-in' type='checkbox' disabled><label for='attrs-9be07032-f45f-4f5a-a526-4539ae397155' title='Show/Hide attributes'><svg class='icon xr-icon-file-text2'><use xlink:href='#icon-file-text2'></use></svg></label><input id='data-60f8bea8-ee84-4deb-870b-9bb4cb06e319' class='xr-var-data-in' type='checkbox'><label for='data-60f8bea8-ee84-4deb-870b-9bb4cb06e319' title='Show/Hide data repr'><svg class='icon xr-icon-database'><use xlink:href='#icon-database'></use></svg></label><div class='xr-var-attrs'><dl class='xr-attrs'></dl></div><div class='xr-var-data'><pre>array([ 0.996429,  0.989286,  0.982143, ..., -0.982143, -0.989286, -0.996429])</pre></div></li><li class='xr-var-item'><div class='xr-var-name'><span class='xr-has-index'>x2</span></div><div class='xr-var-dims'>(x2)</div><div class='xr-var-dtype'>float64</div><div class='xr-var-preview xr-preview'>-0.9964 -0.9893 ... 0.9893 0.9964</div><input id='attrs-3b4bbf9f-de8e-418a-bafb-45a676588131' class='xr-var-attrs-in' type='checkbox' disabled><label for='attrs-3b4bbf9f-de8e-418a-bafb-45a676588131' title='Show/Hide attributes'><svg class='icon xr-icon-file-text2'><use xlink:href='#icon-file-text2'></use></svg></label><input id='data-6fa2f869-b4b3-4902-8d4b-55182700252e' class='xr-var-data-in' type='checkbox'><label for='data-6fa2f869-b4b3-4902-8d4b-55182700252e' title='Show/Hide data repr'><svg class='icon xr-icon-database'><use xlink:href='#icon-database'></use></svg></label><div class='xr-var-attrs'><dl class='xr-attrs'></dl></div><div class='xr-var-data'><pre>array([-0.996429, -0.989286, -0.982143, ...,  0.982143,  0.989286,  0.996429])</pre></div></li><li class='xr-var-item'><div class='xr-var-name'><span>dayofyear</span></div><div class='xr-var-dims'>(time)</div><div class='xr-var-dtype'>int64</div><div class='xr-var-preview xr-preview'>1 2 3 4 5 6 ... 362 363 364 365 366</div><input id='attrs-6c983a79-8b21-4135-9b8a-ed17282276db' class='xr-var-attrs-in' type='checkbox' disabled><label for='attrs-6c983a79-8b21-4135-9b8a-ed17282276db' title='Show/Hide attributes'><svg class='icon xr-icon-file-text2'><use xlink:href='#icon-file-text2'></use></svg></label><input id='data-634d3380-a72c-424a-aeff-f255828af0f6' class='xr-var-data-in' type='checkbox'><label for='data-634d3380-a72c-424a-aeff-f255828af0f6' title='Show/Hide data repr'><svg class='icon xr-icon-database'><use xlink:href='#icon-database'></use></svg></label><div class='xr-var-attrs'><dl class='xr-attrs'></dl></div><div class='xr-var-data'><pre>array([  1,   2,   3, ..., 364, 365, 366])</pre></div></li></ul></div></li><li class='xr-section-item'><input id='section-c17dd256-74d7-4ecb-ae59-75111172ecfc' class='xr-section-summary-in' type='checkbox'  checked><label for='section-c17dd256-74d7-4ecb-ae59-75111172ecfc' class='xr-section-summary' >Data variables: <span>(1)</span></label><div class='xr-section-inline-details'></div><div class='xr-section-details'><ul class='xr-var-list'><li class='xr-var-item'><div class='xr-var-name'><span>t2m</span></div><div class='xr-var-dims'>(time, x1, x2)</div><div class='xr-var-dtype'>float32</div><div class='xr-var-preview xr-preview'>-0.1377 -0.1358 ... 0.05715 0.0261</div><input id='attrs-503a8543-f538-49a9-b8f9-9afb16286180' class='xr-var-attrs-in' type='checkbox' disabled><label for='attrs-503a8543-f538-49a9-b8f9-9afb16286180' title='Show/Hide attributes'><svg class='icon xr-icon-file-text2'><use xlink:href='#icon-file-text2'></use></svg></label><input id='data-58c6fb28-9603-4cd5-b456-31368b51f734' class='xr-var-data-in' type='checkbox'><label for='data-58c6fb28-9603-4cd5-b456-31368b51f734' title='Show/Hide data repr'><svg class='icon xr-icon-database'><use xlink:href='#icon-database'></use></svg></label><div class='xr-var-attrs'><dl class='xr-attrs'></dl></div><div class='xr-var-data'><pre>array([[[-0.13768932, -0.13576831, -0.13096538, ..., -0.66561675,\n         -0.66894513, -0.665166  ],\n        [-0.1580149 , -0.15307839, -0.14974402, ..., -0.6643869 ,\n         -0.6708191 , -0.6647683 ],\n        [-0.18432738, -0.17945357, -0.17319626, ..., -0.6574811 ,\n         -0.66894615, -0.6718361 ],\n        ...,\n        [-0.2451899 , -0.27833855, -0.32378215, ...,  0.06616205,\n          0.06786468,  0.06805348],\n        [-0.25826395, -0.28556645, -0.33287013, ...,  0.07044387,\n          0.07266437,  0.06943721],\n        [-0.26131648, -0.28751135, -0.337192  , ...,  0.07439163,\n          0.07585397,  0.07235071]],\n\n       [[-0.86826843, -0.87708056, -0.88281476, ..., -0.31123582,\n         -0.3175405 , -0.3225434 ],\n        [-0.88358885, -0.89254725, -0.89745414, ..., -0.3168903 ,\n         -0.3182978 , -0.31621832],\n        [-0.8971395 , -0.9066202 , -0.91421276, ..., -0.3228363 ,\n         -0.32215503, -0.3191966 ],\n...\n        [ 0.08152699,  0.03245874, -0.02688896, ..., -0.0337614 ,\n         -0.03884739, -0.05066779],\n        [ 0.09582085,  0.05873914,  0.00310688, ..., -0.04846394,\n         -0.05485035, -0.06956359],\n        [ 0.1171854 ,  0.06831415,  0.0259997 , ..., -0.06095345,\n         -0.07063566, -0.08783107]],\n\n       [[ 0.69913816,  0.7036757 ,  0.7047796 , ...,  0.39302495,\n          0.3831425 ,  0.3703254 ],\n        [ 0.6990103 ,  0.71010417,  0.7103021 , ...,  0.40535846,\n          0.39607698,  0.3795114 ],\n        [ 0.70767844,  0.7187697 ,  0.7188976 , ...,  0.41821787,\n          0.4091055 ,  0.39659736],\n        ...,\n        [-0.14382327, -0.14021353, -0.13058431, ...,  0.09896269,\n          0.0842691 ,  0.06044725],\n        [-0.13386568, -0.12907794, -0.12199978, ...,  0.09714688,\n          0.07366232,  0.04353191],\n        [-0.12264551, -0.12970029, -0.12041182, ...,  0.08798876,\n          0.05715044,  0.02610218]]], dtype=float32)</pre></div></li></ul></div></li><li class='xr-section-item'><input id='section-da37d308-a189-4974-9437-bdcd2cfb1264' class='xr-section-summary-in' type='checkbox'  ><label for='section-da37d308-a189-4974-9437-bdcd2cfb1264' class='xr-section-summary' >Indexes: <span>(3)</span></label><div class='xr-section-inline-details'></div><div class='xr-section-details'><ul class='xr-var-list'><li class='xr-var-item'><div class='xr-index-name'><div>time</div></div><div class='xr-index-preview'>PandasIndex</div><div></div><input id='index-2c02c088-6a29-4276-9422-c10ab51d50f2' class='xr-index-data-in' type='checkbox'/><label for='index-2c02c088-6a29-4276-9422-c10ab51d50f2' title='Show/Hide index repr'><svg class='icon xr-icon-database'><use xlink:href='#icon-database'></use></svg></label><div class='xr-index-data'><pre>PandasIndex(DatetimeIndex([&#x27;1950-01-01&#x27;, &#x27;1950-01-02&#x27;, &#x27;1950-01-03&#x27;, &#x27;1950-01-04&#x27;,\n               &#x27;1950-01-05&#x27;, &#x27;1950-01-06&#x27;, &#x27;1950-01-07&#x27;, &#x27;1950-01-08&#x27;,\n               &#x27;1950-01-09&#x27;, &#x27;1950-01-10&#x27;,\n               ...\n               &#x27;2020-12-22&#x27;, &#x27;2020-12-23&#x27;, &#x27;2020-12-24&#x27;, &#x27;2020-12-25&#x27;,\n               &#x27;2020-12-26&#x27;, &#x27;2020-12-27&#x27;, &#x27;2020-12-28&#x27;, &#x27;2020-12-29&#x27;,\n               &#x27;2020-12-30&#x27;, &#x27;2020-12-31&#x27;],\n              dtype=&#x27;datetime64[ns]&#x27;, name=&#x27;time&#x27;, length=25933, freq=None))</pre></div></li><li class='xr-var-item'><div class='xr-index-name'><div>x1</div></div><div class='xr-index-preview'>PandasIndex</div><div></div><input id='index-402d6c45-3234-4dfb-8763-b8cf67e9cc66' class='xr-index-data-in' type='checkbox'/><label for='index-402d6c45-3234-4dfb-8763-b8cf67e9cc66' title='Show/Hide index repr'><svg class='icon xr-icon-database'><use xlink:href='#icon-database'></use></svg></label><div class='xr-index-data'><pre>PandasIndex(Index([ 0.9964285714285714,  0.9892857142857143,  0.9821428571428571,\n                     0.975,  0.9678571428571429,  0.9607142857142857,\n        0.9535714285714286,  0.9464285714285714,  0.9392857142857143,\n        0.9321428571428572,\n       ...\n       -0.9321428571428572, -0.9392857142857143, -0.9464285714285714,\n       -0.9535714285714286, -0.9607142857142857, -0.9678571428571429,\n                    -0.975, -0.9821428571428571, -0.9892857142857143,\n       -0.9964285714285714],\n      dtype=&#x27;float64&#x27;, name=&#x27;x1&#x27;, length=280))</pre></div></li><li class='xr-var-item'><div class='xr-index-name'><div>x2</div></div><div class='xr-index-preview'>PandasIndex</div><div></div><input id='index-2fc22767-a4a1-4db3-b2ad-789f9789c84d' class='xr-index-data-in' type='checkbox'/><label for='index-2fc22767-a4a1-4db3-b2ad-789f9789c84d' title='Show/Hide index repr'><svg class='icon xr-icon-database'><use xlink:href='#icon-database'></use></svg></label><div class='xr-index-data'><pre>PandasIndex(Index([-0.9964285714285714, -0.9892857142857143, -0.9821428571428571,\n                    -0.975, -0.9678571428571429, -0.9607142857142857,\n       -0.9535714285714286, -0.9464285714285714, -0.9392857142857143,\n       -0.9321428571428572,\n       ...\n        0.9321428571428572,  0.9392857142857143,  0.9464285714285714,\n        0.9535714285714286,  0.9607142857142857,  0.9678571428571429,\n                     0.975,  0.9821428571428571,  0.9892857142857143,\n        0.9964285714285714],\n      dtype=&#x27;float64&#x27;, name=&#x27;x2&#x27;, length=280))</pre></div></li></ul></div></li><li class='xr-section-item'><input id='section-ddb9974e-e3ab-4ba0-81db-b60cde52dac1' class='xr-section-summary-in' type='checkbox' disabled ><label for='section-ddb9974e-e3ab-4ba0-81db-b60cde52dac1' class='xr-section-summary'  title='Expand/collapse section'>Attributes: <span>(0)</span></label><div class='xr-section-inline-details'></div><div class='xr-section-details'><dl class='xr-attrs'></dl></div></li></ul></div></div>"
     },
     "execution_count": 12,
     "metadata": {},
     "output_type": "execute_result"
    }
   ],
   "source": [
    "era5_ds"
   ],
   "metadata": {
    "collapsed": false,
    "ExecuteTime": {
     "end_time": "2023-05-30T17:52:26.455818116Z",
     "start_time": "2023-05-30T17:52:26.394985402Z"
    }
   }
  },
  {
   "cell_type": "code",
   "execution_count": 13,
   "outputs": [
    {
     "data": {
      "text/plain": "<xarray.Dataset>\nDimensions:  (x1: 280, x2: 280)\nCoordinates:\n  * x1       (x1) float64 0.9964 0.9893 0.9821 0.975 ... -0.9821 -0.9893 -0.9964\n  * x2       (x2) float64 -0.9964 -0.9893 -0.9821 ... 0.9821 0.9893 0.9964\n    lat      (x1, x2) float32 -44.58 -44.76 -44.93 ... -44.93 -44.76 -44.58\n    lon      (x1, x2) float32 -45.0 -44.79 -44.59 -44.38 ... 135.4 135.2 135.0\nData variables:\n    surface  (x1, x2) float32 -1.0 -1.0 -1.0 -1.0 -1.0 ... -1.0 -1.0 -1.0 -1.0\n    mask     (x1, x2) float64 -1.0 -1.0 -1.0 -1.0 -1.0 ... -1.0 -1.0 -1.0 -1.0\nAttributes: (12/19)\n    Author:                      Mathieu Morlighem\n    Data_citation:               Morlighem M. et al., (2019), Deep glacial tr...\n    Notes:                       Data processed at the Department of Earth Sy...\n    Projection:                  Polar Stereographic South (71S,0E)\n    Title:                       BedMachine Antarctica\n    ice_density (kg m-3):        917.0\n    ...                          ...\n    spacing:                     500\n    valid_range:                 [0. 4.]\n    version:                     15-Jul-2020 (v2.0)\n    xmin:                        -3333000\n    ymax:                        3333000\n    Conventions:                 CF-1.7",
      "text/html": "<div><svg style=\"position: absolute; width: 0; height: 0; overflow: hidden\">\n<defs>\n<symbol id=\"icon-database\" viewBox=\"0 0 32 32\">\n<path d=\"M16 0c-8.837 0-16 2.239-16 5v4c0 2.761 7.163 5 16 5s16-2.239 16-5v-4c0-2.761-7.163-5-16-5z\"></path>\n<path d=\"M16 17c-8.837 0-16-2.239-16-5v6c0 2.761 7.163 5 16 5s16-2.239 16-5v-6c0 2.761-7.163 5-16 5z\"></path>\n<path d=\"M16 26c-8.837 0-16-2.239-16-5v6c0 2.761 7.163 5 16 5s16-2.239 16-5v-6c0 2.761-7.163 5-16 5z\"></path>\n</symbol>\n<symbol id=\"icon-file-text2\" viewBox=\"0 0 32 32\">\n<path d=\"M28.681 7.159c-0.694-0.947-1.662-2.053-2.724-3.116s-2.169-2.030-3.116-2.724c-1.612-1.182-2.393-1.319-2.841-1.319h-15.5c-1.378 0-2.5 1.121-2.5 2.5v27c0 1.378 1.122 2.5 2.5 2.5h23c1.378 0 2.5-1.122 2.5-2.5v-19.5c0-0.448-0.137-1.23-1.319-2.841zM24.543 5.457c0.959 0.959 1.712 1.825 2.268 2.543h-4.811v-4.811c0.718 0.556 1.584 1.309 2.543 2.268zM28 29.5c0 0.271-0.229 0.5-0.5 0.5h-23c-0.271 0-0.5-0.229-0.5-0.5v-27c0-0.271 0.229-0.5 0.5-0.5 0 0 15.499-0 15.5 0v7c0 0.552 0.448 1 1 1h7v19.5z\"></path>\n<path d=\"M23 26h-14c-0.552 0-1-0.448-1-1s0.448-1 1-1h14c0.552 0 1 0.448 1 1s-0.448 1-1 1z\"></path>\n<path d=\"M23 22h-14c-0.552 0-1-0.448-1-1s0.448-1 1-1h14c0.552 0 1 0.448 1 1s-0.448 1-1 1z\"></path>\n<path d=\"M23 18h-14c-0.552 0-1-0.448-1-1s0.448-1 1-1h14c0.552 0 1 0.448 1 1s-0.448 1-1 1z\"></path>\n</symbol>\n</defs>\n</svg>\n<style>/* CSS stylesheet for displaying xarray objects in jupyterlab.\n *\n */\n\n:root {\n  --xr-font-color0: var(--jp-content-font-color0, rgba(0, 0, 0, 1));\n  --xr-font-color2: var(--jp-content-font-color2, rgba(0, 0, 0, 0.54));\n  --xr-font-color3: var(--jp-content-font-color3, rgba(0, 0, 0, 0.38));\n  --xr-border-color: var(--jp-border-color2, #e0e0e0);\n  --xr-disabled-color: var(--jp-layout-color3, #bdbdbd);\n  --xr-background-color: var(--jp-layout-color0, white);\n  --xr-background-color-row-even: var(--jp-layout-color1, white);\n  --xr-background-color-row-odd: var(--jp-layout-color2, #eeeeee);\n}\n\nhtml[theme=dark],\nbody[data-theme=dark],\nbody.vscode-dark {\n  --xr-font-color0: rgba(255, 255, 255, 1);\n  --xr-font-color2: rgba(255, 255, 255, 0.54);\n  --xr-font-color3: rgba(255, 255, 255, 0.38);\n  --xr-border-color: #1F1F1F;\n  --xr-disabled-color: #515151;\n  --xr-background-color: #111111;\n  --xr-background-color-row-even: #111111;\n  --xr-background-color-row-odd: #313131;\n}\n\n.xr-wrap {\n  display: block !important;\n  min-width: 300px;\n  max-width: 700px;\n}\n\n.xr-text-repr-fallback {\n  /* fallback to plain text repr when CSS is not injected (untrusted notebook) */\n  display: none;\n}\n\n.xr-header {\n  padding-top: 6px;\n  padding-bottom: 6px;\n  margin-bottom: 4px;\n  border-bottom: solid 1px var(--xr-border-color);\n}\n\n.xr-header > div,\n.xr-header > ul {\n  display: inline;\n  margin-top: 0;\n  margin-bottom: 0;\n}\n\n.xr-obj-type,\n.xr-array-name {\n  margin-left: 2px;\n  margin-right: 10px;\n}\n\n.xr-obj-type {\n  color: var(--xr-font-color2);\n}\n\n.xr-sections {\n  padding-left: 0 !important;\n  display: grid;\n  grid-template-columns: 150px auto auto 1fr 20px 20px;\n}\n\n.xr-section-item {\n  display: contents;\n}\n\n.xr-section-item input {\n  display: none;\n}\n\n.xr-section-item input + label {\n  color: var(--xr-disabled-color);\n}\n\n.xr-section-item input:enabled + label {\n  cursor: pointer;\n  color: var(--xr-font-color2);\n}\n\n.xr-section-item input:enabled + label:hover {\n  color: var(--xr-font-color0);\n}\n\n.xr-section-summary {\n  grid-column: 1;\n  color: var(--xr-font-color2);\n  font-weight: 500;\n}\n\n.xr-section-summary > span {\n  display: inline-block;\n  padding-left: 0.5em;\n}\n\n.xr-section-summary-in:disabled + label {\n  color: var(--xr-font-color2);\n}\n\n.xr-section-summary-in + label:before {\n  display: inline-block;\n  content: '►';\n  font-size: 11px;\n  width: 15px;\n  text-align: center;\n}\n\n.xr-section-summary-in:disabled + label:before {\n  color: var(--xr-disabled-color);\n}\n\n.xr-section-summary-in:checked + label:before {\n  content: '▼';\n}\n\n.xr-section-summary-in:checked + label > span {\n  display: none;\n}\n\n.xr-section-summary,\n.xr-section-inline-details {\n  padding-top: 4px;\n  padding-bottom: 4px;\n}\n\n.xr-section-inline-details {\n  grid-column: 2 / -1;\n}\n\n.xr-section-details {\n  display: none;\n  grid-column: 1 / -1;\n  margin-bottom: 5px;\n}\n\n.xr-section-summary-in:checked ~ .xr-section-details {\n  display: contents;\n}\n\n.xr-array-wrap {\n  grid-column: 1 / -1;\n  display: grid;\n  grid-template-columns: 20px auto;\n}\n\n.xr-array-wrap > label {\n  grid-column: 1;\n  vertical-align: top;\n}\n\n.xr-preview {\n  color: var(--xr-font-color3);\n}\n\n.xr-array-preview,\n.xr-array-data {\n  padding: 0 5px !important;\n  grid-column: 2;\n}\n\n.xr-array-data,\n.xr-array-in:checked ~ .xr-array-preview {\n  display: none;\n}\n\n.xr-array-in:checked ~ .xr-array-data,\n.xr-array-preview {\n  display: inline-block;\n}\n\n.xr-dim-list {\n  display: inline-block !important;\n  list-style: none;\n  padding: 0 !important;\n  margin: 0;\n}\n\n.xr-dim-list li {\n  display: inline-block;\n  padding: 0;\n  margin: 0;\n}\n\n.xr-dim-list:before {\n  content: '(';\n}\n\n.xr-dim-list:after {\n  content: ')';\n}\n\n.xr-dim-list li:not(:last-child):after {\n  content: ',';\n  padding-right: 5px;\n}\n\n.xr-has-index {\n  font-weight: bold;\n}\n\n.xr-var-list,\n.xr-var-item {\n  display: contents;\n}\n\n.xr-var-item > div,\n.xr-var-item label,\n.xr-var-item > .xr-var-name span {\n  background-color: var(--xr-background-color-row-even);\n  margin-bottom: 0;\n}\n\n.xr-var-item > .xr-var-name:hover span {\n  padding-right: 5px;\n}\n\n.xr-var-list > li:nth-child(odd) > div,\n.xr-var-list > li:nth-child(odd) > label,\n.xr-var-list > li:nth-child(odd) > .xr-var-name span {\n  background-color: var(--xr-background-color-row-odd);\n}\n\n.xr-var-name {\n  grid-column: 1;\n}\n\n.xr-var-dims {\n  grid-column: 2;\n}\n\n.xr-var-dtype {\n  grid-column: 3;\n  text-align: right;\n  color: var(--xr-font-color2);\n}\n\n.xr-var-preview {\n  grid-column: 4;\n}\n\n.xr-index-preview {\n  grid-column: 2 / 5;\n  color: var(--xr-font-color2);\n}\n\n.xr-var-name,\n.xr-var-dims,\n.xr-var-dtype,\n.xr-preview,\n.xr-attrs dt {\n  white-space: nowrap;\n  overflow: hidden;\n  text-overflow: ellipsis;\n  padding-right: 10px;\n}\n\n.xr-var-name:hover,\n.xr-var-dims:hover,\n.xr-var-dtype:hover,\n.xr-attrs dt:hover {\n  overflow: visible;\n  width: auto;\n  z-index: 1;\n}\n\n.xr-var-attrs,\n.xr-var-data,\n.xr-index-data {\n  display: none;\n  background-color: var(--xr-background-color) !important;\n  padding-bottom: 5px !important;\n}\n\n.xr-var-attrs-in:checked ~ .xr-var-attrs,\n.xr-var-data-in:checked ~ .xr-var-data,\n.xr-index-data-in:checked ~ .xr-index-data {\n  display: block;\n}\n\n.xr-var-data > table {\n  float: right;\n}\n\n.xr-var-name span,\n.xr-var-data,\n.xr-index-name div,\n.xr-index-data,\n.xr-attrs {\n  padding-left: 25px !important;\n}\n\n.xr-attrs,\n.xr-var-attrs,\n.xr-var-data,\n.xr-index-data {\n  grid-column: 1 / -1;\n}\n\ndl.xr-attrs {\n  padding: 0;\n  margin: 0;\n  display: grid;\n  grid-template-columns: 125px auto;\n}\n\n.xr-attrs dt,\n.xr-attrs dd {\n  padding: 0;\n  margin: 0;\n  float: left;\n  padding-right: 10px;\n  width: auto;\n}\n\n.xr-attrs dt {\n  font-weight: normal;\n  grid-column: 1;\n}\n\n.xr-attrs dt:hover span {\n  display: inline-block;\n  background: var(--xr-background-color);\n  padding-right: 10px;\n}\n\n.xr-attrs dd {\n  grid-column: 2;\n  white-space: pre-wrap;\n  word-break: break-all;\n}\n\n.xr-icon-database,\n.xr-icon-file-text2,\n.xr-no-icon {\n  display: inline-block;\n  vertical-align: middle;\n  width: 1em;\n  height: 1.5em !important;\n  stroke-width: 0;\n  stroke: currentColor;\n  fill: currentColor;\n}\n</style><pre class='xr-text-repr-fallback'>&lt;xarray.Dataset&gt;\nDimensions:  (x1: 280, x2: 280)\nCoordinates:\n  * x1       (x1) float64 0.9964 0.9893 0.9821 0.975 ... -0.9821 -0.9893 -0.9964\n  * x2       (x2) float64 -0.9964 -0.9893 -0.9821 ... 0.9821 0.9893 0.9964\n    lat      (x1, x2) float32 -44.58 -44.76 -44.93 ... -44.93 -44.76 -44.58\n    lon      (x1, x2) float32 -45.0 -44.79 -44.59 -44.38 ... 135.4 135.2 135.0\nData variables:\n    surface  (x1, x2) float32 -1.0 -1.0 -1.0 -1.0 -1.0 ... -1.0 -1.0 -1.0 -1.0\n    mask     (x1, x2) float64 -1.0 -1.0 -1.0 -1.0 -1.0 ... -1.0 -1.0 -1.0 -1.0\nAttributes: (12/19)\n    Author:                      Mathieu Morlighem\n    Data_citation:               Morlighem M. et al., (2019), Deep glacial tr...\n    Notes:                       Data processed at the Department of Earth Sy...\n    Projection:                  Polar Stereographic South (71S,0E)\n    Title:                       BedMachine Antarctica\n    ice_density (kg m-3):        917.0\n    ...                          ...\n    spacing:                     500\n    valid_range:                 [0. 4.]\n    version:                     15-Jul-2020 (v2.0)\n    xmin:                        -3333000\n    ymax:                        3333000\n    Conventions:                 CF-1.7</pre><div class='xr-wrap' style='display:none'><div class='xr-header'><div class='xr-obj-type'>xarray.Dataset</div></div><ul class='xr-sections'><li class='xr-section-item'><input id='section-c4dd41d7-00e1-4917-aba3-01d86fd8026a' class='xr-section-summary-in' type='checkbox' disabled ><label for='section-c4dd41d7-00e1-4917-aba3-01d86fd8026a' class='xr-section-summary'  title='Expand/collapse section'>Dimensions:</label><div class='xr-section-inline-details'><ul class='xr-dim-list'><li><span class='xr-has-index'>x1</span>: 280</li><li><span class='xr-has-index'>x2</span>: 280</li></ul></div><div class='xr-section-details'></div></li><li class='xr-section-item'><input id='section-7e158969-6630-45de-8f6e-5956121decd5' class='xr-section-summary-in' type='checkbox'  checked><label for='section-7e158969-6630-45de-8f6e-5956121decd5' class='xr-section-summary' >Coordinates: <span>(4)</span></label><div class='xr-section-inline-details'></div><div class='xr-section-details'><ul class='xr-var-list'><li class='xr-var-item'><div class='xr-var-name'><span class='xr-has-index'>x1</span></div><div class='xr-var-dims'>(x1)</div><div class='xr-var-dtype'>float64</div><div class='xr-var-preview xr-preview'>0.9964 0.9893 ... -0.9893 -0.9964</div><input id='attrs-9ca32409-28d3-4410-bd63-0116459cfc52' class='xr-var-attrs-in' type='checkbox' disabled><label for='attrs-9ca32409-28d3-4410-bd63-0116459cfc52' title='Show/Hide attributes'><svg class='icon xr-icon-file-text2'><use xlink:href='#icon-file-text2'></use></svg></label><input id='data-7affcc81-4015-4e90-83c3-aa400909887b' class='xr-var-data-in' type='checkbox'><label for='data-7affcc81-4015-4e90-83c3-aa400909887b' title='Show/Hide data repr'><svg class='icon xr-icon-database'><use xlink:href='#icon-database'></use></svg></label><div class='xr-var-attrs'><dl class='xr-attrs'></dl></div><div class='xr-var-data'><pre>array([ 0.996429,  0.989286,  0.982143, ..., -0.982143, -0.989286, -0.996429])</pre></div></li><li class='xr-var-item'><div class='xr-var-name'><span class='xr-has-index'>x2</span></div><div class='xr-var-dims'>(x2)</div><div class='xr-var-dtype'>float64</div><div class='xr-var-preview xr-preview'>-0.9964 -0.9893 ... 0.9893 0.9964</div><input id='attrs-c1294cdd-a12c-4682-9253-c7a55c048ca4' class='xr-var-attrs-in' type='checkbox' disabled><label for='attrs-c1294cdd-a12c-4682-9253-c7a55c048ca4' title='Show/Hide attributes'><svg class='icon xr-icon-file-text2'><use xlink:href='#icon-file-text2'></use></svg></label><input id='data-8801bd3a-1068-4b1f-92f6-923555ff2f9f' class='xr-var-data-in' type='checkbox'><label for='data-8801bd3a-1068-4b1f-92f6-923555ff2f9f' title='Show/Hide data repr'><svg class='icon xr-icon-database'><use xlink:href='#icon-database'></use></svg></label><div class='xr-var-attrs'><dl class='xr-attrs'></dl></div><div class='xr-var-data'><pre>array([-0.996429, -0.989286, -0.982143, ...,  0.982143,  0.989286,  0.996429])</pre></div></li><li class='xr-var-item'><div class='xr-var-name'><span>lat</span></div><div class='xr-var-dims'>(x1, x2)</div><div class='xr-var-dtype'>float32</div><div class='xr-var-preview xr-preview'>-44.58 -44.76 ... -44.76 -44.58</div><input id='attrs-4247cea3-21c2-49a4-a681-354d76149186' class='xr-var-attrs-in' type='checkbox' ><label for='attrs-4247cea3-21c2-49a4-a681-354d76149186' title='Show/Hide attributes'><svg class='icon xr-icon-file-text2'><use xlink:href='#icon-file-text2'></use></svg></label><input id='data-ac46b02d-db2e-4e6f-b089-6cc0ba2a716a' class='xr-var-data-in' type='checkbox'><label for='data-ac46b02d-db2e-4e6f-b089-6cc0ba2a716a' title='Show/Hide data repr'><svg class='icon xr-icon-database'><use xlink:href='#icon-database'></use></svg></label><div class='xr-var-attrs'><dl class='xr-attrs'><dt><span>units :</span></dt><dd>degrees_north</dd><dt><span>standard_name :</span></dt><dd>latitude</dd><dt><span>long_name :</span></dt><dd>latitude coordinate</dd></dl></div><div class='xr-var-data'><pre>array([[-44.583485, -44.75555 , -44.92688 , ..., -44.92688 , -44.75555 ,\n        -44.583485],\n       [-44.75555 , -44.92812 , -45.09996 , ..., -45.09996 , -44.92812 ,\n        -44.75555 ],\n       [-44.92688 , -45.09996 , -45.27231 , ..., -45.27231 , -45.09996 ,\n        -44.92688 ],\n       ...,\n       [-44.92688 , -45.09996 , -45.27231 , ..., -45.27231 , -45.09996 ,\n        -44.92688 ],\n       [-44.75555 , -44.92812 , -45.09996 , ..., -45.09996 , -44.92812 ,\n        -44.75555 ],\n       [-44.583485, -44.75555 , -44.92688 , ..., -44.92688 , -44.75555 ,\n        -44.583485]], dtype=float32)</pre></div></li><li class='xr-var-item'><div class='xr-var-name'><span>lon</span></div><div class='xr-var-dims'>(x1, x2)</div><div class='xr-var-dtype'>float32</div><div class='xr-var-preview xr-preview'>-45.0 -44.79 -44.59 ... 135.2 135.0</div><input id='attrs-f6d08597-62a8-4c56-aa82-3ad90590541a' class='xr-var-attrs-in' type='checkbox' ><label for='attrs-f6d08597-62a8-4c56-aa82-3ad90590541a' title='Show/Hide attributes'><svg class='icon xr-icon-file-text2'><use xlink:href='#icon-file-text2'></use></svg></label><input id='data-4a810a8d-b482-42be-8560-7bb2500f0904' class='xr-var-data-in' type='checkbox'><label for='data-4a810a8d-b482-42be-8560-7bb2500f0904' title='Show/Hide data repr'><svg class='icon xr-icon-database'><use xlink:href='#icon-database'></use></svg></label><div class='xr-var-attrs'><dl class='xr-attrs'><dt><span>units :</span></dt><dd>degrees_east</dd><dt><span>standard_name :</span></dt><dd>longitude</dd><dt><span>long_name :</span></dt><dd>longitude coordinate</dd></dl></div><div class='xr-var-data'><pre>array([[ -45.      ,  -44.7939  ,  -44.58632 , ...,   44.58632 ,\n          44.7939  ,   45.      ],\n       [ -45.2061  ,  -45.      ,  -44.792408, ...,   44.792408,\n          45.      ,   45.2061  ],\n       [ -45.41368 ,  -45.207592,  -45.      , ...,   45.      ,\n          45.207592,   45.41368 ],\n       ...,\n       [-134.58632 , -134.7924  , -135.      , ...,  135.      ,\n         134.7924  ,  134.58632 ],\n       [-134.7939  , -135.      , -135.2076  , ...,  135.2076  ,\n         135.      ,  134.7939  ],\n       [-135.      , -135.2061  , -135.41368 , ...,  135.41368 ,\n         135.2061  ,  135.      ]], dtype=float32)</pre></div></li></ul></div></li><li class='xr-section-item'><input id='section-b6e2383e-b1cc-4479-a265-e2426b0a02aa' class='xr-section-summary-in' type='checkbox'  checked><label for='section-b6e2383e-b1cc-4479-a265-e2426b0a02aa' class='xr-section-summary' >Data variables: <span>(2)</span></label><div class='xr-section-inline-details'></div><div class='xr-section-details'><ul class='xr-var-list'><li class='xr-var-item'><div class='xr-var-name'><span>surface</span></div><div class='xr-var-dims'>(x1, x2)</div><div class='xr-var-dtype'>float32</div><div class='xr-var-preview xr-preview'>-1.0 -1.0 -1.0 ... -1.0 -1.0 -1.0</div><input id='attrs-43bbbca3-1f7e-4397-aabf-a3e73bf4ac28' class='xr-var-attrs-in' type='checkbox' disabled><label for='attrs-43bbbca3-1f7e-4397-aabf-a3e73bf4ac28' title='Show/Hide attributes'><svg class='icon xr-icon-file-text2'><use xlink:href='#icon-file-text2'></use></svg></label><input id='data-ac80d14c-eed5-4cba-91ea-e71c4bf01ab8' class='xr-var-data-in' type='checkbox'><label for='data-ac80d14c-eed5-4cba-91ea-e71c4bf01ab8' title='Show/Hide data repr'><svg class='icon xr-icon-database'><use xlink:href='#icon-database'></use></svg></label><div class='xr-var-attrs'><dl class='xr-attrs'></dl></div><div class='xr-var-data'><pre>array([[-1., -1., -1., ..., -1., -1., -1.],\n       [-1., -1., -1., ..., -1., -1., -1.],\n       [-1., -1., -1., ..., -1., -1., -1.],\n       ...,\n       [-1., -1., -1., ..., -1., -1., -1.],\n       [-1., -1., -1., ..., -1., -1., -1.],\n       [-1., -1., -1., ..., -1., -1., -1.]], dtype=float32)</pre></div></li><li class='xr-var-item'><div class='xr-var-name'><span>mask</span></div><div class='xr-var-dims'>(x1, x2)</div><div class='xr-var-dtype'>float64</div><div class='xr-var-preview xr-preview'>-1.0 -1.0 -1.0 ... -1.0 -1.0 -1.0</div><input id='attrs-57583859-8f1d-4a66-93b6-bab6b571d5ad' class='xr-var-attrs-in' type='checkbox' disabled><label for='attrs-57583859-8f1d-4a66-93b6-bab6b571d5ad' title='Show/Hide attributes'><svg class='icon xr-icon-file-text2'><use xlink:href='#icon-file-text2'></use></svg></label><input id='data-57aaec8d-a623-4f83-a55a-1a5b26acb61c' class='xr-var-data-in' type='checkbox'><label for='data-57aaec8d-a623-4f83-a55a-1a5b26acb61c' title='Show/Hide data repr'><svg class='icon xr-icon-database'><use xlink:href='#icon-database'></use></svg></label><div class='xr-var-attrs'><dl class='xr-attrs'></dl></div><div class='xr-var-data'><pre>array([[-1., -1., -1., ..., -1., -1., -1.],\n       [-1., -1., -1., ..., -1., -1., -1.],\n       [-1., -1., -1., ..., -1., -1., -1.],\n       ...,\n       [-1., -1., -1., ..., -1., -1., -1.],\n       [-1., -1., -1., ..., -1., -1., -1.],\n       [-1., -1., -1., ..., -1., -1., -1.]])</pre></div></li></ul></div></li><li class='xr-section-item'><input id='section-4d2e9e58-99f0-4a88-834f-1f791ddd1493' class='xr-section-summary-in' type='checkbox'  ><label for='section-4d2e9e58-99f0-4a88-834f-1f791ddd1493' class='xr-section-summary' >Indexes: <span>(2)</span></label><div class='xr-section-inline-details'></div><div class='xr-section-details'><ul class='xr-var-list'><li class='xr-var-item'><div class='xr-index-name'><div>x1</div></div><div class='xr-index-preview'>PandasIndex</div><div></div><input id='index-a2cf4240-da01-44be-a30a-96df7dda6068' class='xr-index-data-in' type='checkbox'/><label for='index-a2cf4240-da01-44be-a30a-96df7dda6068' title='Show/Hide index repr'><svg class='icon xr-icon-database'><use xlink:href='#icon-database'></use></svg></label><div class='xr-index-data'><pre>PandasIndex(Index([ 0.9964285714285714,  0.9892857142857143,  0.9821428571428571,\n                     0.975,  0.9678571428571429,  0.9607142857142857,\n        0.9535714285714286,  0.9464285714285714,  0.9392857142857143,\n        0.9321428571428572,\n       ...\n       -0.9321428571428572, -0.9392857142857143, -0.9464285714285714,\n       -0.9535714285714286, -0.9607142857142857, -0.9678571428571429,\n                    -0.975, -0.9821428571428571, -0.9892857142857143,\n       -0.9964285714285714],\n      dtype=&#x27;float64&#x27;, name=&#x27;x1&#x27;, length=280))</pre></div></li><li class='xr-var-item'><div class='xr-index-name'><div>x2</div></div><div class='xr-index-preview'>PandasIndex</div><div></div><input id='index-58ef990c-856a-48b3-858a-205f754a9376' class='xr-index-data-in' type='checkbox'/><label for='index-58ef990c-856a-48b3-858a-205f754a9376' title='Show/Hide index repr'><svg class='icon xr-icon-database'><use xlink:href='#icon-database'></use></svg></label><div class='xr-index-data'><pre>PandasIndex(Index([-0.9964285714285714, -0.9892857142857143, -0.9821428571428571,\n                    -0.975, -0.9678571428571429, -0.9607142857142857,\n       -0.9535714285714286, -0.9464285714285714, -0.9392857142857143,\n       -0.9321428571428572,\n       ...\n        0.9321428571428572,  0.9392857142857143,  0.9464285714285714,\n        0.9535714285714286,  0.9607142857142857,  0.9678571428571429,\n                     0.975,  0.9821428571428571,  0.9892857142857143,\n        0.9964285714285714],\n      dtype=&#x27;float64&#x27;, name=&#x27;x2&#x27;, length=280))</pre></div></li></ul></div></li><li class='xr-section-item'><input id='section-503cab07-6a6d-4045-9006-f1bb77586173' class='xr-section-summary-in' type='checkbox'  ><label for='section-503cab07-6a6d-4045-9006-f1bb77586173' class='xr-section-summary' >Attributes: <span>(19)</span></label><div class='xr-section-inline-details'></div><div class='xr-section-details'><dl class='xr-attrs'><dt><span>Author :</span></dt><dd>Mathieu Morlighem</dd><dt><span>Data_citation :</span></dt><dd>Morlighem M. et al., (2019), Deep glacial troughs and stabilizing ridges unveiled beneath the margins of the Antarctic ice sheet, Nature Geoscience (accepted)</dd><dt><span>Notes :</span></dt><dd>Data processed at the Department of Earth System Science, University of California, Irvine</dd><dt><span>Projection :</span></dt><dd>Polar Stereographic South (71S,0E)</dd><dt><span>Title :</span></dt><dd>BedMachine Antarctica</dd><dt><span>ice_density (kg m-3) :</span></dt><dd>917.0</dd><dt><span>license :</span></dt><dd>No restrictions on access or use</dd><dt><span>no_data :</span></dt><dd>-9999.0</dd><dt><span>nx :</span></dt><dd>13333.0</dd><dt><span>ny :</span></dt><dd>13333.0</dd><dt><span>proj4 :</span></dt><dd>+init=epsg:3031</dd><dt><span>sea_water_density (kg m-3) :</span></dt><dd>1027.0</dd><dt><span>source :</span></dt><dd>Antarctic Digital Database (rock outcrop) and Jeremie Mouginot (pers. comm., grounding lines)</dd><dt><span>spacing :</span></dt><dd>500</dd><dt><span>valid_range :</span></dt><dd>[0. 4.]</dd><dt><span>version :</span></dt><dd>15-Jul-2020 (v2.0)</dd><dt><span>xmin :</span></dt><dd>-3333000</dd><dt><span>ymax :</span></dt><dd>3333000</dd><dt><span>Conventions :</span></dt><dd>CF-1.7</dd></dl></div></li></ul></div></div>"
     },
     "execution_count": 13,
     "metadata": {},
     "output_type": "execute_result"
    }
   ],
   "source": [
    "aux_ds"
   ],
   "metadata": {
    "collapsed": false,
    "ExecuteTime": {
     "end_time": "2023-05-30T17:52:26.504064085Z",
     "start_time": "2023-05-30T17:52:26.455963602Z"
    }
   }
  },
  {
   "cell_type": "code",
   "execution_count": 14,
   "outputs": [
    {
     "data": {
      "text/plain": "                                                      tas\ntime       station          x1        x2                 \n1948-04-01 Macquarie_Island -1.039598  0.400453  1.507074\n1948-04-02 Macquarie_Island -1.039598  0.400453  1.560782\n1948-04-03 Macquarie_Island -1.039598  0.400453  1.431492\n1948-04-04 Macquarie_Island -1.039598  0.400453  1.457010\n1948-04-05 Macquarie_Island -1.039598  0.400453  1.381308\n...                                                   ...\n2022-06-14 Sky_Blu           0.153729 -0.459005 -0.588662\n2022-06-15 Butler Island     0.281365 -0.490629 -0.231892\n           Limbert           0.230653 -0.386157 -0.518914\n           Rothera           0.264879 -0.659692  0.433182\n           Sky_Blu           0.153729 -0.459005 -0.702642\n\n[941850 rows x 1 columns]",
      "text/html": "<div>\n<style scoped>\n    .dataframe tbody tr th:only-of-type {\n        vertical-align: middle;\n    }\n\n    .dataframe tbody tr th {\n        vertical-align: top;\n    }\n\n    .dataframe thead th {\n        text-align: right;\n    }\n</style>\n<table border=\"1\" class=\"dataframe\">\n  <thead>\n    <tr style=\"text-align: right;\">\n      <th></th>\n      <th></th>\n      <th></th>\n      <th></th>\n      <th>tas</th>\n    </tr>\n    <tr>\n      <th>time</th>\n      <th>station</th>\n      <th>x1</th>\n      <th>x2</th>\n      <th></th>\n    </tr>\n  </thead>\n  <tbody>\n    <tr>\n      <th>1948-04-01</th>\n      <th>Macquarie_Island</th>\n      <th>-1.039598</th>\n      <th>0.400453</th>\n      <td>1.507074</td>\n    </tr>\n    <tr>\n      <th>1948-04-02</th>\n      <th>Macquarie_Island</th>\n      <th>-1.039598</th>\n      <th>0.400453</th>\n      <td>1.560782</td>\n    </tr>\n    <tr>\n      <th>1948-04-03</th>\n      <th>Macquarie_Island</th>\n      <th>-1.039598</th>\n      <th>0.400453</th>\n      <td>1.431492</td>\n    </tr>\n    <tr>\n      <th>1948-04-04</th>\n      <th>Macquarie_Island</th>\n      <th>-1.039598</th>\n      <th>0.400453</th>\n      <td>1.457010</td>\n    </tr>\n    <tr>\n      <th>1948-04-05</th>\n      <th>Macquarie_Island</th>\n      <th>-1.039598</th>\n      <th>0.400453</th>\n      <td>1.381308</td>\n    </tr>\n    <tr>\n      <th>...</th>\n      <th>...</th>\n      <th>...</th>\n      <th>...</th>\n      <td>...</td>\n    </tr>\n    <tr>\n      <th>2022-06-14</th>\n      <th>Sky_Blu</th>\n      <th>0.153729</th>\n      <th>-0.459005</th>\n      <td>-0.588662</td>\n    </tr>\n    <tr>\n      <th rowspan=\"4\" valign=\"top\">2022-06-15</th>\n      <th>Butler Island</th>\n      <th>0.281365</th>\n      <th>-0.490629</th>\n      <td>-0.231892</td>\n    </tr>\n    <tr>\n      <th>Limbert</th>\n      <th>0.230653</th>\n      <th>-0.386157</th>\n      <td>-0.518914</td>\n    </tr>\n    <tr>\n      <th>Rothera</th>\n      <th>0.264879</th>\n      <th>-0.659692</th>\n      <td>0.433182</td>\n    </tr>\n    <tr>\n      <th>Sky_Blu</th>\n      <th>0.153729</th>\n      <th>-0.459005</th>\n      <td>-0.702642</td>\n    </tr>\n  </tbody>\n</table>\n<p>941850 rows × 1 columns</p>\n</div>"
     },
     "execution_count": 14,
     "metadata": {},
     "output_type": "execute_result"
    }
   ],
   "source": [
    "station_df"
   ],
   "metadata": {
    "collapsed": false,
    "ExecuteTime": {
     "end_time": "2023-05-30T17:52:26.592932610Z",
     "start_time": "2023-05-30T17:52:26.501902002Z"
    }
   }
  },
  {
   "cell_type": "markdown",
   "source": [
    "### Saving normalisation parameters for later\n",
    "A `DataProcessor` object can be initialised with pre-computed normalisation parameters."
   ],
   "metadata": {
    "collapsed": false
   }
  },
  {
   "cell_type": "code",
   "execution_count": 15,
   "outputs": [],
   "source": [
    "with open('norm_params.json', 'w') as f:\n",
    "    json.dump(data_processor.norm_params, f)"
   ],
   "metadata": {
    "collapsed": false,
    "ExecuteTime": {
     "end_time": "2023-05-30T17:52:26.782671576Z",
     "start_time": "2023-05-30T17:52:26.595232190Z"
    }
   }
  },
  {
   "cell_type": "code",
   "execution_count": 16,
   "outputs": [
    {
     "name": "stdout",
     "output_type": "stream",
     "text": [
      "DataProcessor with normalisation params:\n",
      "{'coords': {'x1': {'map': [0, 3500000.0], 'name': 'y'},\n",
      "            'x2': {'map': [0, 3500000.0], 'name': 'x'}},\n",
      " 'mask': {'max': 1.0, 'min': 0.0},\n",
      " 'surface': {'max': 4047.721923828125, 'min': 0.0},\n",
      " 't2m': {'mean': 0.05024006962776184, 'std': 3.8340163230895996},\n",
      " 'tas': {'mean': -16.261720883718514, 'std': 14.695655954303945}}\n"
     ]
    }
   ],
   "source": [
    "norm_params = json.load(open('norm_params.json', 'r'))\n",
    "data_processor = DataProcessor(norm_params)\n",
    "print(data_processor)"
   ],
   "metadata": {
    "collapsed": false,
    "ExecuteTime": {
     "end_time": "2023-05-30T17:52:26.835218080Z",
     "start_time": "2023-05-30T17:52:26.783102782Z"
    }
   }
  },
  {
   "cell_type": "markdown",
   "source": [
    "### Aside: Unnormalisation with the DataProcessor\n",
    "This will be useful when it comes to mapping model predictions back from normalised space to raw data space."
   ],
   "metadata": {
    "collapsed": false
   }
  },
  {
   "cell_type": "code",
   "execution_count": 17,
   "outputs": [],
   "source": [
    "era5_unnorm_ds, station_unnorm_df = data_processor.unnormalise([era5_ds, station_df])\n",
    "aux_unnorm_ds = data_processor.unnormalise(aux_ds, method=\"min_max\")"
   ],
   "metadata": {
    "collapsed": false,
    "ExecuteTime": {
     "end_time": "2023-05-30T17:52:33.632298564Z",
     "start_time": "2023-05-30T17:52:26.837314587Z"
    }
   }
  },
  {
   "cell_type": "markdown",
   "source": [
    "The normalised data has been mapped back to the raw data values (including coordinates):"
   ],
   "metadata": {
    "collapsed": false
   }
  },
  {
   "cell_type": "code",
   "execution_count": 18,
   "outputs": [
    {
     "data": {
      "text/plain": "<xarray.Dataset>\nDimensions:    (time: 25933, y: 280, x: 280)\nCoordinates:\n  * time       (time) datetime64[ns] 1950-01-01 1950-01-02 ... 2020-12-31\n  * y          (y) float64 3.488e+06 3.462e+06 ... -3.462e+06 -3.488e+06\n  * x          (x) float64 -3.488e+06 -3.462e+06 ... 3.462e+06 3.488e+06\n    dayofyear  (time) int64 1 2 3 4 5 6 7 8 ... 359 360 361 362 363 364 365 366\nData variables:\n    t2m        (time, y, x) float32 -0.4777 -0.4703 -0.4519 ... 0.2694 0.1503",
      "text/html": "<div><svg style=\"position: absolute; width: 0; height: 0; overflow: hidden\">\n<defs>\n<symbol id=\"icon-database\" viewBox=\"0 0 32 32\">\n<path d=\"M16 0c-8.837 0-16 2.239-16 5v4c0 2.761 7.163 5 16 5s16-2.239 16-5v-4c0-2.761-7.163-5-16-5z\"></path>\n<path d=\"M16 17c-8.837 0-16-2.239-16-5v6c0 2.761 7.163 5 16 5s16-2.239 16-5v-6c0 2.761-7.163 5-16 5z\"></path>\n<path d=\"M16 26c-8.837 0-16-2.239-16-5v6c0 2.761 7.163 5 16 5s16-2.239 16-5v-6c0 2.761-7.163 5-16 5z\"></path>\n</symbol>\n<symbol id=\"icon-file-text2\" viewBox=\"0 0 32 32\">\n<path d=\"M28.681 7.159c-0.694-0.947-1.662-2.053-2.724-3.116s-2.169-2.030-3.116-2.724c-1.612-1.182-2.393-1.319-2.841-1.319h-15.5c-1.378 0-2.5 1.121-2.5 2.5v27c0 1.378 1.122 2.5 2.5 2.5h23c1.378 0 2.5-1.122 2.5-2.5v-19.5c0-0.448-0.137-1.23-1.319-2.841zM24.543 5.457c0.959 0.959 1.712 1.825 2.268 2.543h-4.811v-4.811c0.718 0.556 1.584 1.309 2.543 2.268zM28 29.5c0 0.271-0.229 0.5-0.5 0.5h-23c-0.271 0-0.5-0.229-0.5-0.5v-27c0-0.271 0.229-0.5 0.5-0.5 0 0 15.499-0 15.5 0v7c0 0.552 0.448 1 1 1h7v19.5z\"></path>\n<path d=\"M23 26h-14c-0.552 0-1-0.448-1-1s0.448-1 1-1h14c0.552 0 1 0.448 1 1s-0.448 1-1 1z\"></path>\n<path d=\"M23 22h-14c-0.552 0-1-0.448-1-1s0.448-1 1-1h14c0.552 0 1 0.448 1 1s-0.448 1-1 1z\"></path>\n<path d=\"M23 18h-14c-0.552 0-1-0.448-1-1s0.448-1 1-1h14c0.552 0 1 0.448 1 1s-0.448 1-1 1z\"></path>\n</symbol>\n</defs>\n</svg>\n<style>/* CSS stylesheet for displaying xarray objects in jupyterlab.\n *\n */\n\n:root {\n  --xr-font-color0: var(--jp-content-font-color0, rgba(0, 0, 0, 1));\n  --xr-font-color2: var(--jp-content-font-color2, rgba(0, 0, 0, 0.54));\n  --xr-font-color3: var(--jp-content-font-color3, rgba(0, 0, 0, 0.38));\n  --xr-border-color: var(--jp-border-color2, #e0e0e0);\n  --xr-disabled-color: var(--jp-layout-color3, #bdbdbd);\n  --xr-background-color: var(--jp-layout-color0, white);\n  --xr-background-color-row-even: var(--jp-layout-color1, white);\n  --xr-background-color-row-odd: var(--jp-layout-color2, #eeeeee);\n}\n\nhtml[theme=dark],\nbody[data-theme=dark],\nbody.vscode-dark {\n  --xr-font-color0: rgba(255, 255, 255, 1);\n  --xr-font-color2: rgba(255, 255, 255, 0.54);\n  --xr-font-color3: rgba(255, 255, 255, 0.38);\n  --xr-border-color: #1F1F1F;\n  --xr-disabled-color: #515151;\n  --xr-background-color: #111111;\n  --xr-background-color-row-even: #111111;\n  --xr-background-color-row-odd: #313131;\n}\n\n.xr-wrap {\n  display: block !important;\n  min-width: 300px;\n  max-width: 700px;\n}\n\n.xr-text-repr-fallback {\n  /* fallback to plain text repr when CSS is not injected (untrusted notebook) */\n  display: none;\n}\n\n.xr-header {\n  padding-top: 6px;\n  padding-bottom: 6px;\n  margin-bottom: 4px;\n  border-bottom: solid 1px var(--xr-border-color);\n}\n\n.xr-header > div,\n.xr-header > ul {\n  display: inline;\n  margin-top: 0;\n  margin-bottom: 0;\n}\n\n.xr-obj-type,\n.xr-array-name {\n  margin-left: 2px;\n  margin-right: 10px;\n}\n\n.xr-obj-type {\n  color: var(--xr-font-color2);\n}\n\n.xr-sections {\n  padding-left: 0 !important;\n  display: grid;\n  grid-template-columns: 150px auto auto 1fr 20px 20px;\n}\n\n.xr-section-item {\n  display: contents;\n}\n\n.xr-section-item input {\n  display: none;\n}\n\n.xr-section-item input + label {\n  color: var(--xr-disabled-color);\n}\n\n.xr-section-item input:enabled + label {\n  cursor: pointer;\n  color: var(--xr-font-color2);\n}\n\n.xr-section-item input:enabled + label:hover {\n  color: var(--xr-font-color0);\n}\n\n.xr-section-summary {\n  grid-column: 1;\n  color: var(--xr-font-color2);\n  font-weight: 500;\n}\n\n.xr-section-summary > span {\n  display: inline-block;\n  padding-left: 0.5em;\n}\n\n.xr-section-summary-in:disabled + label {\n  color: var(--xr-font-color2);\n}\n\n.xr-section-summary-in + label:before {\n  display: inline-block;\n  content: '►';\n  font-size: 11px;\n  width: 15px;\n  text-align: center;\n}\n\n.xr-section-summary-in:disabled + label:before {\n  color: var(--xr-disabled-color);\n}\n\n.xr-section-summary-in:checked + label:before {\n  content: '▼';\n}\n\n.xr-section-summary-in:checked + label > span {\n  display: none;\n}\n\n.xr-section-summary,\n.xr-section-inline-details {\n  padding-top: 4px;\n  padding-bottom: 4px;\n}\n\n.xr-section-inline-details {\n  grid-column: 2 / -1;\n}\n\n.xr-section-details {\n  display: none;\n  grid-column: 1 / -1;\n  margin-bottom: 5px;\n}\n\n.xr-section-summary-in:checked ~ .xr-section-details {\n  display: contents;\n}\n\n.xr-array-wrap {\n  grid-column: 1 / -1;\n  display: grid;\n  grid-template-columns: 20px auto;\n}\n\n.xr-array-wrap > label {\n  grid-column: 1;\n  vertical-align: top;\n}\n\n.xr-preview {\n  color: var(--xr-font-color3);\n}\n\n.xr-array-preview,\n.xr-array-data {\n  padding: 0 5px !important;\n  grid-column: 2;\n}\n\n.xr-array-data,\n.xr-array-in:checked ~ .xr-array-preview {\n  display: none;\n}\n\n.xr-array-in:checked ~ .xr-array-data,\n.xr-array-preview {\n  display: inline-block;\n}\n\n.xr-dim-list {\n  display: inline-block !important;\n  list-style: none;\n  padding: 0 !important;\n  margin: 0;\n}\n\n.xr-dim-list li {\n  display: inline-block;\n  padding: 0;\n  margin: 0;\n}\n\n.xr-dim-list:before {\n  content: '(';\n}\n\n.xr-dim-list:after {\n  content: ')';\n}\n\n.xr-dim-list li:not(:last-child):after {\n  content: ',';\n  padding-right: 5px;\n}\n\n.xr-has-index {\n  font-weight: bold;\n}\n\n.xr-var-list,\n.xr-var-item {\n  display: contents;\n}\n\n.xr-var-item > div,\n.xr-var-item label,\n.xr-var-item > .xr-var-name span {\n  background-color: var(--xr-background-color-row-even);\n  margin-bottom: 0;\n}\n\n.xr-var-item > .xr-var-name:hover span {\n  padding-right: 5px;\n}\n\n.xr-var-list > li:nth-child(odd) > div,\n.xr-var-list > li:nth-child(odd) > label,\n.xr-var-list > li:nth-child(odd) > .xr-var-name span {\n  background-color: var(--xr-background-color-row-odd);\n}\n\n.xr-var-name {\n  grid-column: 1;\n}\n\n.xr-var-dims {\n  grid-column: 2;\n}\n\n.xr-var-dtype {\n  grid-column: 3;\n  text-align: right;\n  color: var(--xr-font-color2);\n}\n\n.xr-var-preview {\n  grid-column: 4;\n}\n\n.xr-index-preview {\n  grid-column: 2 / 5;\n  color: var(--xr-font-color2);\n}\n\n.xr-var-name,\n.xr-var-dims,\n.xr-var-dtype,\n.xr-preview,\n.xr-attrs dt {\n  white-space: nowrap;\n  overflow: hidden;\n  text-overflow: ellipsis;\n  padding-right: 10px;\n}\n\n.xr-var-name:hover,\n.xr-var-dims:hover,\n.xr-var-dtype:hover,\n.xr-attrs dt:hover {\n  overflow: visible;\n  width: auto;\n  z-index: 1;\n}\n\n.xr-var-attrs,\n.xr-var-data,\n.xr-index-data {\n  display: none;\n  background-color: var(--xr-background-color) !important;\n  padding-bottom: 5px !important;\n}\n\n.xr-var-attrs-in:checked ~ .xr-var-attrs,\n.xr-var-data-in:checked ~ .xr-var-data,\n.xr-index-data-in:checked ~ .xr-index-data {\n  display: block;\n}\n\n.xr-var-data > table {\n  float: right;\n}\n\n.xr-var-name span,\n.xr-var-data,\n.xr-index-name div,\n.xr-index-data,\n.xr-attrs {\n  padding-left: 25px !important;\n}\n\n.xr-attrs,\n.xr-var-attrs,\n.xr-var-data,\n.xr-index-data {\n  grid-column: 1 / -1;\n}\n\ndl.xr-attrs {\n  padding: 0;\n  margin: 0;\n  display: grid;\n  grid-template-columns: 125px auto;\n}\n\n.xr-attrs dt,\n.xr-attrs dd {\n  padding: 0;\n  margin: 0;\n  float: left;\n  padding-right: 10px;\n  width: auto;\n}\n\n.xr-attrs dt {\n  font-weight: normal;\n  grid-column: 1;\n}\n\n.xr-attrs dt:hover span {\n  display: inline-block;\n  background: var(--xr-background-color);\n  padding-right: 10px;\n}\n\n.xr-attrs dd {\n  grid-column: 2;\n  white-space: pre-wrap;\n  word-break: break-all;\n}\n\n.xr-icon-database,\n.xr-icon-file-text2,\n.xr-no-icon {\n  display: inline-block;\n  vertical-align: middle;\n  width: 1em;\n  height: 1.5em !important;\n  stroke-width: 0;\n  stroke: currentColor;\n  fill: currentColor;\n}\n</style><pre class='xr-text-repr-fallback'>&lt;xarray.Dataset&gt;\nDimensions:    (time: 25933, y: 280, x: 280)\nCoordinates:\n  * time       (time) datetime64[ns] 1950-01-01 1950-01-02 ... 2020-12-31\n  * y          (y) float64 3.488e+06 3.462e+06 ... -3.462e+06 -3.488e+06\n  * x          (x) float64 -3.488e+06 -3.462e+06 ... 3.462e+06 3.488e+06\n    dayofyear  (time) int64 1 2 3 4 5 6 7 8 ... 359 360 361 362 363 364 365 366\nData variables:\n    t2m        (time, y, x) float32 -0.4777 -0.4703 -0.4519 ... 0.2694 0.1503</pre><div class='xr-wrap' style='display:none'><div class='xr-header'><div class='xr-obj-type'>xarray.Dataset</div></div><ul class='xr-sections'><li class='xr-section-item'><input id='section-856e2ccf-2025-446c-ab3d-8b0f7418d075' class='xr-section-summary-in' type='checkbox' disabled ><label for='section-856e2ccf-2025-446c-ab3d-8b0f7418d075' class='xr-section-summary'  title='Expand/collapse section'>Dimensions:</label><div class='xr-section-inline-details'><ul class='xr-dim-list'><li><span class='xr-has-index'>time</span>: 25933</li><li><span class='xr-has-index'>y</span>: 280</li><li><span class='xr-has-index'>x</span>: 280</li></ul></div><div class='xr-section-details'></div></li><li class='xr-section-item'><input id='section-5efbefcd-3c08-4daf-9514-5aa2cfe08aca' class='xr-section-summary-in' type='checkbox'  checked><label for='section-5efbefcd-3c08-4daf-9514-5aa2cfe08aca' class='xr-section-summary' >Coordinates: <span>(4)</span></label><div class='xr-section-inline-details'></div><div class='xr-section-details'><ul class='xr-var-list'><li class='xr-var-item'><div class='xr-var-name'><span class='xr-has-index'>time</span></div><div class='xr-var-dims'>(time)</div><div class='xr-var-dtype'>datetime64[ns]</div><div class='xr-var-preview xr-preview'>1950-01-01 ... 2020-12-31</div><input id='attrs-7c6b3fb6-8748-4683-9740-c5fd447f8603' class='xr-var-attrs-in' type='checkbox' ><label for='attrs-7c6b3fb6-8748-4683-9740-c5fd447f8603' title='Show/Hide attributes'><svg class='icon xr-icon-file-text2'><use xlink:href='#icon-file-text2'></use></svg></label><input id='data-641f5475-3684-4e33-a0fe-3bb0b8f1c462' class='xr-var-data-in' type='checkbox'><label for='data-641f5475-3684-4e33-a0fe-3bb0b8f1c462' title='Show/Hide data repr'><svg class='icon xr-icon-database'><use xlink:href='#icon-database'></use></svg></label><div class='xr-var-attrs'><dl class='xr-attrs'><dt><span>axis :</span></dt><dd>T</dd><dt><span>standard_name :</span></dt><dd>time</dd></dl></div><div class='xr-var-data'><pre>array([&#x27;1950-01-01T00:00:00.000000000&#x27;, &#x27;1950-01-02T00:00:00.000000000&#x27;,\n       &#x27;1950-01-03T00:00:00.000000000&#x27;, ..., &#x27;2020-12-29T00:00:00.000000000&#x27;,\n       &#x27;2020-12-30T00:00:00.000000000&#x27;, &#x27;2020-12-31T00:00:00.000000000&#x27;],\n      dtype=&#x27;datetime64[ns]&#x27;)</pre></div></li><li class='xr-var-item'><div class='xr-var-name'><span class='xr-has-index'>y</span></div><div class='xr-var-dims'>(y)</div><div class='xr-var-dtype'>float64</div><div class='xr-var-preview xr-preview'>3.488e+06 3.462e+06 ... -3.488e+06</div><input id='attrs-0d902343-72a5-4e8a-aa44-6f8a639c4d39' class='xr-var-attrs-in' type='checkbox' disabled><label for='attrs-0d902343-72a5-4e8a-aa44-6f8a639c4d39' title='Show/Hide attributes'><svg class='icon xr-icon-file-text2'><use xlink:href='#icon-file-text2'></use></svg></label><input id='data-a435a90e-2d87-4230-b000-ef1095d5943b' class='xr-var-data-in' type='checkbox'><label for='data-a435a90e-2d87-4230-b000-ef1095d5943b' title='Show/Hide data repr'><svg class='icon xr-icon-database'><use xlink:href='#icon-database'></use></svg></label><div class='xr-var-attrs'><dl class='xr-attrs'></dl></div><div class='xr-var-data'><pre>array([ 3487500.,  3462500.,  3437500., ..., -3437500., -3462500., -3487500.])</pre></div></li><li class='xr-var-item'><div class='xr-var-name'><span class='xr-has-index'>x</span></div><div class='xr-var-dims'>(x)</div><div class='xr-var-dtype'>float64</div><div class='xr-var-preview xr-preview'>-3.488e+06 -3.462e+06 ... 3.488e+06</div><input id='attrs-e077f941-6739-499b-a7fd-3f3cd88d1c60' class='xr-var-attrs-in' type='checkbox' disabled><label for='attrs-e077f941-6739-499b-a7fd-3f3cd88d1c60' title='Show/Hide attributes'><svg class='icon xr-icon-file-text2'><use xlink:href='#icon-file-text2'></use></svg></label><input id='data-cbca89f5-8427-4306-9db0-783de3bc2583' class='xr-var-data-in' type='checkbox'><label for='data-cbca89f5-8427-4306-9db0-783de3bc2583' title='Show/Hide data repr'><svg class='icon xr-icon-database'><use xlink:href='#icon-database'></use></svg></label><div class='xr-var-attrs'><dl class='xr-attrs'></dl></div><div class='xr-var-data'><pre>array([-3487500., -3462500., -3437500., ...,  3437500.,  3462500.,  3487500.])</pre></div></li><li class='xr-var-item'><div class='xr-var-name'><span>dayofyear</span></div><div class='xr-var-dims'>(time)</div><div class='xr-var-dtype'>int64</div><div class='xr-var-preview xr-preview'>1 2 3 4 5 6 ... 362 363 364 365 366</div><input id='attrs-8165375c-92a2-4581-ab94-4b3eadf219d7' class='xr-var-attrs-in' type='checkbox' disabled><label for='attrs-8165375c-92a2-4581-ab94-4b3eadf219d7' title='Show/Hide attributes'><svg class='icon xr-icon-file-text2'><use xlink:href='#icon-file-text2'></use></svg></label><input id='data-d19f3840-da2b-4286-9a88-0eda6ad4642a' class='xr-var-data-in' type='checkbox'><label for='data-d19f3840-da2b-4286-9a88-0eda6ad4642a' title='Show/Hide data repr'><svg class='icon xr-icon-database'><use xlink:href='#icon-database'></use></svg></label><div class='xr-var-attrs'><dl class='xr-attrs'></dl></div><div class='xr-var-data'><pre>array([  1,   2,   3, ..., 364, 365, 366])</pre></div></li></ul></div></li><li class='xr-section-item'><input id='section-64015464-ed86-47b0-ab8c-82f373afa458' class='xr-section-summary-in' type='checkbox'  checked><label for='section-64015464-ed86-47b0-ab8c-82f373afa458' class='xr-section-summary' >Data variables: <span>(1)</span></label><div class='xr-section-inline-details'></div><div class='xr-section-details'><ul class='xr-var-list'><li class='xr-var-item'><div class='xr-var-name'><span>t2m</span></div><div class='xr-var-dims'>(time, y, x)</div><div class='xr-var-dtype'>float32</div><div class='xr-var-preview xr-preview'>-0.4777 -0.4703 ... 0.2694 0.1503</div><input id='attrs-10be0357-6fb6-473a-a390-6ef02b234a6a' class='xr-var-attrs-in' type='checkbox' disabled><label for='attrs-10be0357-6fb6-473a-a390-6ef02b234a6a' title='Show/Hide attributes'><svg class='icon xr-icon-file-text2'><use xlink:href='#icon-file-text2'></use></svg></label><input id='data-a6b3df49-6d28-4aba-bee8-8700e2dc1e87' class='xr-var-data-in' type='checkbox'><label for='data-a6b3df49-6d28-4aba-bee8-8700e2dc1e87' title='Show/Hide data repr'><svg class='icon xr-icon-database'><use xlink:href='#icon-database'></use></svg></label><div class='xr-var-attrs'><dl class='xr-attrs'></dl></div><div class='xr-var-data'><pre>array([[[-0.477663  , -0.47029784, -0.45188335, ..., -2.5017455 ,\n         -2.5145066 , -2.5000174 ],\n        [-0.5555916 , -0.53666496, -0.52388096, ..., -2.4970303 ,\n         -2.5216913 , -2.4984925 ],\n        [-0.6564741 , -0.6377878 , -0.6137972 , ..., -2.4705532 ,\n         -2.5145104 , -2.5255904 ],\n        ...,\n        [-0.889822  , -1.0169145 , -1.191146  , ...,  0.30390644,\n          0.31043434,  0.3111582 ],\n        [-0.9399481 , -1.0446264 , -1.2259895 , ...,  0.32032302,\n          0.32883647,  0.31646347],\n        [-0.9516516 , -1.0520831 , -1.2425596 , ...,  0.3354588 ,\n          0.3410654 ,  0.3276339 ]],\n\n       [[-3.2787154 , -3.3125012 , -3.3344862 , ..., -1.1430432 ,\n         -1.1672155 , -1.1863967 ],\n        [-3.337454  , -3.3718007 , -3.3906138 , ..., -1.1647226 ,\n         -1.1701189 , -1.1621461 ],\n        [-3.3894074 , -3.4257567 , -3.4548666 , ..., -1.1875197 ,\n         -1.1849076 , -1.173565  ],\n...\n        [ 0.36281586,  0.1746874 , -0.05285263, ..., -0.07920171,\n         -0.09870148, -0.14402105],\n        [ 0.41761878,  0.2754469 ,  0.06215191, ..., -0.13557146,\n         -0.16005705, -0.21646786],\n        [ 0.4995308 ,  0.31215763,  0.14992332, ..., -0.18345644,\n         -0.22057822, -0.2865057 ]],\n\n       [[ 2.7307472 ,  2.7481441 ,  2.7523766 , ...,  1.5571041 ,\n          1.5192146 ,  1.4700736 ],\n        [ 2.730257  ,  2.772791  ,  2.77355   , ...,  1.604391  ,\n          1.5688057 ,  1.5052929 ],\n        [ 2.7634907 ,  2.806015  ,  2.8065052 , ...,  1.6536942 ,\n          1.6187572 ,  1.5708008 ],\n        ...,\n        [-0.50118065, -0.4873409 , -0.45042232, ...,  0.42966464,\n          0.37332916,  0.2819958 ],\n        [-0.46300313, -0.44464687, -0.41750908, ...,  0.42270282,\n          0.3326626 ,  0.21714212],\n        [-0.41998482, -0.44703296, -0.41142082, ...,  0.38759044,\n          0.26935577,  0.15031624]]], dtype=float32)</pre></div></li></ul></div></li><li class='xr-section-item'><input id='section-b38f439a-1475-4ee6-9927-0b9239a30270' class='xr-section-summary-in' type='checkbox'  ><label for='section-b38f439a-1475-4ee6-9927-0b9239a30270' class='xr-section-summary' >Indexes: <span>(3)</span></label><div class='xr-section-inline-details'></div><div class='xr-section-details'><ul class='xr-var-list'><li class='xr-var-item'><div class='xr-index-name'><div>time</div></div><div class='xr-index-preview'>PandasIndex</div><div></div><input id='index-31e6a2a8-f09b-450e-851a-982523ad5c82' class='xr-index-data-in' type='checkbox'/><label for='index-31e6a2a8-f09b-450e-851a-982523ad5c82' title='Show/Hide index repr'><svg class='icon xr-icon-database'><use xlink:href='#icon-database'></use></svg></label><div class='xr-index-data'><pre>PandasIndex(DatetimeIndex([&#x27;1950-01-01&#x27;, &#x27;1950-01-02&#x27;, &#x27;1950-01-03&#x27;, &#x27;1950-01-04&#x27;,\n               &#x27;1950-01-05&#x27;, &#x27;1950-01-06&#x27;, &#x27;1950-01-07&#x27;, &#x27;1950-01-08&#x27;,\n               &#x27;1950-01-09&#x27;, &#x27;1950-01-10&#x27;,\n               ...\n               &#x27;2020-12-22&#x27;, &#x27;2020-12-23&#x27;, &#x27;2020-12-24&#x27;, &#x27;2020-12-25&#x27;,\n               &#x27;2020-12-26&#x27;, &#x27;2020-12-27&#x27;, &#x27;2020-12-28&#x27;, &#x27;2020-12-29&#x27;,\n               &#x27;2020-12-30&#x27;, &#x27;2020-12-31&#x27;],\n              dtype=&#x27;datetime64[ns]&#x27;, name=&#x27;time&#x27;, length=25933, freq=None))</pre></div></li><li class='xr-var-item'><div class='xr-index-name'><div>y</div></div><div class='xr-index-preview'>PandasIndex</div><div></div><input id='index-23aa6cfc-b164-4daf-81cb-771737775d3c' class='xr-index-data-in' type='checkbox'/><label for='index-23aa6cfc-b164-4daf-81cb-771737775d3c' title='Show/Hide index repr'><svg class='icon xr-icon-database'><use xlink:href='#icon-database'></use></svg></label><div class='xr-index-data'><pre>PandasIndex(Index([ 3487500.0,  3462500.0,  3437500.0,  3412500.0,  3387500.0,  3362500.0,\n        3337500.0,  3312500.0,  3287500.0,  3262500.0,\n       ...\n       -3262500.0, -3287500.0, -3312500.0, -3337500.0, -3362500.0, -3387500.0,\n       -3412500.0, -3437500.0, -3462500.0, -3487500.0],\n      dtype=&#x27;float64&#x27;, name=&#x27;y&#x27;, length=280))</pre></div></li><li class='xr-var-item'><div class='xr-index-name'><div>x</div></div><div class='xr-index-preview'>PandasIndex</div><div></div><input id='index-cf5c560c-4335-4e8b-9536-4d0d49652f1f' class='xr-index-data-in' type='checkbox'/><label for='index-cf5c560c-4335-4e8b-9536-4d0d49652f1f' title='Show/Hide index repr'><svg class='icon xr-icon-database'><use xlink:href='#icon-database'></use></svg></label><div class='xr-index-data'><pre>PandasIndex(Index([-3487500.0, -3462500.0, -3437500.0, -3412500.0, -3387500.0, -3362500.0,\n       -3337500.0, -3312500.0, -3287500.0, -3262500.0,\n       ...\n        3262500.0,  3287500.0,  3312500.0,  3337500.0,  3362500.0,  3387500.0,\n        3412500.0,  3437500.0,  3462500.0,  3487500.0],\n      dtype=&#x27;float64&#x27;, name=&#x27;x&#x27;, length=280))</pre></div></li></ul></div></li><li class='xr-section-item'><input id='section-debd4380-edef-4b07-bd40-5f1924859875' class='xr-section-summary-in' type='checkbox' disabled ><label for='section-debd4380-edef-4b07-bd40-5f1924859875' class='xr-section-summary'  title='Expand/collapse section'>Attributes: <span>(0)</span></label><div class='xr-section-inline-details'></div><div class='xr-section-details'><dl class='xr-attrs'></dl></div></li></ul></div></div>"
     },
     "execution_count": 18,
     "metadata": {},
     "output_type": "execute_result"
    }
   ],
   "source": [
    "era5_unnorm_ds"
   ],
   "metadata": {
    "collapsed": false,
    "ExecuteTime": {
     "end_time": "2023-05-30T17:52:33.764040174Z",
     "start_time": "2023-05-30T17:52:33.636257806Z"
    }
   }
  },
  {
   "cell_type": "code",
   "execution_count": 19,
   "outputs": [],
   "source": [
    "station_unnorm_df"
   ],
   "metadata": {
    "collapsed": false
   }
  },
  {
   "cell_type": "markdown",
   "source": [
    "### Add extra auxiliary information\n",
    "Adding coordinate fields helps with learning spatial non-stationarity, and adding time fields helps with learning temporal non-stationarity."
   ],
   "metadata": {
    "collapsed": false
   }
  },
  {
   "cell_type": "code",
   "execution_count": 20,
   "outputs": [],
   "source": [
    "x1x2_ds = construct_x1x2_ds(aux_ds)\n",
    "aux_ds['x1_arr'] = x1x2_ds['x1_arr']\n",
    "aux_ds['x2_arr'] = x1x2_ds['x2_arr']\n",
    "\n",
    "dates = pd.date_range(era5_ds.time.values.min(), era5_ds.time.values.max(), freq=\"D\")\n",
    "doy_ds = construct_circ_time_ds(dates, freq=\"D\")\n",
    "aux_ds[\"cos_D\"] = doy_ds[\"cos_D\"]\n",
    "aux_ds[\"sin_D\"] = doy_ds[\"sin_D\"]"
   ],
   "metadata": {
    "collapsed": false
   }
  },
  {
   "cell_type": "markdown",
   "source": [
    "## Loading tasks"
   ],
   "metadata": {
    "collapsed": false
   }
  },
  {
   "cell_type": "markdown",
   "metadata": {},
   "source": [
    "### Set up a TaskLoader object\n",
    "Note the flexibility of the `TaskLoader` init arguments below.\n",
    "With slight changes to the arguments, we can instantiate a `TaskLoader` that generates tasks for forecasting or interpolation."
   ]
  },
  {
   "cell_type": "code",
   "execution_count": 21,
   "metadata": {},
   "outputs": [],
   "source": [
    "task_loader = TaskLoader(context=[era5_ds['t2m'], aux_ds], target=era5_ds['t2m'],\n",
    "                         context_delta_t=0, target_delta_t=0,)\n",
    "print(task_loader)"
   ]
  },
  {
   "cell_type": "code",
   "execution_count": 22,
   "metadata": {},
   "outputs": [],
   "source": [
    "# task_loader.load_dask()  # Load any dask arrays into memory for faster training"
   ]
  },
  {
   "cell_type": "markdown",
   "metadata": {},
   "source": [
    "### The TaskLoader outputs Tasks, which are dict-like objects containing context and target data"
   ]
  },
  {
   "cell_type": "markdown",
   "metadata": {},
   "source": [
    "Calling a `TaskLoader` with a `date` generates a `Task` for that date by slicing the context and target variables.\n",
    "`Task`s inherit from `dict` and provide `__str__` and `__repr__` methods for debugging.\n",
    "`TaskLoader` offers several data sampling methods for generating `Task`s.\n",
    "```\n",
    "\"grid\": 2D grid of data\n",
    "N, int: uniform random sampling of N grid cells\n",
    "```"
   ]
  },
  {
   "cell_type": "code",
   "execution_count": 23,
   "metadata": {},
   "outputs": [],
   "source": [
    "task = task_loader(\"2000-01-01\", \"grid\", 10)\n",
    "print(type(task), \"\\n\")\n",
    "\n",
    "print(\"Concise task summary:\")\n",
    "print(task)\n",
    "\n",
    "print(\"Verbose task summary:\")\n",
    "print(repr(task))"
   ]
  },
  {
   "cell_type": "markdown",
   "source": [
    "## Initialise model"
   ],
   "metadata": {
    "collapsed": false
   }
  },
  {
   "cell_type": "markdown",
   "metadata": {},
   "source": [
    "### Set up ConvNP object\n",
    "\n",
    "`ConvNP` wraps around the `neuralprocesses` library to provide a convenient interface for inference with environmental data in the form of `Task`s.\n",
    "\n",
    "There are several ways to set up a `ConvNP` object.\n",
    "\n",
    "Advanced users can instantiate a ConvNP from an existing `neuralprocesses` model working in pure `neuralprocesses` for more flexibility.\n"
   ]
  },
  {
   "cell_type": "code",
   "execution_count": 24,
   "metadata": {},
   "outputs": [],
   "source": [
    "custom_model = deepsensor.backend.nps.construct_convgnp()\n",
    "model = ConvNP(data_processor, task_loader, custom_model)"
   ]
  },
  {
   "cell_type": "markdown",
   "source": [
    "However, we will instantiate a ConvNP with a TaskLoader to infer sensible defaults (unless overridden with `neuralprocesses.construct_convgnp` kwargs).\n",
    "The TaskLoader and DataProcessor will also be used to unnormalise model predictions at inference time.\n"
   ],
   "metadata": {
    "collapsed": false
   }
  },
  {
   "cell_type": "code",
   "execution_count": 25,
   "metadata": {},
   "outputs": [],
   "source": [
    "model_dim = 30\n",
    "model = ConvNP(data_processor, task_loader, unet_channels=(model_dim,) * 4, likelihood=\"het\")"
   ]
  },
  {
   "cell_type": "markdown",
   "metadata": {},
   "source": [
    "A `ConvNP`'s `__call__` method accepts a `Task` and returns a distribution object.\n",
    "The distribution object can be used to compute predictions, sample from the model, compute entropy, etc, without having to run the model again."
   ]
  },
  {
   "cell_type": "code",
   "execution_count": 26,
   "metadata": {},
   "outputs": [],
   "source": [
    "# Run model on a random task to build model, with all context data and 3 random target locations\n",
    "task = task_loader(\"2000-01-01\", \"grid\", 3)\n",
    "task = ConvNP.modify_task(task)\n",
    "\n",
    "dist = model(task)\n",
    "print('Distribution object: ', type(dist))\n",
    "x = model.mean(dist)\n",
    "print('Mean: ', x.shape, x)\n",
    "x = model.sample(dist, n_samples=2)\n",
    "print('Sample: ', x.shape, x)\n",
    "x = model.variance(dist)\n",
    "print('Variance: ', x.shape, x)\n",
    "x = model.stddev(dist)\n",
    "print('Std dev: ', x.shape, x)\n",
    "x = model.covariance(dist)\n",
    "print('Covariance: ', x.shape)\n",
    "x = model.logpdf(dist, task)\n",
    "print('logpdf: ', x)\n",
    "x = model.entropy(dist)\n",
    "print('Entropy: ', x)"
   ]
  },
  {
   "cell_type": "markdown",
   "metadata": {},
   "source": [
    "Note, all of the above methods can be called on a `Task` rather than a distribution object, and the model will be run internally, e.g.:"
   ]
  },
  {
   "cell_type": "code",
   "execution_count": 27,
   "metadata": {},
   "outputs": [],
   "source": [
    "x = model.mean(task)\n",
    "print('Mean: ', x.shape, x)"
   ]
  },
  {
   "cell_type": "markdown",
   "metadata": {},
   "source": [
    "After model has been built, we can get some useful information:"
   ]
  },
  {
   "cell_type": "code",
   "execution_count": 28,
   "metadata": {},
   "outputs": [],
   "source": [
    "print(f\"Model receptive field: {model.model.receptive_field:.2f}\")\n",
    "print(f\"Model has {ds.backend.nps.num_params(model.model):,} parameters\")"
   ]
  },
  {
   "cell_type": "markdown",
   "source": [
    "The model has a method to reshape the task data into a format that can be passed to the model:"
   ],
   "metadata": {
    "collapsed": false
   }
  },
  {
   "cell_type": "code",
   "execution_count": null,
   "outputs": [],
   "source": [
    "task = ConvNP.modify_task(task)\n",
    "print(repr(task))"
   ],
   "metadata": {
    "collapsed": false
   }
  },
  {
   "cell_type": "markdown",
   "metadata": {},
   "source": [
    "### Visualise encoded context data in the model\n",
    "Inspecting the gridded encoding of the context data helps with understanding the context sampling schemes.\n",
    "\n",
    "This can also be an extremely useful debugging tool. For example:\n",
    "* Do the length scales of the encoded data seem reasonable (i.e. avoids blurring high frequency components while not being so small to induce checkerboard artefacts)?\n",
    "* Are the channel magnitudes in the encoding reasonable?\n",
    "* Are there any `nan` values?"
   ]
  },
  {
   "cell_type": "code",
   "execution_count": null,
   "metadata": {},
   "outputs": [],
   "source": [
    "task = task_loader(\"2000-01-01\", (250, \"grid\"), 5000)\n",
    "encoding = compute_encoding_tensor(model, task)\n",
    "print(f\"\\nEncoding is shape {encoding.shape}\")\n",
    "fig = plot_context_encoding(model, task, task_loader)\n",
    "plt.show()"
   ]
  },
  {
   "cell_type": "markdown",
   "source": [
    "It's a little hard to see the first encoded context set, so we can plot it separately and increase the figure size:"
   ],
   "metadata": {
    "collapsed": false
   }
  },
  {
   "cell_type": "code",
   "execution_count": null,
   "outputs": [],
   "source": [
    "fig = plot_context_encoding(model, task, task_loader, context_set_idxs=0, size=7)\n",
    "plt.show()"
   ],
   "metadata": {
    "collapsed": false
   }
  },
  {
   "cell_type": "markdown",
   "metadata": {},
   "source": [
    "## Train model\n",
    "\n",
    "The `model` attribute of a `ConvNP` object exposes the raw `neuralprocesses` model.\n",
    "The model can be trained with vanilla `tensorflow` or `torch` approaches, as illustrated below."
   ]
  },
  {
   "cell_type": "code",
   "execution_count": null,
   "outputs": [],
   "source": [
    "if deepsensor.backend.str == 'tf':\n",
    "    import tensorflow as tf\n",
    "\n",
    "    opt = tf.keras.optimizers.Adam(5e-5)\n",
    "\n",
    "    def train_step(tasks):\n",
    "        if not isinstance(tasks, list):\n",
    "            tasks = [tasks]\n",
    "        with tf.GradientTape() as tape:\n",
    "            task_losses = []\n",
    "            for task in tasks:\n",
    "                task_losses.append(model.loss_fn(task, normalise=True))\n",
    "            mean_batch_loss = B.mean(task_losses)\n",
    "        grads = tape.gradient(mean_batch_loss, model.model.trainable_weights)\n",
    "        opt.apply_gradients(zip(grads, model.model.trainable_weights))\n",
    "        return mean_batch_loss\n",
    "\n",
    "elif deepsensor.backend.str == 'torch':\n",
    "    import torch.optim as optim\n",
    "\n",
    "    opt = optim.Adam(model.model.parameters(), lr=5e-5)\n",
    "\n",
    "    def train_step(tasks):\n",
    "        if not isinstance(tasks, list):\n",
    "            tasks = [tasks]\n",
    "        opt.zero_grad()\n",
    "        task_losses = []\n",
    "        for task in tasks:\n",
    "            task_losses.append(model.loss_fn(task, normalise=True))\n",
    "        mean_batch_loss = B.mean(torch.stack(task_losses))\n",
    "        mean_batch_loss.backward()\n",
    "        opt.step()\n",
    "        return mean_batch_loss.detach().cpu().numpy()\n",
    "else:\n",
    "    raise NotImplementedError(f\"Backend {deepsensor.backend.str} not implemented\")"
   ],
   "metadata": {
    "collapsed": false
   }
  },
  {
   "cell_type": "code",
   "execution_count": null,
   "metadata": {},
   "outputs": [],
   "source": [
    "n_epochs = 10\n",
    "epoch_losses = []\n",
    "for epoch in tqdm(range(n_epochs), position=0):\n",
    "    dates = pd.date_range('1980-01-01', '2009-11-30')[::365]\n",
    "    batch_losses = []\n",
    "    for date in dates:\n",
    "        n_obs = np.random.randint(5, 5000)  # Random number of context observations\n",
    "        n_t = 5000  # Number of target points\n",
    "        task = task_loader(date, (n_obs, \"grid\"), n_t)  # Generate task with all auxiliary context\n",
    "        batch_loss = train_step(task)\n",
    "        batch_losses.append(batch_loss)\n",
    "\n",
    "    epoch_loss = np.mean(batch_losses)\n",
    "    epoch_losses.append(epoch_loss)\n",
    "    print(f\"Epoch {epoch} loss: {epoch_loss:.2f}\")"
   ]
  },
  {
   "cell_type": "code",
   "execution_count": null,
   "metadata": {},
   "outputs": [],
   "source": [
    "plt.plot(epoch_losses)\n",
    "plt.gca().set_ylabel(\"loss\")\n",
    "plt.gca().set_xlabel(\"epoch\")"
   ]
  },
  {
   "cell_type": "markdown",
   "source": [
    "However, to save time, we will load a pre-trained model."
   ],
   "metadata": {
    "collapsed": false
   }
  },
  {
   "cell_type": "code",
   "execution_count": null,
   "outputs": [],
   "source": [
    "load_weights = True\n",
    "if load_weights:\n",
    "    if deepsensor.backend.str == \"tf\":\n",
    "        model.model.load_weights(\"model.h5\")\n",
    "    elif deepsensor.backend.str == \"torch\":\n",
    "        model.model.load_state_dict(torch.load(\"model.pt\"))"
   ],
   "metadata": {
    "collapsed": false
   }
  },
  {
   "cell_type": "markdown",
   "metadata": {},
   "source": [
    "## Predict on heldout data\n",
    "\n",
    "The `ConvNP` parent class, `DeepSensorModel`, provides a `predict_ongrid` method to map from tasks to a gridded `xarray` object of predictions."
   ]
  },
  {
   "cell_type": "markdown",
   "source": [
    "### Predicting on a regular grid\n",
    "\n",
    "The `predict_ongrid` method receives `Task` objects containing context data and an `xr.Dataset` containing the target prediction locations.\n",
    "By default the target locations are assumed to be in raw (unnormalised) form, which are more natural to work with.\n",
    "However, this can be changed by setting `X_t_normalised=True`."
   ],
   "metadata": {
    "collapsed": false
   }
  },
  {
   "cell_type": "code",
   "execution_count": null,
   "metadata": {},
   "outputs": [],
   "source": [
    "test_date = pd.Timestamp(\"2014-01-01\")\n",
    "task = task_loader(test_date, context_sampling=(100, \"grid\"))"
   ]
  },
  {
   "cell_type": "code",
   "execution_count": null,
   "metadata": {},
   "outputs": [],
   "source": [
    "mean_ds, std_ds = model.predict(task, X_t=era5_raw_ds)\n",
    "print(mean_ds)\n",
    "print('\\n')\n",
    "print(std_ds)"
   ]
  },
  {
   "cell_type": "code",
   "execution_count": null,
   "outputs": [],
   "source": [
    "err_da = mean_ds - era5_raw_ds\n",
    "err_da"
   ],
   "metadata": {
    "collapsed": false
   }
  },
  {
   "cell_type": "code",
   "execution_count": null,
   "outputs": [],
   "source": [
    "crs = ccrs.LambertAzimuthalEqualArea(0, -90)\n",
    "fig, axes = plt.subplots(subplot_kw={\"projection\": crs}, nrows=1, ncols=4, figsize=(20, 5))\n",
    "era5_raw_ds[\"t2m\"].sel(time=task[\"time\"]).plot(cmap=\"seismic\", ax=axes[0])\n",
    "axes[0].set_title(\"ERA5\")\n",
    "mean_ds[\"t2m\"].sel(time=task[\"time\"]).plot(cmap=\"seismic\", ax=axes[1])\n",
    "axes[1].set_title(\"ConvNP mean\")\n",
    "std_ds[\"t2m\"].sel(time=task[\"time\"]).plot(cmap=\"Greys\", ax=axes[2])\n",
    "axes[2].set_title(\"ConvNP std dev\")\n",
    "err_da[\"t2m\"].sel(time=task[\"time\"]).plot(cmap=\"seismic\", ax=axes[3])\n",
    "axes[3].set_title(\"ConvNP error\")\n",
    "plot_offgrid_context(axes, task, data_processor, s=3**2, linewidths=0.5)\n",
    "for ax in axes:\n",
    "    ax.coastlines()"
   ],
   "metadata": {
    "collapsed": false
   }
  },
  {
   "cell_type": "code",
   "execution_count": null,
   "metadata": {},
   "outputs": [],
   "source": [
    "mae = dask.array.fabs(err_da[\"t2m\"]).mean()\n",
    "rmse = np.sqrt(dask.array.square(err_da[\"t2m\"]).mean())\n",
    "print(f\"Test MAE: {mae.values:.2f} K, RMSE: {rmse.values:.2f} K\")"
   ]
  },
  {
   "cell_type": "markdown",
   "source": [
    "\n",
    "### Predicting at off-grid locations\n",
    "\n",
    "Simply pass a pandas `Index` (or a `DataFrame`) containing the target locations as the `X_t` argument to `predict`.\n",
    "The spatial coordinates in `X_t` will be set as the target prediction locations.\n",
    "The model will return `DataFrame`s containing predictions. These will include a `'time'` index based on the `Task`s passed to the `predict` method.\n",
    "\n",
    "Note, any indexes in `X_t` other than the spatial coordiantes will also be copied to the output `pandas` objects.\n",
    "This is useful for maintaining metadata such as station names."
   ],
   "metadata": {
    "collapsed": false
   }
  },
  {
   "cell_type": "code",
   "execution_count": null,
   "outputs": [],
   "source": [
    "test_dates = pd.date_range(\"2014-01-01\", \"2014-03-31\")\n",
    "tasks = task_loader(test_dates, (100, \"grid\"), 0, deterministic=True)"
   ],
   "metadata": {
    "collapsed": false
   }
  },
  {
   "cell_type": "code",
   "execution_count": null,
   "outputs": [],
   "source": [
    "X_t = station_raw_df.loc[\"2014-01-01\"].index  # If you pass a DataFrame, the index will be used as X_t\n",
    "print(X_t)"
   ],
   "metadata": {
    "collapsed": false
   }
  },
  {
   "cell_type": "code",
   "execution_count": null,
   "outputs": [],
   "source": [
    "mean_df, std_df = model.predict(tasks, X_t, progress_bar=True)\n",
    "print(mean_df)\n",
    "print('\\n')\n",
    "print(std_df)"
   ],
   "metadata": {
    "collapsed": false
   }
  },
  {
   "cell_type": "code",
   "execution_count": null,
   "outputs": [],
   "source": [
    "plot_df = mean_df.reset_index().set_index('station').loc[['Amundsen_Scott', 'Rothera']]\n",
    "# plot_df = samples_df.reset_index().set_index('station').loc[['Amundsen_Scott', 'Rothera']]\n",
    "\n",
    "fig, ax = plt.subplots(figsize=(18, 6))\n",
    "sns.lineplot(\n",
    "    data=plot_df,\n",
    "    x='time',\n",
    "    y='t2m',\n",
    "    hue='station',\n",
    "    ax=ax,\n",
    ")\n",
    "plt.show()"
   ],
   "metadata": {
    "collapsed": false
   }
  },
  {
   "cell_type": "code",
   "execution_count": null,
   "metadata": {},
   "outputs": [],
   "source": []
  }
 ],
 "metadata": {
  "kernelspec": {
   "display_name": "Python 3 (ipykernel)",
   "language": "python",
   "name": "python3"
  },
  "language_info": {
   "codemirror_mode": {
    "name": "ipython",
    "version": 3
   },
   "file_extension": ".py",
   "mimetype": "text/x-python",
   "name": "python",
   "nbconvert_exporter": "python",
   "pygments_lexer": "ipython3",
   "version": "3.11.3"
  }
 },
 "nbformat": 4,
 "nbformat_minor": 1
}
