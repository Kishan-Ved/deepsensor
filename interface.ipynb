{
 "cells": [
  {
   "cell_type": "markdown",
   "metadata": {},
   "source": [
    "### Imports/set-up"
   ]
  },
  {
   "cell_type": "code",
   "execution_count": 1,
   "metadata": {
    "ExecuteTime": {
     "end_time": "2023-05-24T09:42:17.788212413Z",
     "start_time": "2023-05-24T09:42:17.787892739Z"
    }
   },
   "outputs": [],
   "source": [
    "# Load the \"autoreload\" extension so that code can change\n",
    "%load_ext autoreload\n",
    "# Always reload modules so that as you change code in src, it gets loaded\n",
    "%autoreload 2"
   ]
  },
  {
   "cell_type": "code",
   "execution_count": 2,
   "metadata": {
    "ExecuteTime": {
     "end_time": "2023-05-24T09:42:29.698585983Z",
     "start_time": "2023-05-24T09:42:17.790080327Z"
    }
   },
   "outputs": [
    {
     "name": "stderr",
     "output_type": "stream",
     "text": [
      "2023-05-24 10:42:18.879906: I tensorflow/core/platform/cpu_feature_guard.cc:193] This TensorFlow binary is optimized with oneAPI Deep Neural Network Library (oneDNN) to use the following CPU instructions in performance-critical operations:  SSE4.1 SSE4.2 AVX AVX2 AVX512F AVX512_VNNI FMA\n",
      "To enable them in other operations, rebuild TensorFlow with the appropriate compiler flags.\n",
      "2023-05-24 10:42:19.005224: I tensorflow/core/util/port.cc:104] oneDNN custom operations are on. You may see slightly different numerical results due to floating-point round-off errors from different computation orders. To turn them off, set the environment variable `TF_ENABLE_ONEDNN_OPTS=0`.\n"
     ]
    }
   ],
   "source": [
    "# You must import either the torch or tensorflow extensions of deepsensor before other deepsensor modules.\n",
    "# This ensures deepsensor has access to the deep learning library backend.\n",
    "import deepsensor.torch as ds\n",
    "# import deepsensor.tensorflow as ds"
   ]
  },
  {
   "cell_type": "code",
   "execution_count": 4,
   "outputs": [],
   "source": [
    "from deepsensor.model.models import ConvNP\n",
    "from deepsensor.data.loader import TaskLoader\n",
    "from deepsensor.model.nps import compute_encoding_tensor\n",
    "from deepsensor.plot.utils import plot_context_encoding"
   ],
   "metadata": {
    "collapsed": false,
    "ExecuteTime": {
     "end_time": "2023-05-24T09:42:47.241700055Z",
     "start_time": "2023-05-24T09:42:45.645498808Z"
    }
   }
  },
  {
   "cell_type": "code",
   "execution_count": 5,
   "outputs": [
    {
     "name": "stderr",
     "output_type": "stream",
     "text": [
      "2023-05-24 10:42:55.848704: I tensorflow/core/common_runtime/gpu/gpu_device.cc:1613] Created device /job:localhost/replica:0/task:0/device:GPU:0 with 13163 MB memory:  -> device: 0, name: NVIDIA A2, pci bus id: 0000:98:00.0, compute capability: 8.6\n"
     ]
    }
   ],
   "source": [
    "model = ConvNP(points_per_unit=300, unet_channels=(32, 32, 32, 32), encoder_scales=(0.002, 0.005))"
   ],
   "metadata": {
    "collapsed": false,
    "ExecuteTime": {
     "end_time": "2023-05-24T09:42:56.527622139Z",
     "start_time": "2023-05-24T09:42:46.917669556Z"
    }
   }
  },
  {
   "cell_type": "code",
   "execution_count": 5,
   "outputs": [],
   "source": [],
   "metadata": {
    "collapsed": false,
    "ExecuteTime": {
     "end_time": "2023-05-24T09:42:56.775246244Z",
     "start_time": "2023-05-24T09:42:56.760393005Z"
    }
   }
  },
  {
   "cell_type": "code",
   "execution_count": 5,
   "outputs": [],
   "source": [],
   "metadata": {
    "collapsed": false,
    "ExecuteTime": {
     "end_time": "2023-05-24T09:42:56.993476894Z",
     "start_time": "2023-05-24T09:42:56.976216256Z"
    }
   }
  },
  {
   "cell_type": "code",
   "execution_count": 5,
   "outputs": [],
   "source": [],
   "metadata": {
    "collapsed": false,
    "ExecuteTime": {
     "end_time": "2023-05-24T09:42:57.167295078Z",
     "start_time": "2023-05-24T09:42:57.154873844Z"
    }
   }
  },
  {
   "cell_type": "code",
   "execution_count": 6,
   "outputs": [],
   "source": [
    "import numpy as np\n",
    "import pandas as pd\n",
    "import xarray as xr\n",
    "import dask\n",
    "\n",
    "import os\n",
    "\n",
    "import matplotlib.pyplot as plt"
   ],
   "metadata": {
    "collapsed": false,
    "ExecuteTime": {
     "end_time": "2023-05-24T09:42:57.512378451Z",
     "start_time": "2023-05-24T09:42:57.371528978Z"
    }
   }
  },
  {
   "cell_type": "code",
   "execution_count": 7,
   "outputs": [],
   "source": [
    "# Check GPU visible to tf\n",
    "# print(\"Num GPUs Available: \", len(tf.config.list_physical_devices('GPU')))"
   ],
   "metadata": {
    "collapsed": false,
    "ExecuteTime": {
     "end_time": "2023-05-24T09:42:57.569962217Z",
     "start_time": "2023-05-24T09:42:57.520648992Z"
    }
   }
  },
  {
   "cell_type": "markdown",
   "metadata": {
    "ExecuteTime": {
     "end_time": "2023-05-22T15:55:07.562070701Z",
     "start_time": "2023-05-22T15:54:57.591123896Z"
    }
   },
   "source": [
    "### Load data"
   ]
  },
  {
   "cell_type": "code",
   "execution_count": 8,
   "metadata": {
    "ExecuteTime": {
     "end_time": "2023-05-24T09:42:59.518963297Z",
     "start_time": "2023-05-24T09:42:57.900457683Z"
    }
   },
   "outputs": [
    {
     "data": {
      "text/plain": "<xarray.Dataset>\nDimensions:    (time: 25933, x1: 280, x2: 280)\nCoordinates:\n  * time       (time) datetime64[ns] 1950-01-01 1950-01-02 ... 2020-12-31\n  * x1         (x1) float64 0.9964 0.9893 0.9821 ... -0.9821 -0.9893 -0.9964\n  * x2         (x2) float64 -0.9964 -0.9893 -0.9821 ... 0.9821 0.9893 0.9964\n    dayofyear  (time) int64 dask.array<chunksize=(365,), meta=np.ndarray>\nData variables:\n    t2m        (time, x1, x2) float32 dask.array<chunksize=(365, 280, 280), meta=np.ndarray>",
      "text/html": "<div><svg style=\"position: absolute; width: 0; height: 0; overflow: hidden\">\n<defs>\n<symbol id=\"icon-database\" viewBox=\"0 0 32 32\">\n<path d=\"M16 0c-8.837 0-16 2.239-16 5v4c0 2.761 7.163 5 16 5s16-2.239 16-5v-4c0-2.761-7.163-5-16-5z\"></path>\n<path d=\"M16 17c-8.837 0-16-2.239-16-5v6c0 2.761 7.163 5 16 5s16-2.239 16-5v-6c0 2.761-7.163 5-16 5z\"></path>\n<path d=\"M16 26c-8.837 0-16-2.239-16-5v6c0 2.761 7.163 5 16 5s16-2.239 16-5v-6c0 2.761-7.163 5-16 5z\"></path>\n</symbol>\n<symbol id=\"icon-file-text2\" viewBox=\"0 0 32 32\">\n<path d=\"M28.681 7.159c-0.694-0.947-1.662-2.053-2.724-3.116s-2.169-2.030-3.116-2.724c-1.612-1.182-2.393-1.319-2.841-1.319h-15.5c-1.378 0-2.5 1.121-2.5 2.5v27c0 1.378 1.122 2.5 2.5 2.5h23c1.378 0 2.5-1.122 2.5-2.5v-19.5c0-0.448-0.137-1.23-1.319-2.841zM24.543 5.457c0.959 0.959 1.712 1.825 2.268 2.543h-4.811v-4.811c0.718 0.556 1.584 1.309 2.543 2.268zM28 29.5c0 0.271-0.229 0.5-0.5 0.5h-23c-0.271 0-0.5-0.229-0.5-0.5v-27c0-0.271 0.229-0.5 0.5-0.5 0 0 15.499-0 15.5 0v7c0 0.552 0.448 1 1 1h7v19.5z\"></path>\n<path d=\"M23 26h-14c-0.552 0-1-0.448-1-1s0.448-1 1-1h14c0.552 0 1 0.448 1 1s-0.448 1-1 1z\"></path>\n<path d=\"M23 22h-14c-0.552 0-1-0.448-1-1s0.448-1 1-1h14c0.552 0 1 0.448 1 1s-0.448 1-1 1z\"></path>\n<path d=\"M23 18h-14c-0.552 0-1-0.448-1-1s0.448-1 1-1h14c0.552 0 1 0.448 1 1s-0.448 1-1 1z\"></path>\n</symbol>\n</defs>\n</svg>\n<style>/* CSS stylesheet for displaying xarray objects in jupyterlab.\n *\n */\n\n:root {\n  --xr-font-color0: var(--jp-content-font-color0, rgba(0, 0, 0, 1));\n  --xr-font-color2: var(--jp-content-font-color2, rgba(0, 0, 0, 0.54));\n  --xr-font-color3: var(--jp-content-font-color3, rgba(0, 0, 0, 0.38));\n  --xr-border-color: var(--jp-border-color2, #e0e0e0);\n  --xr-disabled-color: var(--jp-layout-color3, #bdbdbd);\n  --xr-background-color: var(--jp-layout-color0, white);\n  --xr-background-color-row-even: var(--jp-layout-color1, white);\n  --xr-background-color-row-odd: var(--jp-layout-color2, #eeeeee);\n}\n\nhtml[theme=dark],\nbody[data-theme=dark],\nbody.vscode-dark {\n  --xr-font-color0: rgba(255, 255, 255, 1);\n  --xr-font-color2: rgba(255, 255, 255, 0.54);\n  --xr-font-color3: rgba(255, 255, 255, 0.38);\n  --xr-border-color: #1F1F1F;\n  --xr-disabled-color: #515151;\n  --xr-background-color: #111111;\n  --xr-background-color-row-even: #111111;\n  --xr-background-color-row-odd: #313131;\n}\n\n.xr-wrap {\n  display: block !important;\n  min-width: 300px;\n  max-width: 700px;\n}\n\n.xr-text-repr-fallback {\n  /* fallback to plain text repr when CSS is not injected (untrusted notebook) */\n  display: none;\n}\n\n.xr-header {\n  padding-top: 6px;\n  padding-bottom: 6px;\n  margin-bottom: 4px;\n  border-bottom: solid 1px var(--xr-border-color);\n}\n\n.xr-header > div,\n.xr-header > ul {\n  display: inline;\n  margin-top: 0;\n  margin-bottom: 0;\n}\n\n.xr-obj-type,\n.xr-array-name {\n  margin-left: 2px;\n  margin-right: 10px;\n}\n\n.xr-obj-type {\n  color: var(--xr-font-color2);\n}\n\n.xr-sections {\n  padding-left: 0 !important;\n  display: grid;\n  grid-template-columns: 150px auto auto 1fr 20px 20px;\n}\n\n.xr-section-item {\n  display: contents;\n}\n\n.xr-section-item input {\n  display: none;\n}\n\n.xr-section-item input + label {\n  color: var(--xr-disabled-color);\n}\n\n.xr-section-item input:enabled + label {\n  cursor: pointer;\n  color: var(--xr-font-color2);\n}\n\n.xr-section-item input:enabled + label:hover {\n  color: var(--xr-font-color0);\n}\n\n.xr-section-summary {\n  grid-column: 1;\n  color: var(--xr-font-color2);\n  font-weight: 500;\n}\n\n.xr-section-summary > span {\n  display: inline-block;\n  padding-left: 0.5em;\n}\n\n.xr-section-summary-in:disabled + label {\n  color: var(--xr-font-color2);\n}\n\n.xr-section-summary-in + label:before {\n  display: inline-block;\n  content: '►';\n  font-size: 11px;\n  width: 15px;\n  text-align: center;\n}\n\n.xr-section-summary-in:disabled + label:before {\n  color: var(--xr-disabled-color);\n}\n\n.xr-section-summary-in:checked + label:before {\n  content: '▼';\n}\n\n.xr-section-summary-in:checked + label > span {\n  display: none;\n}\n\n.xr-section-summary,\n.xr-section-inline-details {\n  padding-top: 4px;\n  padding-bottom: 4px;\n}\n\n.xr-section-inline-details {\n  grid-column: 2 / -1;\n}\n\n.xr-section-details {\n  display: none;\n  grid-column: 1 / -1;\n  margin-bottom: 5px;\n}\n\n.xr-section-summary-in:checked ~ .xr-section-details {\n  display: contents;\n}\n\n.xr-array-wrap {\n  grid-column: 1 / -1;\n  display: grid;\n  grid-template-columns: 20px auto;\n}\n\n.xr-array-wrap > label {\n  grid-column: 1;\n  vertical-align: top;\n}\n\n.xr-preview {\n  color: var(--xr-font-color3);\n}\n\n.xr-array-preview,\n.xr-array-data {\n  padding: 0 5px !important;\n  grid-column: 2;\n}\n\n.xr-array-data,\n.xr-array-in:checked ~ .xr-array-preview {\n  display: none;\n}\n\n.xr-array-in:checked ~ .xr-array-data,\n.xr-array-preview {\n  display: inline-block;\n}\n\n.xr-dim-list {\n  display: inline-block !important;\n  list-style: none;\n  padding: 0 !important;\n  margin: 0;\n}\n\n.xr-dim-list li {\n  display: inline-block;\n  padding: 0;\n  margin: 0;\n}\n\n.xr-dim-list:before {\n  content: '(';\n}\n\n.xr-dim-list:after {\n  content: ')';\n}\n\n.xr-dim-list li:not(:last-child):after {\n  content: ',';\n  padding-right: 5px;\n}\n\n.xr-has-index {\n  font-weight: bold;\n}\n\n.xr-var-list,\n.xr-var-item {\n  display: contents;\n}\n\n.xr-var-item > div,\n.xr-var-item label,\n.xr-var-item > .xr-var-name span {\n  background-color: var(--xr-background-color-row-even);\n  margin-bottom: 0;\n}\n\n.xr-var-item > .xr-var-name:hover span {\n  padding-right: 5px;\n}\n\n.xr-var-list > li:nth-child(odd) > div,\n.xr-var-list > li:nth-child(odd) > label,\n.xr-var-list > li:nth-child(odd) > .xr-var-name span {\n  background-color: var(--xr-background-color-row-odd);\n}\n\n.xr-var-name {\n  grid-column: 1;\n}\n\n.xr-var-dims {\n  grid-column: 2;\n}\n\n.xr-var-dtype {\n  grid-column: 3;\n  text-align: right;\n  color: var(--xr-font-color2);\n}\n\n.xr-var-preview {\n  grid-column: 4;\n}\n\n.xr-index-preview {\n  grid-column: 2 / 5;\n  color: var(--xr-font-color2);\n}\n\n.xr-var-name,\n.xr-var-dims,\n.xr-var-dtype,\n.xr-preview,\n.xr-attrs dt {\n  white-space: nowrap;\n  overflow: hidden;\n  text-overflow: ellipsis;\n  padding-right: 10px;\n}\n\n.xr-var-name:hover,\n.xr-var-dims:hover,\n.xr-var-dtype:hover,\n.xr-attrs dt:hover {\n  overflow: visible;\n  width: auto;\n  z-index: 1;\n}\n\n.xr-var-attrs,\n.xr-var-data,\n.xr-index-data {\n  display: none;\n  background-color: var(--xr-background-color) !important;\n  padding-bottom: 5px !important;\n}\n\n.xr-var-attrs-in:checked ~ .xr-var-attrs,\n.xr-var-data-in:checked ~ .xr-var-data,\n.xr-index-data-in:checked ~ .xr-index-data {\n  display: block;\n}\n\n.xr-var-data > table {\n  float: right;\n}\n\n.xr-var-name span,\n.xr-var-data,\n.xr-index-name div,\n.xr-index-data,\n.xr-attrs {\n  padding-left: 25px !important;\n}\n\n.xr-attrs,\n.xr-var-attrs,\n.xr-var-data,\n.xr-index-data {\n  grid-column: 1 / -1;\n}\n\ndl.xr-attrs {\n  padding: 0;\n  margin: 0;\n  display: grid;\n  grid-template-columns: 125px auto;\n}\n\n.xr-attrs dt,\n.xr-attrs dd {\n  padding: 0;\n  margin: 0;\n  float: left;\n  padding-right: 10px;\n  width: auto;\n}\n\n.xr-attrs dt {\n  font-weight: normal;\n  grid-column: 1;\n}\n\n.xr-attrs dt:hover span {\n  display: inline-block;\n  background: var(--xr-background-color);\n  padding-right: 10px;\n}\n\n.xr-attrs dd {\n  grid-column: 2;\n  white-space: pre-wrap;\n  word-break: break-all;\n}\n\n.xr-icon-database,\n.xr-icon-file-text2,\n.xr-no-icon {\n  display: inline-block;\n  vertical-align: middle;\n  width: 1em;\n  height: 1.5em !important;\n  stroke-width: 0;\n  stroke: currentColor;\n  fill: currentColor;\n}\n</style><pre class='xr-text-repr-fallback'>&lt;xarray.Dataset&gt;\nDimensions:    (time: 25933, x1: 280, x2: 280)\nCoordinates:\n  * time       (time) datetime64[ns] 1950-01-01 1950-01-02 ... 2020-12-31\n  * x1         (x1) float64 0.9964 0.9893 0.9821 ... -0.9821 -0.9893 -0.9964\n  * x2         (x2) float64 -0.9964 -0.9893 -0.9821 ... 0.9821 0.9893 0.9964\n    dayofyear  (time) int64 dask.array&lt;chunksize=(365,), meta=np.ndarray&gt;\nData variables:\n    t2m        (time, x1, x2) float32 dask.array&lt;chunksize=(365, 280, 280), meta=np.ndarray&gt;</pre><div class='xr-wrap' style='display:none'><div class='xr-header'><div class='xr-obj-type'>xarray.Dataset</div></div><ul class='xr-sections'><li class='xr-section-item'><input id='section-51121ee7-1c82-4959-a08b-0b79707960b7' class='xr-section-summary-in' type='checkbox' disabled ><label for='section-51121ee7-1c82-4959-a08b-0b79707960b7' class='xr-section-summary'  title='Expand/collapse section'>Dimensions:</label><div class='xr-section-inline-details'><ul class='xr-dim-list'><li><span class='xr-has-index'>time</span>: 25933</li><li><span class='xr-has-index'>x1</span>: 280</li><li><span class='xr-has-index'>x2</span>: 280</li></ul></div><div class='xr-section-details'></div></li><li class='xr-section-item'><input id='section-0337bdc8-9559-4d01-b921-ce96f2ed6b99' class='xr-section-summary-in' type='checkbox'  checked><label for='section-0337bdc8-9559-4d01-b921-ce96f2ed6b99' class='xr-section-summary' >Coordinates: <span>(4)</span></label><div class='xr-section-inline-details'></div><div class='xr-section-details'><ul class='xr-var-list'><li class='xr-var-item'><div class='xr-var-name'><span class='xr-has-index'>time</span></div><div class='xr-var-dims'>(time)</div><div class='xr-var-dtype'>datetime64[ns]</div><div class='xr-var-preview xr-preview'>1950-01-01 ... 2020-12-31</div><input id='attrs-c9a8997f-f96f-45d8-910e-2f657ddbbb35' class='xr-var-attrs-in' type='checkbox' ><label for='attrs-c9a8997f-f96f-45d8-910e-2f657ddbbb35' title='Show/Hide attributes'><svg class='icon xr-icon-file-text2'><use xlink:href='#icon-file-text2'></use></svg></label><input id='data-8f225dbc-5142-41c5-8e19-6ce8cd625378' class='xr-var-data-in' type='checkbox'><label for='data-8f225dbc-5142-41c5-8e19-6ce8cd625378' title='Show/Hide data repr'><svg class='icon xr-icon-database'><use xlink:href='#icon-database'></use></svg></label><div class='xr-var-attrs'><dl class='xr-attrs'><dt><span>axis :</span></dt><dd>T</dd><dt><span>standard_name :</span></dt><dd>time</dd></dl></div><div class='xr-var-data'><pre>array([&#x27;1950-01-01T00:00:00.000000000&#x27;, &#x27;1950-01-02T00:00:00.000000000&#x27;,\n       &#x27;1950-01-03T00:00:00.000000000&#x27;, ..., &#x27;2020-12-29T00:00:00.000000000&#x27;,\n       &#x27;2020-12-30T00:00:00.000000000&#x27;, &#x27;2020-12-31T00:00:00.000000000&#x27;],\n      dtype=&#x27;datetime64[ns]&#x27;)</pre></div></li><li class='xr-var-item'><div class='xr-var-name'><span class='xr-has-index'>x1</span></div><div class='xr-var-dims'>(x1)</div><div class='xr-var-dtype'>float64</div><div class='xr-var-preview xr-preview'>0.9964 0.9893 ... -0.9893 -0.9964</div><input id='attrs-30e2f99f-c643-446c-9b4c-124c3ef24238' class='xr-var-attrs-in' type='checkbox' disabled><label for='attrs-30e2f99f-c643-446c-9b4c-124c3ef24238' title='Show/Hide attributes'><svg class='icon xr-icon-file-text2'><use xlink:href='#icon-file-text2'></use></svg></label><input id='data-76bc9d38-33a2-4a58-bad4-de65849e738c' class='xr-var-data-in' type='checkbox'><label for='data-76bc9d38-33a2-4a58-bad4-de65849e738c' title='Show/Hide data repr'><svg class='icon xr-icon-database'><use xlink:href='#icon-database'></use></svg></label><div class='xr-var-attrs'><dl class='xr-attrs'></dl></div><div class='xr-var-data'><pre>array([ 0.996429,  0.989286,  0.982143, ..., -0.982143, -0.989286, -0.996429])</pre></div></li><li class='xr-var-item'><div class='xr-var-name'><span class='xr-has-index'>x2</span></div><div class='xr-var-dims'>(x2)</div><div class='xr-var-dtype'>float64</div><div class='xr-var-preview xr-preview'>-0.9964 -0.9893 ... 0.9893 0.9964</div><input id='attrs-6b8f54f3-0995-41e0-a71c-9a59f23612f2' class='xr-var-attrs-in' type='checkbox' disabled><label for='attrs-6b8f54f3-0995-41e0-a71c-9a59f23612f2' title='Show/Hide attributes'><svg class='icon xr-icon-file-text2'><use xlink:href='#icon-file-text2'></use></svg></label><input id='data-cce968f4-e3f2-48f6-919f-f3625ab28f94' class='xr-var-data-in' type='checkbox'><label for='data-cce968f4-e3f2-48f6-919f-f3625ab28f94' title='Show/Hide data repr'><svg class='icon xr-icon-database'><use xlink:href='#icon-database'></use></svg></label><div class='xr-var-attrs'><dl class='xr-attrs'></dl></div><div class='xr-var-data'><pre>array([-0.996429, -0.989286, -0.982143, ...,  0.982143,  0.989286,  0.996429])</pre></div></li><li class='xr-var-item'><div class='xr-var-name'><span>dayofyear</span></div><div class='xr-var-dims'>(time)</div><div class='xr-var-dtype'>int64</div><div class='xr-var-preview xr-preview'>dask.array&lt;chunksize=(365,), meta=np.ndarray&gt;</div><input id='attrs-2dfa8dcb-e437-490e-a3d2-d60ef1984aaa' class='xr-var-attrs-in' type='checkbox' disabled><label for='attrs-2dfa8dcb-e437-490e-a3d2-d60ef1984aaa' title='Show/Hide attributes'><svg class='icon xr-icon-file-text2'><use xlink:href='#icon-file-text2'></use></svg></label><input id='data-033e2f5f-ae62-4347-a5c1-fc533a0b3c1d' class='xr-var-data-in' type='checkbox'><label for='data-033e2f5f-ae62-4347-a5c1-fc533a0b3c1d' title='Show/Hide data repr'><svg class='icon xr-icon-database'><use xlink:href='#icon-database'></use></svg></label><div class='xr-var-attrs'><dl class='xr-attrs'></dl></div><div class='xr-var-data'><table>\n    <tr>\n        <td>\n            <table style=\"border-collapse: collapse;\">\n                <thead>\n                    <tr>\n                        <td> </td>\n                        <th> Array </th>\n                        <th> Chunk </th>\n                    </tr>\n                </thead>\n                <tbody>\n                    \n                    <tr>\n                        <th> Bytes </th>\n                        <td> 202.60 kiB </td>\n                        <td> 2.86 kiB </td>\n                    </tr>\n                    \n                    <tr>\n                        <th> Shape </th>\n                        <td> (25933,) </td>\n                        <td> (366,) </td>\n                    </tr>\n                    <tr>\n                        <th> Dask graph </th>\n                        <td colspan=\"2\"> 71 chunks in 143 graph layers </td>\n                    </tr>\n                    <tr>\n                        <th> Data type </th>\n                        <td colspan=\"2\"> int64 numpy.ndarray </td>\n                    </tr>\n                </tbody>\n            </table>\n        </td>\n        <td>\n        <svg width=\"170\" height=\"75\" style=\"stroke:rgb(0,0,0);stroke-width:1\" >\n\n  <!-- Horizontal lines -->\n  <line x1=\"0\" y1=\"0\" x2=\"120\" y2=\"0\" style=\"stroke-width:2\" />\n  <line x1=\"0\" y1=\"25\" x2=\"120\" y2=\"25\" style=\"stroke-width:2\" />\n\n  <!-- Vertical lines -->\n  <line x1=\"0\" y1=\"0\" x2=\"0\" y2=\"25\" style=\"stroke-width:2\" />\n  <line x1=\"5\" y1=\"0\" x2=\"5\" y2=\"25\" />\n  <line x1=\"11\" y1=\"0\" x2=\"11\" y2=\"25\" />\n  <line x1=\"18\" y1=\"0\" x2=\"18\" y2=\"25\" />\n  <line x1=\"23\" y1=\"0\" x2=\"23\" y2=\"25\" />\n  <line x1=\"30\" y1=\"0\" x2=\"30\" y2=\"25\" />\n  <line x1=\"37\" y1=\"0\" x2=\"37\" y2=\"25\" />\n  <line x1=\"43\" y1=\"0\" x2=\"43\" y2=\"25\" />\n  <line x1=\"49\" y1=\"0\" x2=\"49\" y2=\"25\" />\n  <line x1=\"55\" y1=\"0\" x2=\"55\" y2=\"25\" />\n  <line x1=\"62\" y1=\"0\" x2=\"62\" y2=\"25\" />\n  <line x1=\"69\" y1=\"0\" x2=\"69\" y2=\"25\" />\n  <line x1=\"74\" y1=\"0\" x2=\"74\" y2=\"25\" />\n  <line x1=\"81\" y1=\"0\" x2=\"81\" y2=\"25\" />\n  <line x1=\"87\" y1=\"0\" x2=\"87\" y2=\"25\" />\n  <line x1=\"94\" y1=\"0\" x2=\"94\" y2=\"25\" />\n  <line x1=\"99\" y1=\"0\" x2=\"99\" y2=\"25\" />\n  <line x1=\"106\" y1=\"0\" x2=\"106\" y2=\"25\" />\n  <line x1=\"113\" y1=\"0\" x2=\"113\" y2=\"25\" />\n  <line x1=\"120\" y1=\"0\" x2=\"120\" y2=\"25\" style=\"stroke-width:2\" />\n\n  <!-- Colored Rectangle -->\n  <polygon points=\"0.0,0.0 120.0,0.0 120.0,25.412616514582485 0.0,25.412616514582485\" style=\"fill:#8B4903A0;stroke-width:0\"/>\n\n  <!-- Text -->\n  <text x=\"60.000000\" y=\"45.412617\" font-size=\"1.0rem\" font-weight=\"100\" text-anchor=\"middle\" >25933</text>\n  <text x=\"140.000000\" y=\"12.706308\" font-size=\"1.0rem\" font-weight=\"100\" text-anchor=\"middle\" transform=\"rotate(0,140.000000,12.706308)\">1</text>\n</svg>\n        </td>\n    </tr>\n</table></div></li></ul></div></li><li class='xr-section-item'><input id='section-a07e77d7-f95d-41fd-b2f4-336f220ad400' class='xr-section-summary-in' type='checkbox'  checked><label for='section-a07e77d7-f95d-41fd-b2f4-336f220ad400' class='xr-section-summary' >Data variables: <span>(1)</span></label><div class='xr-section-inline-details'></div><div class='xr-section-details'><ul class='xr-var-list'><li class='xr-var-item'><div class='xr-var-name'><span>t2m</span></div><div class='xr-var-dims'>(time, x1, x2)</div><div class='xr-var-dtype'>float32</div><div class='xr-var-preview xr-preview'>dask.array&lt;chunksize=(365, 280, 280), meta=np.ndarray&gt;</div><input id='attrs-b0f73ea4-f0f6-4def-9976-c2c269f23c1e' class='xr-var-attrs-in' type='checkbox' disabled><label for='attrs-b0f73ea4-f0f6-4def-9976-c2c269f23c1e' title='Show/Hide attributes'><svg class='icon xr-icon-file-text2'><use xlink:href='#icon-file-text2'></use></svg></label><input id='data-f7ba1f01-4c5c-4883-86a5-e196ba75a62e' class='xr-var-data-in' type='checkbox'><label for='data-f7ba1f01-4c5c-4883-86a5-e196ba75a62e' title='Show/Hide data repr'><svg class='icon xr-icon-database'><use xlink:href='#icon-database'></use></svg></label><div class='xr-var-attrs'><dl class='xr-attrs'></dl></div><div class='xr-var-data'><table>\n    <tr>\n        <td>\n            <table style=\"border-collapse: collapse;\">\n                <thead>\n                    <tr>\n                        <td> </td>\n                        <th> Array </th>\n                        <th> Chunk </th>\n                    </tr>\n                </thead>\n                <tbody>\n                    \n                    <tr>\n                        <th> Bytes </th>\n                        <td> 7.57 GiB </td>\n                        <td> 109.46 MiB </td>\n                    </tr>\n                    \n                    <tr>\n                        <th> Shape </th>\n                        <td> (25933, 280, 280) </td>\n                        <td> (366, 280, 280) </td>\n                    </tr>\n                    <tr>\n                        <th> Dask graph </th>\n                        <td colspan=\"2\"> 71 chunks in 143 graph layers </td>\n                    </tr>\n                    <tr>\n                        <th> Data type </th>\n                        <td colspan=\"2\"> float32 numpy.ndarray </td>\n                    </tr>\n                </tbody>\n            </table>\n        </td>\n        <td>\n        <svg width=\"156\" height=\"146\" style=\"stroke:rgb(0,0,0);stroke-width:1\" >\n\n  <!-- Horizontal lines -->\n  <line x1=\"10\" y1=\"0\" x2=\"80\" y2=\"70\" style=\"stroke-width:2\" />\n  <line x1=\"10\" y1=\"25\" x2=\"80\" y2=\"96\" style=\"stroke-width:2\" />\n\n  <!-- Vertical lines -->\n  <line x1=\"10\" y1=\"0\" x2=\"10\" y2=\"25\" style=\"stroke-width:2\" />\n  <line x1=\"12\" y1=\"2\" x2=\"12\" y2=\"28\" />\n  <line x1=\"16\" y1=\"6\" x2=\"16\" y2=\"32\" />\n  <line x1=\"20\" y1=\"10\" x2=\"20\" y2=\"36\" />\n  <line x1=\"23\" y1=\"13\" x2=\"23\" y2=\"39\" />\n  <line x1=\"27\" y1=\"17\" x2=\"27\" y2=\"43\" />\n  <line x1=\"31\" y1=\"21\" x2=\"31\" y2=\"47\" />\n  <line x1=\"35\" y1=\"25\" x2=\"35\" y2=\"51\" />\n  <line x1=\"38\" y1=\"28\" x2=\"38\" y2=\"54\" />\n  <line x1=\"42\" y1=\"32\" x2=\"42\" y2=\"58\" />\n  <line x1=\"46\" y1=\"36\" x2=\"46\" y2=\"62\" />\n  <line x1=\"50\" y1=\"40\" x2=\"50\" y2=\"66\" />\n  <line x1=\"53\" y1=\"43\" x2=\"53\" y2=\"69\" />\n  <line x1=\"57\" y1=\"47\" x2=\"57\" y2=\"73\" />\n  <line x1=\"61\" y1=\"51\" x2=\"61\" y2=\"77\" />\n  <line x1=\"65\" y1=\"55\" x2=\"65\" y2=\"81\" />\n  <line x1=\"68\" y1=\"58\" x2=\"68\" y2=\"84\" />\n  <line x1=\"72\" y1=\"62\" x2=\"72\" y2=\"88\" />\n  <line x1=\"76\" y1=\"66\" x2=\"76\" y2=\"92\" />\n  <line x1=\"80\" y1=\"70\" x2=\"80\" y2=\"96\" style=\"stroke-width:2\" />\n\n  <!-- Colored Rectangle -->\n  <polygon points=\"10.0,0.0 80.58823529411765,70.58823529411765 80.58823529411765,96.3717844409059 10.0,25.78354914678825\" style=\"fill:#8B4903A0;stroke-width:0\"/>\n\n  <!-- Horizontal lines -->\n  <line x1=\"10\" y1=\"0\" x2=\"35\" y2=\"0\" style=\"stroke-width:2\" />\n  <line x1=\"12\" y1=\"2\" x2=\"38\" y2=\"2\" />\n  <line x1=\"16\" y1=\"6\" x2=\"42\" y2=\"6\" />\n  <line x1=\"20\" y1=\"10\" x2=\"46\" y2=\"10\" />\n  <line x1=\"23\" y1=\"13\" x2=\"49\" y2=\"13\" />\n  <line x1=\"27\" y1=\"17\" x2=\"53\" y2=\"17\" />\n  <line x1=\"31\" y1=\"21\" x2=\"57\" y2=\"21\" />\n  <line x1=\"35\" y1=\"25\" x2=\"61\" y2=\"25\" />\n  <line x1=\"38\" y1=\"28\" x2=\"64\" y2=\"28\" />\n  <line x1=\"42\" y1=\"32\" x2=\"68\" y2=\"32\" />\n  <line x1=\"46\" y1=\"36\" x2=\"72\" y2=\"36\" />\n  <line x1=\"50\" y1=\"40\" x2=\"76\" y2=\"40\" />\n  <line x1=\"53\" y1=\"43\" x2=\"79\" y2=\"43\" />\n  <line x1=\"57\" y1=\"47\" x2=\"83\" y2=\"47\" />\n  <line x1=\"61\" y1=\"51\" x2=\"87\" y2=\"51\" />\n  <line x1=\"65\" y1=\"55\" x2=\"91\" y2=\"55\" />\n  <line x1=\"68\" y1=\"58\" x2=\"94\" y2=\"58\" />\n  <line x1=\"72\" y1=\"62\" x2=\"98\" y2=\"62\" />\n  <line x1=\"76\" y1=\"66\" x2=\"102\" y2=\"66\" />\n  <line x1=\"80\" y1=\"70\" x2=\"106\" y2=\"70\" style=\"stroke-width:2\" />\n\n  <!-- Vertical lines -->\n  <line x1=\"10\" y1=\"0\" x2=\"80\" y2=\"70\" style=\"stroke-width:2\" />\n  <line x1=\"35\" y1=\"0\" x2=\"106\" y2=\"70\" style=\"stroke-width:2\" />\n\n  <!-- Colored Rectangle -->\n  <polygon points=\"10.0,0.0 35.783549146788246,0.0 106.3717844409059,70.58823529411765 80.58823529411765,70.58823529411765\" style=\"fill:#8B4903A0;stroke-width:0\"/>\n\n  <!-- Horizontal lines -->\n  <line x1=\"80\" y1=\"70\" x2=\"106\" y2=\"70\" style=\"stroke-width:2\" />\n  <line x1=\"80\" y1=\"96\" x2=\"106\" y2=\"96\" style=\"stroke-width:2\" />\n\n  <!-- Vertical lines -->\n  <line x1=\"80\" y1=\"70\" x2=\"80\" y2=\"96\" style=\"stroke-width:2\" />\n  <line x1=\"106\" y1=\"70\" x2=\"106\" y2=\"96\" style=\"stroke-width:2\" />\n\n  <!-- Colored Rectangle -->\n  <polygon points=\"80.58823529411765,70.58823529411765 106.3717844409059,70.58823529411765 106.3717844409059,96.3717844409059 80.58823529411765,96.3717844409059\" style=\"fill:#ECB172A0;stroke-width:0\"/>\n\n  <!-- Text -->\n  <text x=\"93.480010\" y=\"116.371784\" font-size=\"1.0rem\" font-weight=\"100\" text-anchor=\"middle\" >280</text>\n  <text x=\"126.371784\" y=\"83.480010\" font-size=\"1.0rem\" font-weight=\"100\" text-anchor=\"middle\" transform=\"rotate(-90,126.371784,83.480010)\">280</text>\n  <text x=\"35.294118\" y=\"81.077667\" font-size=\"1.0rem\" font-weight=\"100\" text-anchor=\"middle\" transform=\"rotate(45,35.294118,81.077667)\">25933</text>\n</svg>\n        </td>\n    </tr>\n</table></div></li></ul></div></li><li class='xr-section-item'><input id='section-42ca3888-a158-4940-b4cc-7850689a5883' class='xr-section-summary-in' type='checkbox'  ><label for='section-42ca3888-a158-4940-b4cc-7850689a5883' class='xr-section-summary' >Indexes: <span>(3)</span></label><div class='xr-section-inline-details'></div><div class='xr-section-details'><ul class='xr-var-list'><li class='xr-var-item'><div class='xr-index-name'><div>time</div></div><div class='xr-index-preview'>PandasIndex</div><div></div><input id='index-6af0bcc1-137e-4504-9962-c7bc5831d09b' class='xr-index-data-in' type='checkbox'/><label for='index-6af0bcc1-137e-4504-9962-c7bc5831d09b' title='Show/Hide index repr'><svg class='icon xr-icon-database'><use xlink:href='#icon-database'></use></svg></label><div class='xr-index-data'><pre>PandasIndex(DatetimeIndex([&#x27;1950-01-01&#x27;, &#x27;1950-01-02&#x27;, &#x27;1950-01-03&#x27;, &#x27;1950-01-04&#x27;,\n               &#x27;1950-01-05&#x27;, &#x27;1950-01-06&#x27;, &#x27;1950-01-07&#x27;, &#x27;1950-01-08&#x27;,\n               &#x27;1950-01-09&#x27;, &#x27;1950-01-10&#x27;,\n               ...\n               &#x27;2020-12-22&#x27;, &#x27;2020-12-23&#x27;, &#x27;2020-12-24&#x27;, &#x27;2020-12-25&#x27;,\n               &#x27;2020-12-26&#x27;, &#x27;2020-12-27&#x27;, &#x27;2020-12-28&#x27;, &#x27;2020-12-29&#x27;,\n               &#x27;2020-12-30&#x27;, &#x27;2020-12-31&#x27;],\n              dtype=&#x27;datetime64[ns]&#x27;, name=&#x27;time&#x27;, length=25933, freq=None))</pre></div></li><li class='xr-var-item'><div class='xr-index-name'><div>x1</div></div><div class='xr-index-preview'>PandasIndex</div><div></div><input id='index-7092cd79-95c1-4507-9fe9-7d35ec1c1bc1' class='xr-index-data-in' type='checkbox'/><label for='index-7092cd79-95c1-4507-9fe9-7d35ec1c1bc1' title='Show/Hide index repr'><svg class='icon xr-icon-database'><use xlink:href='#icon-database'></use></svg></label><div class='xr-index-data'><pre>PandasIndex(Index([ 0.9964285714285714,  0.9892857142857143,  0.9821428571428571,\n                     0.975,  0.9678571428571429,  0.9607142857142857,\n        0.9535714285714286,  0.9464285714285714,  0.9392857142857143,\n        0.9321428571428572,\n       ...\n       -0.9321428571428572, -0.9392857142857143, -0.9464285714285714,\n       -0.9535714285714286, -0.9607142857142857, -0.9678571428571429,\n                    -0.975, -0.9821428571428571, -0.9892857142857143,\n       -0.9964285714285714],\n      dtype=&#x27;float64&#x27;, name=&#x27;x1&#x27;, length=280))</pre></div></li><li class='xr-var-item'><div class='xr-index-name'><div>x2</div></div><div class='xr-index-preview'>PandasIndex</div><div></div><input id='index-d588c92a-9a6c-4395-b9fe-cd2d22c98d80' class='xr-index-data-in' type='checkbox'/><label for='index-d588c92a-9a6c-4395-b9fe-cd2d22c98d80' title='Show/Hide index repr'><svg class='icon xr-icon-database'><use xlink:href='#icon-database'></use></svg></label><div class='xr-index-data'><pre>PandasIndex(Index([-0.9964285714285714, -0.9892857142857143, -0.9821428571428571,\n                    -0.975, -0.9678571428571429, -0.9607142857142857,\n       -0.9535714285714286, -0.9464285714285714, -0.9392857142857143,\n       -0.9321428571428572,\n       ...\n        0.9321428571428572,  0.9392857142857143,  0.9464285714285714,\n        0.9535714285714286,  0.9607142857142857,  0.9678571428571429,\n                     0.975,  0.9821428571428571,  0.9892857142857143,\n        0.9964285714285714],\n      dtype=&#x27;float64&#x27;, name=&#x27;x2&#x27;, length=280))</pre></div></li></ul></div></li><li class='xr-section-item'><input id='section-5a5c9521-4f11-4148-9b19-271527669d9e' class='xr-section-summary-in' type='checkbox' disabled ><label for='section-5a5c9521-4f11-4148-9b19-271527669d9e' class='xr-section-summary'  title='Expand/collapse section'>Attributes: <span>(0)</span></label><div class='xr-section-inline-details'></div><div class='xr-section-details'><dl class='xr-attrs'></dl></div></li></ul></div></div>"
     },
     "execution_count": 8,
     "metadata": {},
     "output_type": "execute_result"
    }
   ],
   "source": [
    "# era5_ds = xr.open_mfdataset('../deepsensor_old/data/antarctica/gridded/processed/*/*.nc')\n",
    "era5_ds = xr.open_mfdataset('../deepsensor_old/data/antarctica/gridded/processed/tas_anom/*.nc')\n",
    "era5_ds"
   ]
  },
  {
   "cell_type": "code",
   "execution_count": 9,
   "metadata": {
    "ExecuteTime": {
     "end_time": "2023-05-24T09:43:00.281869877Z",
     "start_time": "2023-05-24T09:42:59.497803175Z"
    }
   },
   "outputs": [
    {
     "data": {
      "text/plain": "<xarray.Dataset>\nDimensions:  (x1: 280, x2: 280, time: 25933)\nCoordinates:\n  * x1       (x1) float64 0.9964 0.9893 0.9821 0.975 ... -0.9821 -0.9893 -0.9964\n  * x2       (x2) float64 -0.9964 -0.9893 -0.9821 ... 0.9821 0.9893 0.9964\n    lat      (x1, x2) float32 dask.array<chunksize=(280, 280), meta=np.ndarray>\n    lon      (x1, x2) float32 dask.array<chunksize=(280, 280), meta=np.ndarray>\n  * time     (time) datetime64[ns] 1950-01-01 1950-01-02 ... 2020-12-31\nData variables:\n    mask     (x1, x2) float64 dask.array<chunksize=(280, 280), meta=np.ndarray>\n    surface  (x1, x2) float32 dask.array<chunksize=(280, 280), meta=np.ndarray>\n    x1_arr   (x1, x2) float64 0.9964 0.9964 0.9964 ... -0.9964 -0.9964 -0.9964\n    x2_arr   (x1, x2) float64 -0.9964 -0.9893 -0.9821 ... 0.9821 0.9893 0.9964\n    cos_D    (time) float64 0.9999 0.9994 0.9987 0.9976 ... 0.9998 1.0 0.9999\n    sin_D    (time) float64 0.0172 0.0344 0.05158 ... -0.0215 -0.004301 0.0129",
      "text/html": "<div><svg style=\"position: absolute; width: 0; height: 0; overflow: hidden\">\n<defs>\n<symbol id=\"icon-database\" viewBox=\"0 0 32 32\">\n<path d=\"M16 0c-8.837 0-16 2.239-16 5v4c0 2.761 7.163 5 16 5s16-2.239 16-5v-4c0-2.761-7.163-5-16-5z\"></path>\n<path d=\"M16 17c-8.837 0-16-2.239-16-5v6c0 2.761 7.163 5 16 5s16-2.239 16-5v-6c0 2.761-7.163 5-16 5z\"></path>\n<path d=\"M16 26c-8.837 0-16-2.239-16-5v6c0 2.761 7.163 5 16 5s16-2.239 16-5v-6c0 2.761-7.163 5-16 5z\"></path>\n</symbol>\n<symbol id=\"icon-file-text2\" viewBox=\"0 0 32 32\">\n<path d=\"M28.681 7.159c-0.694-0.947-1.662-2.053-2.724-3.116s-2.169-2.030-3.116-2.724c-1.612-1.182-2.393-1.319-2.841-1.319h-15.5c-1.378 0-2.5 1.121-2.5 2.5v27c0 1.378 1.122 2.5 2.5 2.5h23c1.378 0 2.5-1.122 2.5-2.5v-19.5c0-0.448-0.137-1.23-1.319-2.841zM24.543 5.457c0.959 0.959 1.712 1.825 2.268 2.543h-4.811v-4.811c0.718 0.556 1.584 1.309 2.543 2.268zM28 29.5c0 0.271-0.229 0.5-0.5 0.5h-23c-0.271 0-0.5-0.229-0.5-0.5v-27c0-0.271 0.229-0.5 0.5-0.5 0 0 15.499-0 15.5 0v7c0 0.552 0.448 1 1 1h7v19.5z\"></path>\n<path d=\"M23 26h-14c-0.552 0-1-0.448-1-1s0.448-1 1-1h14c0.552 0 1 0.448 1 1s-0.448 1-1 1z\"></path>\n<path d=\"M23 22h-14c-0.552 0-1-0.448-1-1s0.448-1 1-1h14c0.552 0 1 0.448 1 1s-0.448 1-1 1z\"></path>\n<path d=\"M23 18h-14c-0.552 0-1-0.448-1-1s0.448-1 1-1h14c0.552 0 1 0.448 1 1s-0.448 1-1 1z\"></path>\n</symbol>\n</defs>\n</svg>\n<style>/* CSS stylesheet for displaying xarray objects in jupyterlab.\n *\n */\n\n:root {\n  --xr-font-color0: var(--jp-content-font-color0, rgba(0, 0, 0, 1));\n  --xr-font-color2: var(--jp-content-font-color2, rgba(0, 0, 0, 0.54));\n  --xr-font-color3: var(--jp-content-font-color3, rgba(0, 0, 0, 0.38));\n  --xr-border-color: var(--jp-border-color2, #e0e0e0);\n  --xr-disabled-color: var(--jp-layout-color3, #bdbdbd);\n  --xr-background-color: var(--jp-layout-color0, white);\n  --xr-background-color-row-even: var(--jp-layout-color1, white);\n  --xr-background-color-row-odd: var(--jp-layout-color2, #eeeeee);\n}\n\nhtml[theme=dark],\nbody[data-theme=dark],\nbody.vscode-dark {\n  --xr-font-color0: rgba(255, 255, 255, 1);\n  --xr-font-color2: rgba(255, 255, 255, 0.54);\n  --xr-font-color3: rgba(255, 255, 255, 0.38);\n  --xr-border-color: #1F1F1F;\n  --xr-disabled-color: #515151;\n  --xr-background-color: #111111;\n  --xr-background-color-row-even: #111111;\n  --xr-background-color-row-odd: #313131;\n}\n\n.xr-wrap {\n  display: block !important;\n  min-width: 300px;\n  max-width: 700px;\n}\n\n.xr-text-repr-fallback {\n  /* fallback to plain text repr when CSS is not injected (untrusted notebook) */\n  display: none;\n}\n\n.xr-header {\n  padding-top: 6px;\n  padding-bottom: 6px;\n  margin-bottom: 4px;\n  border-bottom: solid 1px var(--xr-border-color);\n}\n\n.xr-header > div,\n.xr-header > ul {\n  display: inline;\n  margin-top: 0;\n  margin-bottom: 0;\n}\n\n.xr-obj-type,\n.xr-array-name {\n  margin-left: 2px;\n  margin-right: 10px;\n}\n\n.xr-obj-type {\n  color: var(--xr-font-color2);\n}\n\n.xr-sections {\n  padding-left: 0 !important;\n  display: grid;\n  grid-template-columns: 150px auto auto 1fr 20px 20px;\n}\n\n.xr-section-item {\n  display: contents;\n}\n\n.xr-section-item input {\n  display: none;\n}\n\n.xr-section-item input + label {\n  color: var(--xr-disabled-color);\n}\n\n.xr-section-item input:enabled + label {\n  cursor: pointer;\n  color: var(--xr-font-color2);\n}\n\n.xr-section-item input:enabled + label:hover {\n  color: var(--xr-font-color0);\n}\n\n.xr-section-summary {\n  grid-column: 1;\n  color: var(--xr-font-color2);\n  font-weight: 500;\n}\n\n.xr-section-summary > span {\n  display: inline-block;\n  padding-left: 0.5em;\n}\n\n.xr-section-summary-in:disabled + label {\n  color: var(--xr-font-color2);\n}\n\n.xr-section-summary-in + label:before {\n  display: inline-block;\n  content: '►';\n  font-size: 11px;\n  width: 15px;\n  text-align: center;\n}\n\n.xr-section-summary-in:disabled + label:before {\n  color: var(--xr-disabled-color);\n}\n\n.xr-section-summary-in:checked + label:before {\n  content: '▼';\n}\n\n.xr-section-summary-in:checked + label > span {\n  display: none;\n}\n\n.xr-section-summary,\n.xr-section-inline-details {\n  padding-top: 4px;\n  padding-bottom: 4px;\n}\n\n.xr-section-inline-details {\n  grid-column: 2 / -1;\n}\n\n.xr-section-details {\n  display: none;\n  grid-column: 1 / -1;\n  margin-bottom: 5px;\n}\n\n.xr-section-summary-in:checked ~ .xr-section-details {\n  display: contents;\n}\n\n.xr-array-wrap {\n  grid-column: 1 / -1;\n  display: grid;\n  grid-template-columns: 20px auto;\n}\n\n.xr-array-wrap > label {\n  grid-column: 1;\n  vertical-align: top;\n}\n\n.xr-preview {\n  color: var(--xr-font-color3);\n}\n\n.xr-array-preview,\n.xr-array-data {\n  padding: 0 5px !important;\n  grid-column: 2;\n}\n\n.xr-array-data,\n.xr-array-in:checked ~ .xr-array-preview {\n  display: none;\n}\n\n.xr-array-in:checked ~ .xr-array-data,\n.xr-array-preview {\n  display: inline-block;\n}\n\n.xr-dim-list {\n  display: inline-block !important;\n  list-style: none;\n  padding: 0 !important;\n  margin: 0;\n}\n\n.xr-dim-list li {\n  display: inline-block;\n  padding: 0;\n  margin: 0;\n}\n\n.xr-dim-list:before {\n  content: '(';\n}\n\n.xr-dim-list:after {\n  content: ')';\n}\n\n.xr-dim-list li:not(:last-child):after {\n  content: ',';\n  padding-right: 5px;\n}\n\n.xr-has-index {\n  font-weight: bold;\n}\n\n.xr-var-list,\n.xr-var-item {\n  display: contents;\n}\n\n.xr-var-item > div,\n.xr-var-item label,\n.xr-var-item > .xr-var-name span {\n  background-color: var(--xr-background-color-row-even);\n  margin-bottom: 0;\n}\n\n.xr-var-item > .xr-var-name:hover span {\n  padding-right: 5px;\n}\n\n.xr-var-list > li:nth-child(odd) > div,\n.xr-var-list > li:nth-child(odd) > label,\n.xr-var-list > li:nth-child(odd) > .xr-var-name span {\n  background-color: var(--xr-background-color-row-odd);\n}\n\n.xr-var-name {\n  grid-column: 1;\n}\n\n.xr-var-dims {\n  grid-column: 2;\n}\n\n.xr-var-dtype {\n  grid-column: 3;\n  text-align: right;\n  color: var(--xr-font-color2);\n}\n\n.xr-var-preview {\n  grid-column: 4;\n}\n\n.xr-index-preview {\n  grid-column: 2 / 5;\n  color: var(--xr-font-color2);\n}\n\n.xr-var-name,\n.xr-var-dims,\n.xr-var-dtype,\n.xr-preview,\n.xr-attrs dt {\n  white-space: nowrap;\n  overflow: hidden;\n  text-overflow: ellipsis;\n  padding-right: 10px;\n}\n\n.xr-var-name:hover,\n.xr-var-dims:hover,\n.xr-var-dtype:hover,\n.xr-attrs dt:hover {\n  overflow: visible;\n  width: auto;\n  z-index: 1;\n}\n\n.xr-var-attrs,\n.xr-var-data,\n.xr-index-data {\n  display: none;\n  background-color: var(--xr-background-color) !important;\n  padding-bottom: 5px !important;\n}\n\n.xr-var-attrs-in:checked ~ .xr-var-attrs,\n.xr-var-data-in:checked ~ .xr-var-data,\n.xr-index-data-in:checked ~ .xr-index-data {\n  display: block;\n}\n\n.xr-var-data > table {\n  float: right;\n}\n\n.xr-var-name span,\n.xr-var-data,\n.xr-index-name div,\n.xr-index-data,\n.xr-attrs {\n  padding-left: 25px !important;\n}\n\n.xr-attrs,\n.xr-var-attrs,\n.xr-var-data,\n.xr-index-data {\n  grid-column: 1 / -1;\n}\n\ndl.xr-attrs {\n  padding: 0;\n  margin: 0;\n  display: grid;\n  grid-template-columns: 125px auto;\n}\n\n.xr-attrs dt,\n.xr-attrs dd {\n  padding: 0;\n  margin: 0;\n  float: left;\n  padding-right: 10px;\n  width: auto;\n}\n\n.xr-attrs dt {\n  font-weight: normal;\n  grid-column: 1;\n}\n\n.xr-attrs dt:hover span {\n  display: inline-block;\n  background: var(--xr-background-color);\n  padding-right: 10px;\n}\n\n.xr-attrs dd {\n  grid-column: 2;\n  white-space: pre-wrap;\n  word-break: break-all;\n}\n\n.xr-icon-database,\n.xr-icon-file-text2,\n.xr-no-icon {\n  display: inline-block;\n  vertical-align: middle;\n  width: 1em;\n  height: 1.5em !important;\n  stroke-width: 0;\n  stroke: currentColor;\n  fill: currentColor;\n}\n</style><pre class='xr-text-repr-fallback'>&lt;xarray.Dataset&gt;\nDimensions:  (x1: 280, x2: 280, time: 25933)\nCoordinates:\n  * x1       (x1) float64 0.9964 0.9893 0.9821 0.975 ... -0.9821 -0.9893 -0.9964\n  * x2       (x2) float64 -0.9964 -0.9893 -0.9821 ... 0.9821 0.9893 0.9964\n    lat      (x1, x2) float32 dask.array&lt;chunksize=(280, 280), meta=np.ndarray&gt;\n    lon      (x1, x2) float32 dask.array&lt;chunksize=(280, 280), meta=np.ndarray&gt;\n  * time     (time) datetime64[ns] 1950-01-01 1950-01-02 ... 2020-12-31\nData variables:\n    mask     (x1, x2) float64 dask.array&lt;chunksize=(280, 280), meta=np.ndarray&gt;\n    surface  (x1, x2) float32 dask.array&lt;chunksize=(280, 280), meta=np.ndarray&gt;\n    x1_arr   (x1, x2) float64 0.9964 0.9964 0.9964 ... -0.9964 -0.9964 -0.9964\n    x2_arr   (x1, x2) float64 -0.9964 -0.9893 -0.9821 ... 0.9821 0.9893 0.9964\n    cos_D    (time) float64 0.9999 0.9994 0.9987 0.9976 ... 0.9998 1.0 0.9999\n    sin_D    (time) float64 0.0172 0.0344 0.05158 ... -0.0215 -0.004301 0.0129</pre><div class='xr-wrap' style='display:none'><div class='xr-header'><div class='xr-obj-type'>xarray.Dataset</div></div><ul class='xr-sections'><li class='xr-section-item'><input id='section-43f8a746-b24d-4014-86dd-3d2d204973f5' class='xr-section-summary-in' type='checkbox' disabled ><label for='section-43f8a746-b24d-4014-86dd-3d2d204973f5' class='xr-section-summary'  title='Expand/collapse section'>Dimensions:</label><div class='xr-section-inline-details'><ul class='xr-dim-list'><li><span class='xr-has-index'>x1</span>: 280</li><li><span class='xr-has-index'>x2</span>: 280</li><li><span class='xr-has-index'>time</span>: 25933</li></ul></div><div class='xr-section-details'></div></li><li class='xr-section-item'><input id='section-5d72a28f-5b88-41b9-98a2-3a48c47a4e32' class='xr-section-summary-in' type='checkbox'  checked><label for='section-5d72a28f-5b88-41b9-98a2-3a48c47a4e32' class='xr-section-summary' >Coordinates: <span>(5)</span></label><div class='xr-section-inline-details'></div><div class='xr-section-details'><ul class='xr-var-list'><li class='xr-var-item'><div class='xr-var-name'><span class='xr-has-index'>x1</span></div><div class='xr-var-dims'>(x1)</div><div class='xr-var-dtype'>float64</div><div class='xr-var-preview xr-preview'>0.9964 0.9893 ... -0.9893 -0.9964</div><input id='attrs-44911991-18eb-4c8a-bf4a-501f848d37e0' class='xr-var-attrs-in' type='checkbox' disabled><label for='attrs-44911991-18eb-4c8a-bf4a-501f848d37e0' title='Show/Hide attributes'><svg class='icon xr-icon-file-text2'><use xlink:href='#icon-file-text2'></use></svg></label><input id='data-336400f1-5e1f-4481-a8a3-0c8c02bdf052' class='xr-var-data-in' type='checkbox'><label for='data-336400f1-5e1f-4481-a8a3-0c8c02bdf052' title='Show/Hide data repr'><svg class='icon xr-icon-database'><use xlink:href='#icon-database'></use></svg></label><div class='xr-var-attrs'><dl class='xr-attrs'></dl></div><div class='xr-var-data'><pre>array([ 0.996429,  0.989286,  0.982143, ..., -0.982143, -0.989286, -0.996429])</pre></div></li><li class='xr-var-item'><div class='xr-var-name'><span class='xr-has-index'>x2</span></div><div class='xr-var-dims'>(x2)</div><div class='xr-var-dtype'>float64</div><div class='xr-var-preview xr-preview'>-0.9964 -0.9893 ... 0.9893 0.9964</div><input id='attrs-8e483237-b273-4ec0-9985-9d8b5e60c199' class='xr-var-attrs-in' type='checkbox' disabled><label for='attrs-8e483237-b273-4ec0-9985-9d8b5e60c199' title='Show/Hide attributes'><svg class='icon xr-icon-file-text2'><use xlink:href='#icon-file-text2'></use></svg></label><input id='data-d67b3240-b33c-4c4e-a482-adea22af06b7' class='xr-var-data-in' type='checkbox'><label for='data-d67b3240-b33c-4c4e-a482-adea22af06b7' title='Show/Hide data repr'><svg class='icon xr-icon-database'><use xlink:href='#icon-database'></use></svg></label><div class='xr-var-attrs'><dl class='xr-attrs'></dl></div><div class='xr-var-data'><pre>array([-0.996429, -0.989286, -0.982143, ...,  0.982143,  0.989286,  0.996429])</pre></div></li><li class='xr-var-item'><div class='xr-var-name'><span>lat</span></div><div class='xr-var-dims'>(x1, x2)</div><div class='xr-var-dtype'>float32</div><div class='xr-var-preview xr-preview'>dask.array&lt;chunksize=(280, 280), meta=np.ndarray&gt;</div><input id='attrs-298996ed-1504-4653-a5ec-819e6b4922b1' class='xr-var-attrs-in' type='checkbox' ><label for='attrs-298996ed-1504-4653-a5ec-819e6b4922b1' title='Show/Hide attributes'><svg class='icon xr-icon-file-text2'><use xlink:href='#icon-file-text2'></use></svg></label><input id='data-193047b0-0493-4311-a122-1fafdd005544' class='xr-var-data-in' type='checkbox'><label for='data-193047b0-0493-4311-a122-1fafdd005544' title='Show/Hide data repr'><svg class='icon xr-icon-database'><use xlink:href='#icon-database'></use></svg></label><div class='xr-var-attrs'><dl class='xr-attrs'><dt><span>units :</span></dt><dd>degrees_north</dd><dt><span>standard_name :</span></dt><dd>latitude</dd><dt><span>long_name :</span></dt><dd>latitude coordinate</dd></dl></div><div class='xr-var-data'><table>\n    <tr>\n        <td>\n            <table style=\"border-collapse: collapse;\">\n                <thead>\n                    <tr>\n                        <td> </td>\n                        <th> Array </th>\n                        <th> Chunk </th>\n                    </tr>\n                </thead>\n                <tbody>\n                    \n                    <tr>\n                        <th> Bytes </th>\n                        <td> 306.25 kiB </td>\n                        <td> 306.25 kiB </td>\n                    </tr>\n                    \n                    <tr>\n                        <th> Shape </th>\n                        <td> (280, 280) </td>\n                        <td> (280, 280) </td>\n                    </tr>\n                    <tr>\n                        <th> Dask graph </th>\n                        <td colspan=\"2\"> 1 chunks in 5 graph layers </td>\n                    </tr>\n                    <tr>\n                        <th> Data type </th>\n                        <td colspan=\"2\"> float32 numpy.ndarray </td>\n                    </tr>\n                </tbody>\n            </table>\n        </td>\n        <td>\n        <svg width=\"170\" height=\"170\" style=\"stroke:rgb(0,0,0);stroke-width:1\" >\n\n  <!-- Horizontal lines -->\n  <line x1=\"0\" y1=\"0\" x2=\"120\" y2=\"0\" style=\"stroke-width:2\" />\n  <line x1=\"0\" y1=\"120\" x2=\"120\" y2=\"120\" style=\"stroke-width:2\" />\n\n  <!-- Vertical lines -->\n  <line x1=\"0\" y1=\"0\" x2=\"0\" y2=\"120\" style=\"stroke-width:2\" />\n  <line x1=\"120\" y1=\"0\" x2=\"120\" y2=\"120\" style=\"stroke-width:2\" />\n\n  <!-- Colored Rectangle -->\n  <polygon points=\"0.0,0.0 120.0,0.0 120.0,120.0 0.0,120.0\" style=\"fill:#ECB172A0;stroke-width:0\"/>\n\n  <!-- Text -->\n  <text x=\"60.000000\" y=\"140.000000\" font-size=\"1.0rem\" font-weight=\"100\" text-anchor=\"middle\" >280</text>\n  <text x=\"140.000000\" y=\"60.000000\" font-size=\"1.0rem\" font-weight=\"100\" text-anchor=\"middle\" transform=\"rotate(-90,140.000000,60.000000)\">280</text>\n</svg>\n        </td>\n    </tr>\n</table></div></li><li class='xr-var-item'><div class='xr-var-name'><span>lon</span></div><div class='xr-var-dims'>(x1, x2)</div><div class='xr-var-dtype'>float32</div><div class='xr-var-preview xr-preview'>dask.array&lt;chunksize=(280, 280), meta=np.ndarray&gt;</div><input id='attrs-fcbb8dc6-515c-4ace-9bba-76ed590fedbe' class='xr-var-attrs-in' type='checkbox' ><label for='attrs-fcbb8dc6-515c-4ace-9bba-76ed590fedbe' title='Show/Hide attributes'><svg class='icon xr-icon-file-text2'><use xlink:href='#icon-file-text2'></use></svg></label><input id='data-769a03cb-2b9b-4791-b65c-b2ce9c0b8d7e' class='xr-var-data-in' type='checkbox'><label for='data-769a03cb-2b9b-4791-b65c-b2ce9c0b8d7e' title='Show/Hide data repr'><svg class='icon xr-icon-database'><use xlink:href='#icon-database'></use></svg></label><div class='xr-var-attrs'><dl class='xr-attrs'><dt><span>units :</span></dt><dd>degrees_east</dd><dt><span>standard_name :</span></dt><dd>longitude</dd><dt><span>long_name :</span></dt><dd>longitude coordinate</dd></dl></div><div class='xr-var-data'><table>\n    <tr>\n        <td>\n            <table style=\"border-collapse: collapse;\">\n                <thead>\n                    <tr>\n                        <td> </td>\n                        <th> Array </th>\n                        <th> Chunk </th>\n                    </tr>\n                </thead>\n                <tbody>\n                    \n                    <tr>\n                        <th> Bytes </th>\n                        <td> 306.25 kiB </td>\n                        <td> 306.25 kiB </td>\n                    </tr>\n                    \n                    <tr>\n                        <th> Shape </th>\n                        <td> (280, 280) </td>\n                        <td> (280, 280) </td>\n                    </tr>\n                    <tr>\n                        <th> Dask graph </th>\n                        <td colspan=\"2\"> 1 chunks in 5 graph layers </td>\n                    </tr>\n                    <tr>\n                        <th> Data type </th>\n                        <td colspan=\"2\"> float32 numpy.ndarray </td>\n                    </tr>\n                </tbody>\n            </table>\n        </td>\n        <td>\n        <svg width=\"170\" height=\"170\" style=\"stroke:rgb(0,0,0);stroke-width:1\" >\n\n  <!-- Horizontal lines -->\n  <line x1=\"0\" y1=\"0\" x2=\"120\" y2=\"0\" style=\"stroke-width:2\" />\n  <line x1=\"0\" y1=\"120\" x2=\"120\" y2=\"120\" style=\"stroke-width:2\" />\n\n  <!-- Vertical lines -->\n  <line x1=\"0\" y1=\"0\" x2=\"0\" y2=\"120\" style=\"stroke-width:2\" />\n  <line x1=\"120\" y1=\"0\" x2=\"120\" y2=\"120\" style=\"stroke-width:2\" />\n\n  <!-- Colored Rectangle -->\n  <polygon points=\"0.0,0.0 120.0,0.0 120.0,120.0 0.0,120.0\" style=\"fill:#ECB172A0;stroke-width:0\"/>\n\n  <!-- Text -->\n  <text x=\"60.000000\" y=\"140.000000\" font-size=\"1.0rem\" font-weight=\"100\" text-anchor=\"middle\" >280</text>\n  <text x=\"140.000000\" y=\"60.000000\" font-size=\"1.0rem\" font-weight=\"100\" text-anchor=\"middle\" transform=\"rotate(-90,140.000000,60.000000)\">280</text>\n</svg>\n        </td>\n    </tr>\n</table></div></li><li class='xr-var-item'><div class='xr-var-name'><span class='xr-has-index'>time</span></div><div class='xr-var-dims'>(time)</div><div class='xr-var-dtype'>datetime64[ns]</div><div class='xr-var-preview xr-preview'>1950-01-01 ... 2020-12-31</div><input id='attrs-9757c009-8a4c-4c12-9614-74724c93a943' class='xr-var-attrs-in' type='checkbox' disabled><label for='attrs-9757c009-8a4c-4c12-9614-74724c93a943' title='Show/Hide attributes'><svg class='icon xr-icon-file-text2'><use xlink:href='#icon-file-text2'></use></svg></label><input id='data-10cefa03-bc77-490d-b999-13ecd4bc3786' class='xr-var-data-in' type='checkbox'><label for='data-10cefa03-bc77-490d-b999-13ecd4bc3786' title='Show/Hide data repr'><svg class='icon xr-icon-database'><use xlink:href='#icon-database'></use></svg></label><div class='xr-var-attrs'><dl class='xr-attrs'></dl></div><div class='xr-var-data'><pre>array([&#x27;1950-01-01T00:00:00.000000000&#x27;, &#x27;1950-01-02T00:00:00.000000000&#x27;,\n       &#x27;1950-01-03T00:00:00.000000000&#x27;, ..., &#x27;2020-12-29T00:00:00.000000000&#x27;,\n       &#x27;2020-12-30T00:00:00.000000000&#x27;, &#x27;2020-12-31T00:00:00.000000000&#x27;],\n      dtype=&#x27;datetime64[ns]&#x27;)</pre></div></li></ul></div></li><li class='xr-section-item'><input id='section-6378c4ed-9749-4036-a0a4-b7b081509c2b' class='xr-section-summary-in' type='checkbox'  checked><label for='section-6378c4ed-9749-4036-a0a4-b7b081509c2b' class='xr-section-summary' >Data variables: <span>(6)</span></label><div class='xr-section-inline-details'></div><div class='xr-section-details'><ul class='xr-var-list'><li class='xr-var-item'><div class='xr-var-name'><span>mask</span></div><div class='xr-var-dims'>(x1, x2)</div><div class='xr-var-dtype'>float64</div><div class='xr-var-preview xr-preview'>dask.array&lt;chunksize=(280, 280), meta=np.ndarray&gt;</div><input id='attrs-64379ccb-7c68-4d4e-8b24-e80fc9c29ea2' class='xr-var-attrs-in' type='checkbox' ><label for='attrs-64379ccb-7c68-4d4e-8b24-e80fc9c29ea2' title='Show/Hide attributes'><svg class='icon xr-icon-file-text2'><use xlink:href='#icon-file-text2'></use></svg></label><input id='data-e84f25ba-4cbb-4867-ad80-e0536120f608' class='xr-var-data-in' type='checkbox'><label for='data-e84f25ba-4cbb-4867-ad80-e0536120f608' title='Show/Hide data repr'><svg class='icon xr-icon-database'><use xlink:href='#icon-database'></use></svg></label><div class='xr-var-attrs'><dl class='xr-attrs'><dt><span>long_name :</span></dt><dd>mask</dd><dt><span>flag_meanings :</span></dt><dd>ocean ice_free_land grounded_ice floating_ice lake_vostok</dd><dt><span>flag_values :</span></dt><dd>[0 1 2 3 4]</dd><dt><span>grid_mapping :</span></dt><dd>lambert_azimuthal_equal_area</dd></dl></div><div class='xr-var-data'><table>\n    <tr>\n        <td>\n            <table style=\"border-collapse: collapse;\">\n                <thead>\n                    <tr>\n                        <td> </td>\n                        <th> Array </th>\n                        <th> Chunk </th>\n                    </tr>\n                </thead>\n                <tbody>\n                    \n                    <tr>\n                        <th> Bytes </th>\n                        <td> 612.50 kiB </td>\n                        <td> 612.50 kiB </td>\n                    </tr>\n                    \n                    <tr>\n                        <th> Shape </th>\n                        <td> (280, 280) </td>\n                        <td> (280, 280) </td>\n                    </tr>\n                    <tr>\n                        <th> Dask graph </th>\n                        <td colspan=\"2\"> 1 chunks in 2 graph layers </td>\n                    </tr>\n                    <tr>\n                        <th> Data type </th>\n                        <td colspan=\"2\"> float64 numpy.ndarray </td>\n                    </tr>\n                </tbody>\n            </table>\n        </td>\n        <td>\n        <svg width=\"170\" height=\"170\" style=\"stroke:rgb(0,0,0);stroke-width:1\" >\n\n  <!-- Horizontal lines -->\n  <line x1=\"0\" y1=\"0\" x2=\"120\" y2=\"0\" style=\"stroke-width:2\" />\n  <line x1=\"0\" y1=\"120\" x2=\"120\" y2=\"120\" style=\"stroke-width:2\" />\n\n  <!-- Vertical lines -->\n  <line x1=\"0\" y1=\"0\" x2=\"0\" y2=\"120\" style=\"stroke-width:2\" />\n  <line x1=\"120\" y1=\"0\" x2=\"120\" y2=\"120\" style=\"stroke-width:2\" />\n\n  <!-- Colored Rectangle -->\n  <polygon points=\"0.0,0.0 120.0,0.0 120.0,120.0 0.0,120.0\" style=\"fill:#ECB172A0;stroke-width:0\"/>\n\n  <!-- Text -->\n  <text x=\"60.000000\" y=\"140.000000\" font-size=\"1.0rem\" font-weight=\"100\" text-anchor=\"middle\" >280</text>\n  <text x=\"140.000000\" y=\"60.000000\" font-size=\"1.0rem\" font-weight=\"100\" text-anchor=\"middle\" transform=\"rotate(-90,140.000000,60.000000)\">280</text>\n</svg>\n        </td>\n    </tr>\n</table></div></li><li class='xr-var-item'><div class='xr-var-name'><span>surface</span></div><div class='xr-var-dims'>(x1, x2)</div><div class='xr-var-dtype'>float32</div><div class='xr-var-preview xr-preview'>dask.array&lt;chunksize=(280, 280), meta=np.ndarray&gt;</div><input id='attrs-787c01b2-b97d-4dfc-a173-1729b3b68898' class='xr-var-attrs-in' type='checkbox' disabled><label for='attrs-787c01b2-b97d-4dfc-a173-1729b3b68898' title='Show/Hide attributes'><svg class='icon xr-icon-file-text2'><use xlink:href='#icon-file-text2'></use></svg></label><input id='data-59924056-c9f6-4a86-a6c1-ff927582ec65' class='xr-var-data-in' type='checkbox'><label for='data-59924056-c9f6-4a86-a6c1-ff927582ec65' title='Show/Hide data repr'><svg class='icon xr-icon-database'><use xlink:href='#icon-database'></use></svg></label><div class='xr-var-attrs'><dl class='xr-attrs'></dl></div><div class='xr-var-data'><table>\n    <tr>\n        <td>\n            <table style=\"border-collapse: collapse;\">\n                <thead>\n                    <tr>\n                        <td> </td>\n                        <th> Array </th>\n                        <th> Chunk </th>\n                    </tr>\n                </thead>\n                <tbody>\n                    \n                    <tr>\n                        <th> Bytes </th>\n                        <td> 306.25 kiB </td>\n                        <td> 306.25 kiB </td>\n                    </tr>\n                    \n                    <tr>\n                        <th> Shape </th>\n                        <td> (280, 280) </td>\n                        <td> (280, 280) </td>\n                    </tr>\n                    <tr>\n                        <th> Dask graph </th>\n                        <td colspan=\"2\"> 1 chunks in 2 graph layers </td>\n                    </tr>\n                    <tr>\n                        <th> Data type </th>\n                        <td colspan=\"2\"> float32 numpy.ndarray </td>\n                    </tr>\n                </tbody>\n            </table>\n        </td>\n        <td>\n        <svg width=\"170\" height=\"170\" style=\"stroke:rgb(0,0,0);stroke-width:1\" >\n\n  <!-- Horizontal lines -->\n  <line x1=\"0\" y1=\"0\" x2=\"120\" y2=\"0\" style=\"stroke-width:2\" />\n  <line x1=\"0\" y1=\"120\" x2=\"120\" y2=\"120\" style=\"stroke-width:2\" />\n\n  <!-- Vertical lines -->\n  <line x1=\"0\" y1=\"0\" x2=\"0\" y2=\"120\" style=\"stroke-width:2\" />\n  <line x1=\"120\" y1=\"0\" x2=\"120\" y2=\"120\" style=\"stroke-width:2\" />\n\n  <!-- Colored Rectangle -->\n  <polygon points=\"0.0,0.0 120.0,0.0 120.0,120.0 0.0,120.0\" style=\"fill:#ECB172A0;stroke-width:0\"/>\n\n  <!-- Text -->\n  <text x=\"60.000000\" y=\"140.000000\" font-size=\"1.0rem\" font-weight=\"100\" text-anchor=\"middle\" >280</text>\n  <text x=\"140.000000\" y=\"60.000000\" font-size=\"1.0rem\" font-weight=\"100\" text-anchor=\"middle\" transform=\"rotate(-90,140.000000,60.000000)\">280</text>\n</svg>\n        </td>\n    </tr>\n</table></div></li><li class='xr-var-item'><div class='xr-var-name'><span>x1_arr</span></div><div class='xr-var-dims'>(x1, x2)</div><div class='xr-var-dtype'>float64</div><div class='xr-var-preview xr-preview'>0.9964 0.9964 ... -0.9964 -0.9964</div><input id='attrs-c55dc488-34be-448b-8f12-38597917e55a' class='xr-var-attrs-in' type='checkbox' disabled><label for='attrs-c55dc488-34be-448b-8f12-38597917e55a' title='Show/Hide attributes'><svg class='icon xr-icon-file-text2'><use xlink:href='#icon-file-text2'></use></svg></label><input id='data-6755989f-c26f-4c5e-8f62-32e122b9fa95' class='xr-var-data-in' type='checkbox'><label for='data-6755989f-c26f-4c5e-8f62-32e122b9fa95' title='Show/Hide data repr'><svg class='icon xr-icon-database'><use xlink:href='#icon-database'></use></svg></label><div class='xr-var-attrs'><dl class='xr-attrs'></dl></div><div class='xr-var-data'><pre>array([[ 0.99642857,  0.99642857,  0.99642857, ...,  0.99642857,\n         0.99642857,  0.99642857],\n       [ 0.98928571,  0.98928571,  0.98928571, ...,  0.98928571,\n         0.98928571,  0.98928571],\n       [ 0.98214286,  0.98214286,  0.98214286, ...,  0.98214286,\n         0.98214286,  0.98214286],\n       ...,\n       [-0.98214286, -0.98214286, -0.98214286, ..., -0.98214286,\n        -0.98214286, -0.98214286],\n       [-0.98928571, -0.98928571, -0.98928571, ..., -0.98928571,\n        -0.98928571, -0.98928571],\n       [-0.99642857, -0.99642857, -0.99642857, ..., -0.99642857,\n        -0.99642857, -0.99642857]])</pre></div></li><li class='xr-var-item'><div class='xr-var-name'><span>x2_arr</span></div><div class='xr-var-dims'>(x1, x2)</div><div class='xr-var-dtype'>float64</div><div class='xr-var-preview xr-preview'>-0.9964 -0.9893 ... 0.9893 0.9964</div><input id='attrs-e00377d0-3e53-4827-94b5-70d0052749a7' class='xr-var-attrs-in' type='checkbox' disabled><label for='attrs-e00377d0-3e53-4827-94b5-70d0052749a7' title='Show/Hide attributes'><svg class='icon xr-icon-file-text2'><use xlink:href='#icon-file-text2'></use></svg></label><input id='data-4ee70c2b-0d91-4d9b-940f-9250037e864a' class='xr-var-data-in' type='checkbox'><label for='data-4ee70c2b-0d91-4d9b-940f-9250037e864a' title='Show/Hide data repr'><svg class='icon xr-icon-database'><use xlink:href='#icon-database'></use></svg></label><div class='xr-var-attrs'><dl class='xr-attrs'></dl></div><div class='xr-var-data'><pre>array([[-0.99642857, -0.98928571, -0.98214286, ...,  0.98214286,\n         0.98928571,  0.99642857],\n       [-0.99642857, -0.98928571, -0.98214286, ...,  0.98214286,\n         0.98928571,  0.99642857],\n       [-0.99642857, -0.98928571, -0.98214286, ...,  0.98214286,\n         0.98928571,  0.99642857],\n       ...,\n       [-0.99642857, -0.98928571, -0.98214286, ...,  0.98214286,\n         0.98928571,  0.99642857],\n       [-0.99642857, -0.98928571, -0.98214286, ...,  0.98214286,\n         0.98928571,  0.99642857],\n       [-0.99642857, -0.98928571, -0.98214286, ...,  0.98214286,\n         0.98928571,  0.99642857]])</pre></div></li><li class='xr-var-item'><div class='xr-var-name'><span>cos_D</span></div><div class='xr-var-dims'>(time)</div><div class='xr-var-dtype'>float64</div><div class='xr-var-preview xr-preview'>0.9999 0.9994 0.9987 ... 1.0 0.9999</div><input id='attrs-7ca5f4f9-d5b8-47fb-915a-accab8ddf386' class='xr-var-attrs-in' type='checkbox' disabled><label for='attrs-7ca5f4f9-d5b8-47fb-915a-accab8ddf386' title='Show/Hide attributes'><svg class='icon xr-icon-file-text2'><use xlink:href='#icon-file-text2'></use></svg></label><input id='data-533cd3a1-5a6c-4437-8c96-d711962a824b' class='xr-var-data-in' type='checkbox'><label for='data-533cd3a1-5a6c-4437-8c96-d711962a824b' title='Show/Hide data repr'><svg class='icon xr-icon-database'><use xlink:href='#icon-database'></use></svg></label><div class='xr-var-attrs'><dl class='xr-attrs'></dl></div><div class='xr-var-data'><pre>array([0.999852, 0.999408, 0.998669, ..., 0.999769, 0.999991, 0.999917])</pre></div></li><li class='xr-var-item'><div class='xr-var-name'><span>sin_D</span></div><div class='xr-var-dims'>(time)</div><div class='xr-var-dtype'>float64</div><div class='xr-var-preview xr-preview'>0.0172 0.0344 ... -0.004301 0.0129</div><input id='attrs-a9dc2192-9df3-4df5-abf0-140c4dd2ab04' class='xr-var-attrs-in' type='checkbox' disabled><label for='attrs-a9dc2192-9df3-4df5-abf0-140c4dd2ab04' title='Show/Hide attributes'><svg class='icon xr-icon-file-text2'><use xlink:href='#icon-file-text2'></use></svg></label><input id='data-a17ca1e6-3dfa-4fba-bcc1-89d1621de350' class='xr-var-data-in' type='checkbox'><label for='data-a17ca1e6-3dfa-4fba-bcc1-89d1621de350' title='Show/Hide data repr'><svg class='icon xr-icon-database'><use xlink:href='#icon-database'></use></svg></label><div class='xr-var-attrs'><dl class='xr-attrs'></dl></div><div class='xr-var-data'><pre>array([ 0.017202,  0.034398,  0.051584, ..., -0.021501, -0.004301,  0.012901])</pre></div></li></ul></div></li><li class='xr-section-item'><input id='section-7f32e057-a54f-4f68-90f8-6ca3c97e4271' class='xr-section-summary-in' type='checkbox'  ><label for='section-7f32e057-a54f-4f68-90f8-6ca3c97e4271' class='xr-section-summary' >Indexes: <span>(3)</span></label><div class='xr-section-inline-details'></div><div class='xr-section-details'><ul class='xr-var-list'><li class='xr-var-item'><div class='xr-index-name'><div>x1</div></div><div class='xr-index-preview'>PandasIndex</div><div></div><input id='index-53d64deb-21c1-4710-9a95-6e4d09c8dd32' class='xr-index-data-in' type='checkbox'/><label for='index-53d64deb-21c1-4710-9a95-6e4d09c8dd32' title='Show/Hide index repr'><svg class='icon xr-icon-database'><use xlink:href='#icon-database'></use></svg></label><div class='xr-index-data'><pre>PandasIndex(Index([ 0.9964285714285714,  0.9892857142857143,  0.9821428571428571,\n                     0.975,  0.9678571428571429,  0.9607142857142857,\n        0.9535714285714286,  0.9464285714285714,  0.9392857142857143,\n        0.9321428571428572,\n       ...\n       -0.9321428571428572, -0.9392857142857143, -0.9464285714285714,\n       -0.9535714285714286, -0.9607142857142857, -0.9678571428571429,\n                    -0.975, -0.9821428571428571, -0.9892857142857143,\n       -0.9964285714285714],\n      dtype=&#x27;float64&#x27;, name=&#x27;x1&#x27;, length=280))</pre></div></li><li class='xr-var-item'><div class='xr-index-name'><div>x2</div></div><div class='xr-index-preview'>PandasIndex</div><div></div><input id='index-8504b1e3-2cb8-423b-a36a-bc9db195744a' class='xr-index-data-in' type='checkbox'/><label for='index-8504b1e3-2cb8-423b-a36a-bc9db195744a' title='Show/Hide index repr'><svg class='icon xr-icon-database'><use xlink:href='#icon-database'></use></svg></label><div class='xr-index-data'><pre>PandasIndex(Index([-0.9964285714285714, -0.9892857142857143, -0.9821428571428571,\n                    -0.975, -0.9678571428571429, -0.9607142857142857,\n       -0.9535714285714286, -0.9464285714285714, -0.9392857142857143,\n       -0.9321428571428572,\n       ...\n        0.9321428571428572,  0.9392857142857143,  0.9464285714285714,\n        0.9535714285714286,  0.9607142857142857,  0.9678571428571429,\n                     0.975,  0.9821428571428571,  0.9892857142857143,\n        0.9964285714285714],\n      dtype=&#x27;float64&#x27;, name=&#x27;x2&#x27;, length=280))</pre></div></li><li class='xr-var-item'><div class='xr-index-name'><div>time</div></div><div class='xr-index-preview'>PandasIndex</div><div></div><input id='index-553e18cd-882b-4175-994d-b0b22cb1a5df' class='xr-index-data-in' type='checkbox'/><label for='index-553e18cd-882b-4175-994d-b0b22cb1a5df' title='Show/Hide index repr'><svg class='icon xr-icon-database'><use xlink:href='#icon-database'></use></svg></label><div class='xr-index-data'><pre>PandasIndex(DatetimeIndex([&#x27;1950-01-01&#x27;, &#x27;1950-01-02&#x27;, &#x27;1950-01-03&#x27;, &#x27;1950-01-04&#x27;,\n               &#x27;1950-01-05&#x27;, &#x27;1950-01-06&#x27;, &#x27;1950-01-07&#x27;, &#x27;1950-01-08&#x27;,\n               &#x27;1950-01-09&#x27;, &#x27;1950-01-10&#x27;,\n               ...\n               &#x27;2020-12-22&#x27;, &#x27;2020-12-23&#x27;, &#x27;2020-12-24&#x27;, &#x27;2020-12-25&#x27;,\n               &#x27;2020-12-26&#x27;, &#x27;2020-12-27&#x27;, &#x27;2020-12-28&#x27;, &#x27;2020-12-29&#x27;,\n               &#x27;2020-12-30&#x27;, &#x27;2020-12-31&#x27;],\n              dtype=&#x27;datetime64[ns]&#x27;, name=&#x27;time&#x27;, length=25933, freq=&#x27;D&#x27;))</pre></div></li></ul></div></li><li class='xr-section-item'><input id='section-fc66ad92-a577-4b76-a0e5-8d362260c149' class='xr-section-summary-in' type='checkbox' disabled ><label for='section-fc66ad92-a577-4b76-a0e5-8d362260c149' class='xr-section-summary'  title='Expand/collapse section'>Attributes: <span>(0)</span></label><div class='xr-section-inline-details'></div><div class='xr-section-details'><dl class='xr-attrs'></dl></div></li></ul></div></div>"
     },
     "execution_count": 9,
     "metadata": {},
     "output_type": "execute_result"
    }
   ],
   "source": [
    "from deepsensor.data.loader import construct_x1x2_ds, construct_circ_time_ds\n",
    "\n",
    "aux_ds = xr.open_mfdataset('../deepsensor_old/data/antarctica/auxiliary/processed/*25000m/*.nc')\n",
    "\n",
    "x1x2_ds = construct_x1x2_ds(aux_ds)\n",
    "aux_ds['x1_arr'] = x1x2_ds['x1_arr']\n",
    "aux_ds['x2_arr'] = x1x2_ds['x2_arr']\n",
    "\n",
    "dates = pd.date_range(era5_ds.time.values.min(), era5_ds.time.values.max(), freq=\"D\")\n",
    "doy_ds = construct_circ_time_ds(dates, freq=\"D\")\n",
    "aux_ds[\"cos_D\"] = doy_ds[\"cos_D\"]\n",
    "aux_ds[\"sin_D\"] = doy_ds[\"sin_D\"]\n",
    "\n",
    "aux_ds"
   ]
  },
  {
   "cell_type": "code",
   "execution_count": 10,
   "metadata": {
    "ExecuteTime": {
     "end_time": "2023-05-24T09:43:01.455321422Z",
     "start_time": "2023-05-24T09:43:00.281522503Z"
    }
   },
   "outputs": [
    {
     "name": "stdout",
     "output_type": "stream",
     "text": [
      "                                     tas\n",
      "time       x1        x2                 \n",
      "1948-04-01 -1.039598  0.400453  0.998104\n",
      "1948-04-02 -1.039598  0.400453  1.043380\n",
      "1948-04-03 -1.039598  0.400453  0.934391\n",
      "1948-04-04 -1.039598  0.400453  0.955902\n",
      "1948-04-05 -1.039598  0.400453  0.892086\n",
      "...                                  ...\n",
      "2022-06-14  0.413597 -0.197276 -0.634638\n",
      "2022-06-15  0.153729 -0.459005 -0.864647\n",
      "            0.230653 -0.386157 -0.709768\n",
      "            0.264879 -0.659692  0.092832\n",
      "            0.281365 -0.490629 -0.467813\n",
      "\n",
      "[941850 rows x 1 columns]\n"
     ]
    }
   ],
   "source": [
    "station_df = pd.read_csv('../deepsensor_old/data/antarctica/station/processed/XY_station.csv')\n",
    "station_df = station_df.rename(columns={'date': 'time'})\n",
    "station_df['time'] = pd.to_datetime(station_df['time'])\n",
    "station_df = station_df.set_index(['time', 'x1', 'x2']).sort_index()\n",
    "station_df = station_df[['tas']]\n",
    "print(station_df)"
   ]
  },
  {
   "cell_type": "markdown",
   "metadata": {},
   "source": [
    "### TODO: Normalise data with DataProcessor"
   ]
  },
  {
   "cell_type": "code",
   "execution_count": 11,
   "metadata": {
    "ExecuteTime": {
     "end_time": "2023-05-24T09:43:01.513948035Z",
     "start_time": "2023-05-24T09:43:01.457361567Z"
    }
   },
   "outputs": [],
   "source": [
    "# TODO"
   ]
  },
  {
   "cell_type": "markdown",
   "metadata": {},
   "source": [
    "### Set up a TaskLoader object to generate forecasting tasks\n",
    "Note the flexibility of the `TaskLoader` init arguments below.\n",
    "With slight changes to the arguments, we can instantiate a `TaskLoader` that generates tasks for forecasting or interpolation."
   ]
  },
  {
   "cell_type": "code",
   "execution_count": 12,
   "metadata": {
    "ExecuteTime": {
     "end_time": "2023-05-24T09:43:01.582001578Z",
     "start_time": "2023-05-24T09:43:01.518970104Z"
    }
   },
   "outputs": [
    {
     "name": "stdout",
     "output_type": "stream",
     "text": [
      "TaskLoader(2 context sets, 1 target sets)\n",
      "Context variable IDs: (('t2m_t0',), ('mask_t0', 'surface_t0', 'x1_arr_t0', 'x2_arr_t0', 'cos_D_t0', 'sin_D_t0'))\n",
      "Target variable IDs: (('t2m_t0',),)\n"
     ]
    }
   ],
   "source": [
    "task_loader = TaskLoader(context=[era5_ds['t2m'], aux_ds], target=era5_ds['t2m'])\n",
    "print(task_loader)"
   ]
  },
  {
   "cell_type": "code",
   "execution_count": 13,
   "metadata": {
    "ExecuteTime": {
     "end_time": "2023-05-24T09:43:01.646611234Z",
     "start_time": "2023-05-24T09:43:01.585176027Z"
    }
   },
   "outputs": [],
   "source": [
    "# task_loader.load_dask()  # Load any dask arrays into memory for faster training"
   ]
  },
  {
   "cell_type": "markdown",
   "metadata": {},
   "source": [
    "### The TaskLoader outputs Tasks, which are dict-like objects containing context and target data"
   ]
  },
  {
   "cell_type": "markdown",
   "metadata": {},
   "source": [
    "Calling a `TaskLoader` with a `date` generates a `Task` for that date by slicing the context and target variables.\n",
    "`Task`s inherit from `dict` and provide `__str__` and `__repr__` methods for debugging.\n",
    "`TaskLoader` offers several data sampling methods for generating `Task`s.\n",
    "```\n",
    "\"grid\": 2D grid of data\n",
    "N, int: uniform random sampling of N grid cells\n",
    "```"
   ]
  },
  {
   "cell_type": "code",
   "execution_count": 14,
   "metadata": {
    "ExecuteTime": {
     "end_time": "2023-05-24T09:43:01.978214302Z",
     "start_time": "2023-05-24T09:43:01.853629529Z"
    }
   },
   "outputs": [
    {
     "name": "stdout",
     "output_type": "stream",
     "text": [
      "<class 'deepsensor.data.task.Task'> \n",
      "\n",
      "Concise task summary:\n",
      "time: 2000-01-01 00:00:00\n",
      "modify: None\n",
      "X_c: [((280,), (280,)), ((280,), (280,))]\n",
      "Y_c: [(1, 280, 280), (6, 280, 280)]\n",
      "X_t: [(2, 10)]\n",
      "Y_t: [(10,)]\n",
      "\n",
      "Verbose task summary:\n",
      "time: Timestamp/2000-01-01 00:00:00\n",
      "modify: NoneType/None\n",
      "X_c: [('ndarray/float32/(280,)', 'ndarray/float32/(280,)'), ('ndarray/float32/(280,)', 'ndarray/float32/(280,)')]\n",
      "Y_c: ['ndarray/float32/(1, 280, 280)', 'ndarray/float32/(6, 280, 280)']\n",
      "X_t: ['ndarray/float32/(2, 10)']\n",
      "Y_t: ['ndarray/float32/(10,)']\n",
      "\n"
     ]
    }
   ],
   "source": [
    "task = task_loader(\"2000-01-01\", \"grid\", 10)\n",
    "print(type(task), \"\\n\")\n",
    "\n",
    "print(\"Concise task summary:\")\n",
    "print(task)\n",
    "\n",
    "print(\"Verbose task summary:\")\n",
    "print(repr(task))"
   ]
  },
  {
   "cell_type": "markdown",
   "metadata": {},
   "source": [
    "### Set up ConvNP object\n",
    "\n",
    "`ConvNP` wraps around the `neuralprocesses` library to provide a convenient interface for inference with environmental data in the form of `Task`s.\n",
    "\n",
    "There are several ways to set up a `ConvNP` object:"
   ]
  },
  {
   "cell_type": "code",
   "execution_count": 15,
   "outputs": [
    {
     "data": {
      "text/plain": "keras.engine.training.Model"
     },
     "execution_count": 15,
     "metadata": {},
     "output_type": "execute_result"
    }
   ],
   "source": [
    "from deepsensor.model.models import TFModel\n",
    "from plum import resolve_type_hint\n",
    "resolve_type_hint(TFModel)"
   ],
   "metadata": {
    "collapsed": false,
    "ExecuteTime": {
     "end_time": "2023-05-24T09:43:02.977608354Z",
     "start_time": "2023-05-24T09:43:02.900212517Z"
    }
   }
  },
  {
   "cell_type": "code",
   "execution_count": 16,
   "metadata": {
    "ExecuteTime": {
     "end_time": "2023-05-24T09:43:04.565396997Z",
     "start_time": "2023-05-24T09:43:03.797683415Z"
    }
   },
   "outputs": [],
   "source": [
    "# Instantiate a ConvNP with `neuralprocesses.construct_ConvNP` kwargs\n",
    "model = ConvNP(points_per_unit=300, unet_channels=(32, 32, 32, 32), encoder_scales=(0.002, 0.005))"
   ]
  },
  {
   "cell_type": "code",
   "execution_count": 17,
   "metadata": {
    "ExecuteTime": {
     "end_time": "2023-05-24T09:43:05.465145150Z",
     "start_time": "2023-05-24T09:43:05.385144925Z"
    }
   },
   "outputs": [],
   "source": [
    "# This works too: instantiate a ConvNP from an existing TensorFlow model\n",
    "model = ConvNP(model.model)"
   ]
  },
  {
   "cell_type": "code",
   "execution_count": 18,
   "metadata": {
    "ExecuteTime": {
     "end_time": "2023-05-24T09:43:19.665014348Z",
     "start_time": "2023-05-24T09:43:19.435168926Z"
    }
   },
   "outputs": [
    {
     "name": "stdout",
     "output_type": "stream",
     "text": [
      "dim_yc inferred from TaskLoader: (1, 6)\n",
      "dim_yt inferred from TaskLoader: 1\n",
      "points_per_unit inferred from TaskLoader: 167\n",
      "encoder_scales inferred from TaskLoader: [0.0035714285913854837, 0.0035714285913854837]\n"
     ]
    }
   ],
   "source": [
    "# However, we will instantiate a ConvNP with a TaskLoader to infer sensible defaults (unless overridden with kwargs)\n",
    "model_dim = 128\n",
    "model = ConvNP(task_loader, unet_channels=(model_dim,) * 4)"
   ]
  },
  {
   "cell_type": "markdown",
   "metadata": {},
   "source": [
    "A `ConvNP`'s `__call__` method accepts a `Task` and returns a distribution object.\n",
    "The distribution object can be used to compute predictions, sample from the model, compute entropy, etc, without having to run the model again."
   ]
  },
  {
   "cell_type": "code",
   "execution_count": 19,
   "metadata": {
    "ExecuteTime": {
     "end_time": "2023-05-24T09:43:58.582218333Z",
     "start_time": "2023-05-24T09:43:20.319501588Z"
    }
   },
   "outputs": [
    {
     "name": "stderr",
     "output_type": "stream",
     "text": [
      "2023-05-24 10:43:32.129500: I tensorflow/compiler/xla/stream_executor/cuda/cuda_blas.cc:630] TensorFloat-32 will be used for the matrix multiplication. This will only be logged once.\n",
      "2023-05-24 10:43:42.062577: I tensorflow/compiler/xla/stream_executor/cuda/cuda_dnn.cc:428] Loaded cuDNN version 8201\n"
     ]
    },
    {
     "name": "stdout",
     "output_type": "stream",
     "text": [
      "Distribution object:  <class 'neuralprocesses.dist.normal.MultiOutputNormal[matrix.matrix.Dense, matrix.lowrank.LowRank, matrix.diagonal.Diagonal]'>\n",
      "Mean:  (3,) [7.047846 8.363125 8.253919]\n",
      "Sample:  (2, 3) [[7.619549  8.991036  8.889617 ]\n",
      " [7.1698184 8.6254835 8.54682  ]]\n",
      "Variance:  (3,) [0.19775026 0.2094001  0.20240806]\n",
      "Std dev:  (3,) [0.44469118 0.45760256 0.44989783]\n",
      "Covariance:  (3, 3)\n",
      "logpdf:  -183.18462\n",
      "Entropy:  0.09392309\n"
     ]
    }
   ],
   "source": [
    "# Run model on a random task to build model, with all context data and 3 random target locations\n",
    "task = task_loader(\"2000-01-01\", \"grid\", 3)\n",
    "dist = model(task)\n",
    "print('Distribution object: ', type(dist))\n",
    "x = model.predict(dist)\n",
    "print('Mean: ', x.shape, x)\n",
    "x = model.sample(dist, n_samples=2)\n",
    "print('Sample: ', x.shape, x)\n",
    "x = model.variance(dist)\n",
    "print('Variance: ', x.shape, x)\n",
    "x = model.stddev(dist)\n",
    "print('Std dev: ', x.shape, x)\n",
    "x = model.covariance(dist)\n",
    "print('Covariance: ', x.shape)\n",
    "x = model.logpdf(dist, task)\n",
    "print('logpdf: ', x)\n",
    "x = model.entropy(dist)\n",
    "print('Entropy: ', x)"
   ]
  },
  {
   "cell_type": "markdown",
   "metadata": {},
   "source": [
    "Note, all of the above methods can be called on a `Task` rather than a distribution object, and the model will be run internally, e.g.:"
   ]
  },
  {
   "cell_type": "code",
   "execution_count": 20,
   "metadata": {
    "ExecuteTime": {
     "end_time": "2023-05-24T09:43:59.253615315Z",
     "start_time": "2023-05-24T09:43:58.581852663Z"
    }
   },
   "outputs": [
    {
     "name": "stdout",
     "output_type": "stream",
     "text": [
      "Mean:  (3,) [7.047846 8.363125 8.253919]\n"
     ]
    }
   ],
   "source": [
    "x = model.predict(task)\n",
    "print('Mean: ', x.shape, x)"
   ]
  },
  {
   "cell_type": "markdown",
   "metadata": {},
   "source": [
    "After model has been built, we can get some useful information:"
   ]
  },
  {
   "cell_type": "code",
   "execution_count": 21,
   "metadata": {
    "ExecuteTime": {
     "end_time": "2023-05-24T09:43:59.335629873Z",
     "start_time": "2023-05-24T09:43:59.256906329Z"
    }
   },
   "outputs": [
    {
     "name": "stdout",
     "output_type": "stream",
     "text": [
      "Model receptive field: 0.39\n",
      "Model has 4,134,341 parameters\n"
     ]
    }
   ],
   "source": [
    "print(f\"Model receptive field: {model.model.receptive_field:.2f}\")\n",
    "print(f\"Model has {ds.backend.nps.num_params(model.model):,} parameters\")"
   ]
  },
  {
   "cell_type": "markdown",
   "source": [
    "The model has a method to reshape the task data into a format that can be passed to the model:"
   ],
   "metadata": {
    "collapsed": false
   }
  },
  {
   "cell_type": "code",
   "execution_count": null,
   "outputs": [],
   "source": [
    "task = ConvNP.modify_task(task)\n",
    "print(repr(task))"
   ],
   "metadata": {
    "collapsed": false
   }
  },
  {
   "cell_type": "markdown",
   "metadata": {},
   "source": [
    "### Visualise encoded context data in the model\n",
    "Inspecting the gridded encoding of the context data helps with understanding the context sampling schemes.\n",
    "\n",
    "This can also be an extremely useful debugging tool. For example:\n",
    "* Do the length scales of the encoded data seem reasonable (i.e. avoids blurring high frequency components while not being so small to induce checkerboard artefacts)?\n",
    "* Are the channel magnitudes in the encoding reasonable?\n",
    "* Are there any `nan` values?"
   ]
  },
  {
   "cell_type": "code",
   "execution_count": null,
   "metadata": {},
   "outputs": [],
   "source": [
    "task = task_loader(\"2000-01-01\", (250, \"grid\"), 5000)\n",
    "encoding = compute_encoding_tensor(model, task)\n",
    "print(f\"\\nEncoding is shape {encoding.shape}\")\n",
    "fig = plot_context_encoding(model, task, task_loader)\n",
    "plt.show()"
   ]
  },
  {
   "cell_type": "markdown",
   "metadata": {},
   "source": [
    "### Train model"
   ]
  },
  {
   "cell_type": "code",
   "execution_count": null,
   "metadata": {},
   "outputs": [],
   "source": [
    "import tensorflow as tf\n",
    "from tqdm.notebook import tqdm\n",
    "\n",
    "opt = tf.keras.optimizers.Adam(1e-5)\n",
    "\n",
    "def train_step(tasks):\n",
    "    if not isinstance(tasks, list):\n",
    "        tasks = [tasks]\n",
    "    with tf.GradientTape() as tape:\n",
    "        task_losses = []\n",
    "        for task in tasks:\n",
    "            task_losses.append(model.loss_fn(task, normalise=True))\n",
    "        mean_batch_loss = tf.reduce_mean(task_losses)\n",
    "    grads = tape.gradient(mean_batch_loss, model.model.trainable_weights)\n",
    "    opt.apply_gradients(zip(grads, model.model.trainable_weights))\n",
    "    return mean_batch_loss\n",
    "\n",
    "n_epochs = 10\n",
    "epoch_losses = []\n",
    "for epoch in tqdm(range(n_epochs), position=0):\n",
    "    dates = pd.date_range('1980-01-01', '2009-12-31')[::365]\n",
    "    pbar = tqdm(dates, position=1, smoothing=1)\n",
    "    batch_losses = []\n",
    "    for date in pbar:\n",
    "        n_obs = np.random.randint(5, 500)\n",
    "        n_t = 5000\n",
    "        task = task_loader(date, (n_obs, \"grid\"), n_t)\n",
    "        batch_loss = train_step(task)\n",
    "        batch_losses.append(batch_loss)\n",
    "        pbar.set_description('avg loss: {:.2f}'.format(np.mean(batch_losses)))\n",
    "    epoch_loss = np.mean(batch_losses)\n",
    "    epoch_losses.append(epoch_loss)\n",
    "    print(f\"Loss: {epoch_loss}\")"
   ]
  },
  {
   "cell_type": "code",
   "execution_count": null,
   "metadata": {},
   "outputs": [],
   "source": [
    "plt.plot(epoch_losses)\n",
    "plt.gca().set_ylabel(\"loss\")"
   ]
  },
  {
   "cell_type": "markdown",
   "metadata": {},
   "source": [
    "### Predict on heldout data"
   ]
  },
  {
   "cell_type": "code",
   "execution_count": null,
   "metadata": {},
   "outputs": [],
   "source": [
    "test_dates = pd.date_range(\"2000-01-01\", \"2000-12-31\")\n",
    "tasks = task_loader(test_dates, \"grid\", \"grid\")"
   ]
  },
  {
   "cell_type": "code",
   "execution_count": null,
   "metadata": {},
   "outputs": [],
   "source": [
    "pred_ds = model.predict_ongrid(tasks, reference_grid=era5_ds, n_samples=3, progress_bar=1)\n",
    "pred_ds"
   ]
  },
  {
   "cell_type": "code",
   "execution_count": null,
   "metadata": {},
   "outputs": [],
   "source": [
    "# Convert time coord to pandas timestamps\n",
    "pred_ds = pred_ds.assign_coords(time=pd.to_datetime(pred_ds.time.values))"
   ]
  },
  {
   "cell_type": "code",
   "execution_count": null,
   "metadata": {},
   "outputs": [],
   "source": [
    "pred_ds['time'] = [pd.Timestamp(t) for t in pred_ds.time.values]"
   ]
  },
  {
   "cell_type": "code",
   "execution_count": null,
   "metadata": {},
   "outputs": [],
   "source": [
    "pred_ds"
   ]
  },
  {
   "cell_type": "code",
   "execution_count": null,
   "metadata": {},
   "outputs": [],
   "source": [
    "# Convert init time to forecast time\n",
    "pred_ds = pred_ds.assign_coords(time=pred_ds['time'] + pd.Timedelta(days=task_loader.target_delta_t[0]))\n",
    "pred_ds"
   ]
  },
  {
   "cell_type": "code",
   "execution_count": null,
   "metadata": {},
   "outputs": [],
   "source": [
    "true_da = task_loader.target[0]"
   ]
  },
  {
   "cell_type": "code",
   "execution_count": null,
   "metadata": {},
   "outputs": [],
   "source": [
    "err_da = pred_ds['mean'] - true_da\n",
    "err_da"
   ]
  },
  {
   "cell_type": "code",
   "execution_count": null,
   "metadata": {},
   "outputs": [],
   "source": [
    "dask.array.fabs(err_da).mean(['x1', 'x2']).plot()\n",
    "plt.gca().set_ylabel(\"MAE (K)\")"
   ]
  },
  {
   "cell_type": "code",
   "execution_count": null,
   "metadata": {},
   "outputs": [],
   "source": [
    "mae = dask.array.fabs(err_da).mean()\n",
    "rmse = np.sqrt(dask.array.square(err_da).mean())\n",
    "print(f\"Test MAE: {mae.values:.2f} K, RMSE: {rmse.values:.2f} K\")"
   ]
  },
  {
   "cell_type": "code",
   "execution_count": null,
   "metadata": {},
   "outputs": [],
   "source": [
    "init_date = pd.Timestamp(\"2000-06-25\")\n",
    "target_date = init_date + pd.DateOffset(days=task_loader.target_delta_t[0])\n",
    "true_da.sel(time=[init_date, target_date]).load().plot(col=\"time\")"
   ]
  },
  {
   "cell_type": "code",
   "execution_count": null,
   "metadata": {},
   "outputs": [],
   "source": [
    "pred_ds['mean'].isel(time=0).plot()"
   ]
  },
  {
   "cell_type": "code",
   "execution_count": null,
   "metadata": {},
   "outputs": [],
   "source": [
    "pred_ds['samples'].plot(col='sample')"
   ]
  },
  {
   "cell_type": "code",
   "execution_count": null,
   "metadata": {},
   "outputs": [],
   "source": [
    "err_da = pred_ds['mean'].isel(time=0) - true_da.sel(time=target_date)\n",
    "err_da.plot()"
   ]
  },
  {
   "cell_type": "code",
   "execution_count": null,
   "metadata": {},
   "outputs": [],
   "source": [
    "pred_ds['std'].plot()"
   ]
  },
  {
   "cell_type": "markdown",
   "metadata": {},
   "source": [
    "### Test model saving and loading"
   ]
  },
  {
   "cell_type": "code",
   "execution_count": null,
   "metadata": {},
   "outputs": [],
   "source": [
    "os.makedirs('model', exist_ok=True)\n",
    "model.model.save_weights('model/')"
   ]
  },
  {
   "cell_type": "code",
   "execution_count": null,
   "metadata": {},
   "outputs": [],
   "source": [
    "type(task_loader)"
   ]
  },
  {
   "cell_type": "code",
   "execution_count": null,
   "metadata": {},
   "outputs": [],
   "source": [
    "model = ConvNP(task_loader)"
   ]
  },
  {
   "cell_type": "markdown",
   "metadata": {},
   "source": [
    "Randomly initialised prediction"
   ]
  },
  {
   "cell_type": "code",
   "execution_count": null,
   "metadata": {},
   "outputs": [],
   "source": [
    "model.predict_ongrid(task, reference_grid=era5_ds)['std'].plot()"
   ]
  },
  {
   "cell_type": "markdown",
   "metadata": {},
   "source": [
    "Load weights and predict using trained model"
   ]
  },
  {
   "cell_type": "code",
   "execution_count": null,
   "metadata": {},
   "outputs": [],
   "source": [
    "model.model.load_weights('model/')\n",
    "model.predict_ongrid(task, reference_grid=era5_ds)['std'].plot()"
   ]
  },
  {
   "cell_type": "code",
   "execution_count": null,
   "metadata": {},
   "outputs": [],
   "source": []
  }
 ],
 "metadata": {
  "kernelspec": {
   "display_name": "Python 3 (ipykernel)",
   "language": "python",
   "name": "python3"
  },
  "language_info": {
   "codemirror_mode": {
    "name": "ipython",
    "version": 3
   },
   "file_extension": ".py",
   "mimetype": "text/x-python",
   "name": "python",
   "nbconvert_exporter": "python",
   "pygments_lexer": "ipython3",
   "version": "3.11.3"
  }
 },
 "nbformat": 4,
 "nbformat_minor": 1
}
